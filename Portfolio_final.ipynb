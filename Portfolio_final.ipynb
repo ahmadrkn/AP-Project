{
 "cells": [
  {
   "cell_type": "code",
   "execution_count": 76,
   "metadata": {},
   "outputs": [],
   "source": [
    "import pandas as pd\n",
    "from glob import glob\n",
    "from time import strftime, sleep\n",
    "import numpy as np\n",
    "import statsmodels.api as sm\n",
    "from datetime import datetime\n",
    "from pandas_datareader import data as pdr\n",
    "from pandas.tseries.offsets import BDay\n",
    "import yfinance as yf\n",
    "yf.pdr_override()"
   ]
  },
  {
   "cell_type": "code",
   "execution_count": 77,
   "metadata": {},
   "outputs": [],
   "source": [
    "def add_transaction(ticker, quantity, type, price, excel_file_name, date=datetime.now(),  fee=0):\n",
    "    # Read existing data from Excel file\n",
    "    try:\n",
    "        df = pd.read_excel(excel_file_name)\n",
    "    except FileNotFoundError:\n",
    "        # If file doesn't exist, create a new DataFrame\n",
    "        df = pd.DataFrame(columns=['date', 'type' ,'ticker', 'quantity', 'price', 'fees',\n",
    "                                    'transact_val', 'last_occurence', 'cashflow', 'prev_units',\n",
    "                                    'cml_units', 'prev_cost', 'cml_cost', 'cost_unit', \n",
    "                                    'cost_transact', 'gain_loss', 'yield', 'avg_price'\n",
    "                                    ])\n",
    "\n",
    "\n",
    "    # compute value of the transaction\n",
    "    transact_val = price * quantity\n",
    "\n",
    "    # gives the index of the previous transaction of a given stock (chatgpt)\n",
    "    last_occurence = df[df['ticker'] == ticker].index.max() if ticker in df['ticker'].unique() else None\n",
    "\n",
    "    # gives the cash-flow of the transaction\n",
    "    if type == 'Buy':\n",
    "        cashflow = transact_val * -1\n",
    "    else:\n",
    "        cashflow = transact_val\n",
    "\n",
    "    cml_unit = quantity\n",
    "    \n",
    "    if last_occurence is not None:\n",
    "        # gives the quantities of the last transaction of a stock\n",
    "        prev_unit = df['quantity'].iloc[last_occurence]\n",
    "\n",
    "        # gives buying price\n",
    "        prev_cost = prev_unit * df['price'].iloc[last_occurence]\n",
    "\n",
    "        if type == 'Sell':\n",
    "            cost_unit = df['price'].iloc[last_occurence]\n",
    "            cost_transact = quantity * cost_unit\n",
    "            gain_loss = transact_val - cost_transact\n",
    "            y = gain_loss / cost_transact\n",
    "            cml_unit = df['cml_units'].iloc[last_occurence] - quantity\n",
    "            cml_cost = prev_cost - cost_transact\n",
    "        else:\n",
    "            cost_unit = 0\n",
    "            cost_transact = 0\n",
    "            gain_loss = 0\n",
    "            y = 0\n",
    "            cml_unit = df['cml_units'].iloc[last_occurence] + quantity\n",
    "            cml_cost = df['cml_cost'].iloc[last_occurence] + transact_val\n",
    "\n",
    "        avg_price = cml_cost / cml_unit\n",
    "\n",
    "\n",
    "    # Append new transaction to the DataFrame\n",
    "        new_transaction = pd.DataFrame({\n",
    "            'date': [date],\n",
    "            'type': [type],\n",
    "            'ticker': [ticker],\n",
    "            'quantity': [quantity],\n",
    "            'price': [price],\n",
    "            'fees': [fee],\n",
    "            'transact_val': [transact_val],\n",
    "            'last_occurence': [last_occurence],\n",
    "            'cashflow': [cashflow],\n",
    "            'prev_units': [prev_unit],\n",
    "            'cml_units': [cml_unit],\n",
    "            'prev_cost': [prev_cost],\n",
    "            'cml_cost': [cml_cost],\n",
    "            'cost_unit': [cost_unit],\n",
    "            'cost_transact': [cost_transact],\n",
    "            'gain_loss': [gain_loss],\n",
    "            'yield': [y],\n",
    "            'avg_price': [avg_price]\n",
    "        })\n",
    "    else:\n",
    "        new_transaction = pd.DataFrame({\n",
    "            'date': [date],\n",
    "            'type': [type],\n",
    "            'ticker': [ticker],\n",
    "            'quantity': [quantity],\n",
    "            'price': [price],\n",
    "            'fees': [fee],\n",
    "            'transact_val': [transact_val],\n",
    "            'last_occurence': [last_occurence],\n",
    "            'cashflow': [cashflow],\n",
    "            'cml_units': [cml_unit],\n",
    "            'cml_cost': [transact_val]\n",
    "        })\n",
    "    df = pd.concat([df, new_transaction], ignore_index=True)\n",
    "\n",
    "        # Save DataFrame to Excel file\n",
    "    df.to_excel(excel_file_name, index=False)\n",
    "    print(\"Transaction added successfully.\")"
   ]
  },
  {
   "cell_type": "code",
   "execution_count": 83,
   "metadata": {},
   "outputs": [
    {
     "name": "stdout",
     "output_type": "stream",
     "text": [
      "Transaction added successfully.\n"
     ]
    }
   ],
   "source": [
    "# Simulation of orders for the exemple\n",
    "if __name__ == \"__main__\":\n",
    "    # add_transaction('AAPL', 20, 'Buy', 179.48, 'portfolio_transactions.xlsx', date=datetime(2022, 1, 3, 19, 0, 0))\n",
    "    # add_transaction('GOOGL', 20, 'Buy', 144.99, 'portfolio_transactions.xlsx', date=datetime(2022, 1, 3, 19, 0, 0))\n",
    "    # add_transaction('TSLA', 20, 'Buy', 399.92, 'portfolio_transactions.xlsx', date=datetime(2022, 1, 3, 19, 0, 0))\n",
    "    # add_transaction('AMZN', 20, 'Buy', 170.40, 'portfolio_transactions.xlsx', date=datetime(2022, 1, 3, 19, 0, 0))\n",
    "    # add_transaction('V', 20, 'Buy', 217.63, 'portfolio_transactions.xlsx', date=datetime(2022, 1, 3, 19, 0, 0))\n",
    "    # add_transaction('JPM', 20, 'Buy', 150.40, 'portfolio_transactions.xlsx', date=datetime(2022, 1, 3, 19, 0, 0))\n",
    "    # add_transaction('JNJ', 20, 'Buy', 161, 'portfolio_transactions.xlsx', date=datetime(2022, 1, 3, 19, 0, 0))\n",
    "    # add_transaction('MA', 20, 'Buy', 365.37, 'portfolio_transactions.xlsx', date=datetime(2022, 1, 3, 19, 0, 0))\n",
    "    # add_transaction('UNH', 20, 'Buy', 486.65, 'portfolio_transactions.xlsx', date=datetime(2022, 1, 3, 19, 0, 0))\n",
    "    # add_transaction('PG', 20, 'Buy', 153.05, 'portfolio_transactions.xlsx', date=datetime(2022, 1, 3, 19, 0, 0))\n",
    "    # add_transaction('PYPL', 20, 'Buy', 194.94, 'portfolio_transactions.xlsx', date=datetime(2022, 1, 3, 19, 0, 0))\n",
    "    # add_transaction('AAPL', 5, 'Sell', 169.94, 'portfolio_transactions.xlsx', date=datetime(2022, 2, 10, 19, 0, 0))\n",
    "    # add_transaction('AMZN', 10, 'Sell', 156.51, 'portfolio_transactions.xlsx', date=datetime(2022, 3, 10, 19, 0, 0))\n",
    "    # add_transaction('V', 5, 'Sell', 211.40, 'portfolio_transactions.xlsx', date=datetime(2022, 4, 11, 19, 0, 0))\n",
    "    # add_transaction('AAPL', 10, 'Buy', 150.35, 'portfolio_transactions.xlsx', date=datetime(2022, 5, 9, 19, 0, 0))\n",
    "    # add_transaction('V', 5, 'Buy', 203.30, 'portfolio_transactions.xlsx', date=datetime(2022, 6, 9, 19, 0, 0))\n",
    "    add_transaction('TSLA', 10, 'Sell', 179.24, 'portfolio_transactions.xlsx', date=datetime.now())"
   ]
  },
  {
   "cell_type": "code",
   "execution_count": 84,
   "metadata": {},
   "outputs": [],
   "source": [
    " # simple function to make headers nicer\n",
    "def clean_header(df): #str is pd function that allows you to play with the column and row labels (not sure about rows)\n",
    "    df.columns = df.columns.str.strip().str.lower().str.replace('.', '').str.replace('(', '').str.replace(')', '').str.replace(' ', '_').str.replace('_/_', '/')\n",
    "\n",
    "# timestamp for file names\n",
    "def get_now():\n",
    "    now = datetime.now().strftime('%Y-%m-%d_%Hh%Mm')\n",
    "    return now # getter that returns a datetime object of current day and hour"
   ]
  },
  {
   "cell_type": "code",
   "execution_count": 85,
   "metadata": {},
   "outputs": [],
   "source": [
    "all_transactions = pd.read_excel('/Users/ahmadroukain/PycharmProjects/pythonProject4/AP/Project/portfolio_transactions.xlsx')\n",
    "# all_transactions.date = pd.to_datetime(all_transactions.date, format='%d/%m/%Y')"
   ]
  },
  {
   "cell_type": "code",
   "execution_count": 86,
   "metadata": {},
   "outputs": [
    {
     "name": "stdout",
     "output_type": "stream",
     "text": [
      "You traded 11 different stocks\n"
     ]
    }
   ],
   "source": [
    "all_tickers = list(all_transactions['ticker'].unique())\n",
    "# some tickers may have been delisted. need to blacklist them here\n",
    "blacklist = ['VSLR', 'HTZ', 'FB', 'VIAC', 'TWTR', 'XLNX']\n",
    "filt_tickers = [tick for tick in all_tickers if tick not in blacklist]\n",
    "print('You traded {} different stocks'.format(len(all_tickers)))"
   ]
  },
  {
   "cell_type": "code",
   "execution_count": 87,
   "metadata": {},
   "outputs": [
    {
     "data": {
      "text/html": [
       "<div>\n",
       "<style scoped>\n",
       "    .dataframe tbody tr th:only-of-type {\n",
       "        vertical-align: middle;\n",
       "    }\n",
       "\n",
       "    .dataframe tbody tr th {\n",
       "        vertical-align: top;\n",
       "    }\n",
       "\n",
       "    .dataframe thead th {\n",
       "        text-align: right;\n",
       "    }\n",
       "</style>\n",
       "<table border=\"1\" class=\"dataframe\">\n",
       "  <thead>\n",
       "    <tr style=\"text-align: right;\">\n",
       "      <th></th>\n",
       "      <th>date</th>\n",
       "      <th>type</th>\n",
       "      <th>ticker</th>\n",
       "      <th>quantity</th>\n",
       "      <th>price</th>\n",
       "      <th>fees</th>\n",
       "      <th>transact_val</th>\n",
       "      <th>last_occurence</th>\n",
       "      <th>cashflow</th>\n",
       "      <th>prev_units</th>\n",
       "      <th>cml_units</th>\n",
       "      <th>prev_cost</th>\n",
       "      <th>cml_cost</th>\n",
       "      <th>cost_unit</th>\n",
       "      <th>cost_transact</th>\n",
       "      <th>gain_loss</th>\n",
       "      <th>yield</th>\n",
       "      <th>avg_price</th>\n",
       "    </tr>\n",
       "  </thead>\n",
       "  <tbody>\n",
       "    <tr>\n",
       "      <th>0</th>\n",
       "      <td>2022-01-03 19:00:00.000</td>\n",
       "      <td>Buy</td>\n",
       "      <td>AAPL</td>\n",
       "      <td>20</td>\n",
       "      <td>179.48</td>\n",
       "      <td>0</td>\n",
       "      <td>3589.6</td>\n",
       "      <td>NaN</td>\n",
       "      <td>-3589.6</td>\n",
       "      <td>NaN</td>\n",
       "      <td>20</td>\n",
       "      <td>NaN</td>\n",
       "      <td>3589.60</td>\n",
       "      <td>NaN</td>\n",
       "      <td>NaN</td>\n",
       "      <td>NaN</td>\n",
       "      <td>NaN</td>\n",
       "      <td>NaN</td>\n",
       "    </tr>\n",
       "    <tr>\n",
       "      <th>1</th>\n",
       "      <td>2022-01-03 19:00:00.000</td>\n",
       "      <td>Buy</td>\n",
       "      <td>GOOGL</td>\n",
       "      <td>20</td>\n",
       "      <td>144.99</td>\n",
       "      <td>0</td>\n",
       "      <td>2899.8</td>\n",
       "      <td>NaN</td>\n",
       "      <td>-2899.8</td>\n",
       "      <td>NaN</td>\n",
       "      <td>20</td>\n",
       "      <td>NaN</td>\n",
       "      <td>2899.80</td>\n",
       "      <td>NaN</td>\n",
       "      <td>NaN</td>\n",
       "      <td>NaN</td>\n",
       "      <td>NaN</td>\n",
       "      <td>NaN</td>\n",
       "    </tr>\n",
       "    <tr>\n",
       "      <th>2</th>\n",
       "      <td>2022-01-03 19:00:00.000</td>\n",
       "      <td>Buy</td>\n",
       "      <td>TSLA</td>\n",
       "      <td>20</td>\n",
       "      <td>399.92</td>\n",
       "      <td>0</td>\n",
       "      <td>7998.4</td>\n",
       "      <td>NaN</td>\n",
       "      <td>-7998.4</td>\n",
       "      <td>NaN</td>\n",
       "      <td>20</td>\n",
       "      <td>NaN</td>\n",
       "      <td>7998.40</td>\n",
       "      <td>NaN</td>\n",
       "      <td>NaN</td>\n",
       "      <td>NaN</td>\n",
       "      <td>NaN</td>\n",
       "      <td>NaN</td>\n",
       "    </tr>\n",
       "    <tr>\n",
       "      <th>3</th>\n",
       "      <td>2022-01-03 19:00:00.000</td>\n",
       "      <td>Buy</td>\n",
       "      <td>AMZN</td>\n",
       "      <td>20</td>\n",
       "      <td>170.40</td>\n",
       "      <td>0</td>\n",
       "      <td>3408.0</td>\n",
       "      <td>NaN</td>\n",
       "      <td>-3408.0</td>\n",
       "      <td>NaN</td>\n",
       "      <td>20</td>\n",
       "      <td>NaN</td>\n",
       "      <td>3408.00</td>\n",
       "      <td>NaN</td>\n",
       "      <td>NaN</td>\n",
       "      <td>NaN</td>\n",
       "      <td>NaN</td>\n",
       "      <td>NaN</td>\n",
       "    </tr>\n",
       "    <tr>\n",
       "      <th>4</th>\n",
       "      <td>2022-01-03 19:00:00.000</td>\n",
       "      <td>Buy</td>\n",
       "      <td>V</td>\n",
       "      <td>20</td>\n",
       "      <td>217.63</td>\n",
       "      <td>0</td>\n",
       "      <td>4352.6</td>\n",
       "      <td>NaN</td>\n",
       "      <td>-4352.6</td>\n",
       "      <td>NaN</td>\n",
       "      <td>20</td>\n",
       "      <td>NaN</td>\n",
       "      <td>4352.60</td>\n",
       "      <td>NaN</td>\n",
       "      <td>NaN</td>\n",
       "      <td>NaN</td>\n",
       "      <td>NaN</td>\n",
       "      <td>NaN</td>\n",
       "    </tr>\n",
       "    <tr>\n",
       "      <th>5</th>\n",
       "      <td>2022-01-03 19:00:00.000</td>\n",
       "      <td>Buy</td>\n",
       "      <td>JPM</td>\n",
       "      <td>20</td>\n",
       "      <td>150.40</td>\n",
       "      <td>0</td>\n",
       "      <td>3008.0</td>\n",
       "      <td>NaN</td>\n",
       "      <td>-3008.0</td>\n",
       "      <td>NaN</td>\n",
       "      <td>20</td>\n",
       "      <td>NaN</td>\n",
       "      <td>3008.00</td>\n",
       "      <td>NaN</td>\n",
       "      <td>NaN</td>\n",
       "      <td>NaN</td>\n",
       "      <td>NaN</td>\n",
       "      <td>NaN</td>\n",
       "    </tr>\n",
       "    <tr>\n",
       "      <th>6</th>\n",
       "      <td>2022-01-03 19:00:00.000</td>\n",
       "      <td>Buy</td>\n",
       "      <td>JNJ</td>\n",
       "      <td>20</td>\n",
       "      <td>161.00</td>\n",
       "      <td>0</td>\n",
       "      <td>3220.0</td>\n",
       "      <td>NaN</td>\n",
       "      <td>-3220.0</td>\n",
       "      <td>NaN</td>\n",
       "      <td>20</td>\n",
       "      <td>NaN</td>\n",
       "      <td>3220.00</td>\n",
       "      <td>NaN</td>\n",
       "      <td>NaN</td>\n",
       "      <td>NaN</td>\n",
       "      <td>NaN</td>\n",
       "      <td>NaN</td>\n",
       "    </tr>\n",
       "    <tr>\n",
       "      <th>7</th>\n",
       "      <td>2022-01-03 19:00:00.000</td>\n",
       "      <td>Buy</td>\n",
       "      <td>MA</td>\n",
       "      <td>20</td>\n",
       "      <td>365.37</td>\n",
       "      <td>0</td>\n",
       "      <td>7307.4</td>\n",
       "      <td>NaN</td>\n",
       "      <td>-7307.4</td>\n",
       "      <td>NaN</td>\n",
       "      <td>20</td>\n",
       "      <td>NaN</td>\n",
       "      <td>7307.40</td>\n",
       "      <td>NaN</td>\n",
       "      <td>NaN</td>\n",
       "      <td>NaN</td>\n",
       "      <td>NaN</td>\n",
       "      <td>NaN</td>\n",
       "    </tr>\n",
       "    <tr>\n",
       "      <th>8</th>\n",
       "      <td>2022-01-03 19:00:00.000</td>\n",
       "      <td>Buy</td>\n",
       "      <td>UNH</td>\n",
       "      <td>20</td>\n",
       "      <td>486.65</td>\n",
       "      <td>0</td>\n",
       "      <td>9733.0</td>\n",
       "      <td>NaN</td>\n",
       "      <td>-9733.0</td>\n",
       "      <td>NaN</td>\n",
       "      <td>20</td>\n",
       "      <td>NaN</td>\n",
       "      <td>9733.00</td>\n",
       "      <td>NaN</td>\n",
       "      <td>NaN</td>\n",
       "      <td>NaN</td>\n",
       "      <td>NaN</td>\n",
       "      <td>NaN</td>\n",
       "    </tr>\n",
       "    <tr>\n",
       "      <th>9</th>\n",
       "      <td>2022-01-03 19:00:00.000</td>\n",
       "      <td>Buy</td>\n",
       "      <td>PG</td>\n",
       "      <td>20</td>\n",
       "      <td>153.05</td>\n",
       "      <td>0</td>\n",
       "      <td>3061.0</td>\n",
       "      <td>NaN</td>\n",
       "      <td>-3061.0</td>\n",
       "      <td>NaN</td>\n",
       "      <td>20</td>\n",
       "      <td>NaN</td>\n",
       "      <td>3061.00</td>\n",
       "      <td>NaN</td>\n",
       "      <td>NaN</td>\n",
       "      <td>NaN</td>\n",
       "      <td>NaN</td>\n",
       "      <td>NaN</td>\n",
       "    </tr>\n",
       "    <tr>\n",
       "      <th>10</th>\n",
       "      <td>2022-01-03 19:00:00.000</td>\n",
       "      <td>Buy</td>\n",
       "      <td>PYPL</td>\n",
       "      <td>20</td>\n",
       "      <td>194.94</td>\n",
       "      <td>0</td>\n",
       "      <td>3898.8</td>\n",
       "      <td>NaN</td>\n",
       "      <td>-3898.8</td>\n",
       "      <td>NaN</td>\n",
       "      <td>20</td>\n",
       "      <td>NaN</td>\n",
       "      <td>3898.80</td>\n",
       "      <td>NaN</td>\n",
       "      <td>NaN</td>\n",
       "      <td>NaN</td>\n",
       "      <td>NaN</td>\n",
       "      <td>NaN</td>\n",
       "    </tr>\n",
       "    <tr>\n",
       "      <th>11</th>\n",
       "      <td>2022-02-10 19:00:00.000</td>\n",
       "      <td>Sell</td>\n",
       "      <td>AAPL</td>\n",
       "      <td>5</td>\n",
       "      <td>169.94</td>\n",
       "      <td>0</td>\n",
       "      <td>849.7</td>\n",
       "      <td>0.0</td>\n",
       "      <td>849.7</td>\n",
       "      <td>20.0</td>\n",
       "      <td>15</td>\n",
       "      <td>3589.6</td>\n",
       "      <td>2692.20</td>\n",
       "      <td>179.48</td>\n",
       "      <td>897.40</td>\n",
       "      <td>-47.70</td>\n",
       "      <td>-0.053154</td>\n",
       "      <td>179.4800</td>\n",
       "    </tr>\n",
       "    <tr>\n",
       "      <th>12</th>\n",
       "      <td>2022-03-10 19:00:00.000</td>\n",
       "      <td>Sell</td>\n",
       "      <td>AMZN</td>\n",
       "      <td>10</td>\n",
       "      <td>156.51</td>\n",
       "      <td>0</td>\n",
       "      <td>1565.1</td>\n",
       "      <td>3.0</td>\n",
       "      <td>1565.1</td>\n",
       "      <td>20.0</td>\n",
       "      <td>10</td>\n",
       "      <td>3408.0</td>\n",
       "      <td>1704.00</td>\n",
       "      <td>170.40</td>\n",
       "      <td>1704.00</td>\n",
       "      <td>-138.90</td>\n",
       "      <td>-0.081514</td>\n",
       "      <td>170.4000</td>\n",
       "    </tr>\n",
       "    <tr>\n",
       "      <th>13</th>\n",
       "      <td>2022-04-11 19:00:00.000</td>\n",
       "      <td>Sell</td>\n",
       "      <td>V</td>\n",
       "      <td>5</td>\n",
       "      <td>211.40</td>\n",
       "      <td>0</td>\n",
       "      <td>1057.0</td>\n",
       "      <td>4.0</td>\n",
       "      <td>1057.0</td>\n",
       "      <td>20.0</td>\n",
       "      <td>15</td>\n",
       "      <td>4352.6</td>\n",
       "      <td>3264.45</td>\n",
       "      <td>217.63</td>\n",
       "      <td>1088.15</td>\n",
       "      <td>-31.15</td>\n",
       "      <td>-0.028627</td>\n",
       "      <td>217.6300</td>\n",
       "    </tr>\n",
       "    <tr>\n",
       "      <th>14</th>\n",
       "      <td>2022-05-09 19:00:00.000</td>\n",
       "      <td>Buy</td>\n",
       "      <td>AAPL</td>\n",
       "      <td>10</td>\n",
       "      <td>150.35</td>\n",
       "      <td>0</td>\n",
       "      <td>1503.5</td>\n",
       "      <td>11.0</td>\n",
       "      <td>-1503.5</td>\n",
       "      <td>5.0</td>\n",
       "      <td>25</td>\n",
       "      <td>849.7</td>\n",
       "      <td>4195.70</td>\n",
       "      <td>0.00</td>\n",
       "      <td>0.00</td>\n",
       "      <td>0.00</td>\n",
       "      <td>0.000000</td>\n",
       "      <td>167.8280</td>\n",
       "    </tr>\n",
       "    <tr>\n",
       "      <th>15</th>\n",
       "      <td>2022-06-09 19:00:00.000</td>\n",
       "      <td>Buy</td>\n",
       "      <td>V</td>\n",
       "      <td>5</td>\n",
       "      <td>203.30</td>\n",
       "      <td>0</td>\n",
       "      <td>1016.5</td>\n",
       "      <td>13.0</td>\n",
       "      <td>-1016.5</td>\n",
       "      <td>5.0</td>\n",
       "      <td>20</td>\n",
       "      <td>1057.0</td>\n",
       "      <td>4280.95</td>\n",
       "      <td>0.00</td>\n",
       "      <td>0.00</td>\n",
       "      <td>0.00</td>\n",
       "      <td>0.000000</td>\n",
       "      <td>214.0475</td>\n",
       "    </tr>\n",
       "    <tr>\n",
       "      <th>16</th>\n",
       "      <td>2024-05-26 23:02:48.310</td>\n",
       "      <td>Sell</td>\n",
       "      <td>TSLA</td>\n",
       "      <td>10</td>\n",
       "      <td>179.24</td>\n",
       "      <td>0</td>\n",
       "      <td>1792.4</td>\n",
       "      <td>2.0</td>\n",
       "      <td>1792.4</td>\n",
       "      <td>20.0</td>\n",
       "      <td>10</td>\n",
       "      <td>7998.4</td>\n",
       "      <td>3999.20</td>\n",
       "      <td>399.92</td>\n",
       "      <td>3999.20</td>\n",
       "      <td>-2206.80</td>\n",
       "      <td>-0.551810</td>\n",
       "      <td>399.9200</td>\n",
       "    </tr>\n",
       "  </tbody>\n",
       "</table>\n",
       "</div>"
      ],
      "text/plain": [
       "                      date  type ticker  quantity   price  fees  transact_val  \\\n",
       "0  2022-01-03 19:00:00.000   Buy   AAPL        20  179.48     0        3589.6   \n",
       "1  2022-01-03 19:00:00.000   Buy  GOOGL        20  144.99     0        2899.8   \n",
       "2  2022-01-03 19:00:00.000   Buy   TSLA        20  399.92     0        7998.4   \n",
       "3  2022-01-03 19:00:00.000   Buy   AMZN        20  170.40     0        3408.0   \n",
       "4  2022-01-03 19:00:00.000   Buy      V        20  217.63     0        4352.6   \n",
       "5  2022-01-03 19:00:00.000   Buy    JPM        20  150.40     0        3008.0   \n",
       "6  2022-01-03 19:00:00.000   Buy    JNJ        20  161.00     0        3220.0   \n",
       "7  2022-01-03 19:00:00.000   Buy     MA        20  365.37     0        7307.4   \n",
       "8  2022-01-03 19:00:00.000   Buy    UNH        20  486.65     0        9733.0   \n",
       "9  2022-01-03 19:00:00.000   Buy     PG        20  153.05     0        3061.0   \n",
       "10 2022-01-03 19:00:00.000   Buy   PYPL        20  194.94     0        3898.8   \n",
       "11 2022-02-10 19:00:00.000  Sell   AAPL         5  169.94     0         849.7   \n",
       "12 2022-03-10 19:00:00.000  Sell   AMZN        10  156.51     0        1565.1   \n",
       "13 2022-04-11 19:00:00.000  Sell      V         5  211.40     0        1057.0   \n",
       "14 2022-05-09 19:00:00.000   Buy   AAPL        10  150.35     0        1503.5   \n",
       "15 2022-06-09 19:00:00.000   Buy      V         5  203.30     0        1016.5   \n",
       "16 2024-05-26 23:02:48.310  Sell   TSLA        10  179.24     0        1792.4   \n",
       "\n",
       "    last_occurence  cashflow  prev_units  cml_units  prev_cost  cml_cost  \\\n",
       "0              NaN   -3589.6         NaN         20        NaN   3589.60   \n",
       "1              NaN   -2899.8         NaN         20        NaN   2899.80   \n",
       "2              NaN   -7998.4         NaN         20        NaN   7998.40   \n",
       "3              NaN   -3408.0         NaN         20        NaN   3408.00   \n",
       "4              NaN   -4352.6         NaN         20        NaN   4352.60   \n",
       "5              NaN   -3008.0         NaN         20        NaN   3008.00   \n",
       "6              NaN   -3220.0         NaN         20        NaN   3220.00   \n",
       "7              NaN   -7307.4         NaN         20        NaN   7307.40   \n",
       "8              NaN   -9733.0         NaN         20        NaN   9733.00   \n",
       "9              NaN   -3061.0         NaN         20        NaN   3061.00   \n",
       "10             NaN   -3898.8         NaN         20        NaN   3898.80   \n",
       "11             0.0     849.7        20.0         15     3589.6   2692.20   \n",
       "12             3.0    1565.1        20.0         10     3408.0   1704.00   \n",
       "13             4.0    1057.0        20.0         15     4352.6   3264.45   \n",
       "14            11.0   -1503.5         5.0         25      849.7   4195.70   \n",
       "15            13.0   -1016.5         5.0         20     1057.0   4280.95   \n",
       "16             2.0    1792.4        20.0         10     7998.4   3999.20   \n",
       "\n",
       "    cost_unit  cost_transact  gain_loss     yield  avg_price  \n",
       "0         NaN            NaN        NaN       NaN        NaN  \n",
       "1         NaN            NaN        NaN       NaN        NaN  \n",
       "2         NaN            NaN        NaN       NaN        NaN  \n",
       "3         NaN            NaN        NaN       NaN        NaN  \n",
       "4         NaN            NaN        NaN       NaN        NaN  \n",
       "5         NaN            NaN        NaN       NaN        NaN  \n",
       "6         NaN            NaN        NaN       NaN        NaN  \n",
       "7         NaN            NaN        NaN       NaN        NaN  \n",
       "8         NaN            NaN        NaN       NaN        NaN  \n",
       "9         NaN            NaN        NaN       NaN        NaN  \n",
       "10        NaN            NaN        NaN       NaN        NaN  \n",
       "11     179.48         897.40     -47.70 -0.053154   179.4800  \n",
       "12     170.40        1704.00    -138.90 -0.081514   170.4000  \n",
       "13     217.63        1088.15     -31.15 -0.028627   217.6300  \n",
       "14       0.00           0.00       0.00  0.000000   167.8280  \n",
       "15       0.00           0.00       0.00  0.000000   214.0475  \n",
       "16     399.92        3999.20   -2206.80 -0.551810   399.9200  "
      ]
     },
     "execution_count": 87,
     "metadata": {},
     "output_type": "execute_result"
    }
   ],
   "source": [
    "# creates a new file with the filtred stocks\n",
    "final_filtered = all_transactions[~all_transactions.ticker.isin(blacklist)]\n",
    "final_filtered"
   ]
  },
  {
   "cell_type": "code",
   "execution_count": 88,
   "metadata": {},
   "outputs": [
    {
     "name": "stderr",
     "output_type": "stream",
     "text": [
      "[*********************100%%**********************]  1 of 1 completed\n",
      "[*********************100%%**********************]  1 of 1 completed\n",
      "[*********************100%%**********************]  1 of 1 completed\n",
      "[*********************100%%**********************]  1 of 1 completed\n",
      "[*********************100%%**********************]  1 of 1 completed\n",
      "[*********************100%%**********************]  1 of 1 completed\n",
      "[*********************100%%**********************]  1 of 1 completed\n",
      "[*********************100%%**********************]  1 of 1 completed\n",
      "[*********************100%%**********************]  1 of 1 completed\n",
      "[*********************100%%**********************]  1 of 1 completed\n",
      "[*********************100%%**********************]  1 of 1 completed\n"
     ]
    }
   ],
   "source": [
    "ly = datetime.today().year-1\n",
    "today = datetime.today()\n",
    "start_sp = datetime(2022, 1, 3, 19, 0, 0)\n",
    "end_sp = today\n",
    "start_stocks = datetime(2022, 1, 3, 19, 0, 0)\n",
    "end_stocks = today\n",
    "start_ytd = datetime(ly, 12, 31) + BDay(1)\n",
    "\n",
    "def get(tickers, startdate, enddate):\n",
    "    def data(ticker):\n",
    "        return (pdr.get_data_yahoo(ticker, start=startdate, end=enddate))\n",
    "    datas = map(data, tickers)\n",
    "    return(pd.concat(datas, keys=tickers, names=['ticker', 'date']))\n",
    "               \n",
    "all_data = get(filt_tickers, start_stocks, end_stocks)"
   ]
  },
  {
   "cell_type": "code",
   "execution_count": 89,
   "metadata": {},
   "outputs": [],
   "source": [
    "clean_header(all_data)"
   ]
  },
  {
   "cell_type": "code",
   "execution_count": 90,
   "metadata": {},
   "outputs": [],
   "source": [
    "# saving all stock prices individually to the specified folder\n",
    "for tick in filt_tickers:\n",
    "    all_data.loc[tick].to_csv('/Users/ahmadroukain/PycharmProjects/pythonProject4/AP/Project{}_price_hist.csv'.format(tick))"
   ]
  },
  {
   "cell_type": "code",
   "execution_count": 91,
   "metadata": {},
   "outputs": [
    {
     "name": "stderr",
     "output_type": "stream",
     "text": [
      "/var/folders/zq/cl9wyfm13sq150n30b6r3_6m0000gn/T/ipykernel_47779/3249509493.py:19: FutureWarning:\n",
      "\n",
      "The 'method' keyword in Series.replace is deprecated and will be removed in a future version.\n",
      "\n",
      "/var/folders/zq/cl9wyfm13sq150n30b6r3_6m0000gn/T/ipykernel_47779/3249509493.py:20: FutureWarning:\n",
      "\n",
      "The 'method' keyword in Series.replace is deprecated and will be removed in a future version.\n",
      "\n",
      "/var/folders/zq/cl9wyfm13sq150n30b6r3_6m0000gn/T/ipykernel_47779/3249509493.py:21: FutureWarning:\n",
      "\n",
      "The 'method' keyword in Series.replace is deprecated and will be removed in a future version.\n",
      "\n",
      "/var/folders/zq/cl9wyfm13sq150n30b6r3_6m0000gn/T/ipykernel_47779/3249509493.py:19: FutureWarning:\n",
      "\n",
      "The 'method' keyword in Series.replace is deprecated and will be removed in a future version.\n",
      "\n",
      "/var/folders/zq/cl9wyfm13sq150n30b6r3_6m0000gn/T/ipykernel_47779/3249509493.py:20: FutureWarning:\n",
      "\n",
      "The 'method' keyword in Series.replace is deprecated and will be removed in a future version.\n",
      "\n",
      "/var/folders/zq/cl9wyfm13sq150n30b6r3_6m0000gn/T/ipykernel_47779/3249509493.py:21: FutureWarning:\n",
      "\n",
      "The 'method' keyword in Series.replace is deprecated and will be removed in a future version.\n",
      "\n",
      "/var/folders/zq/cl9wyfm13sq150n30b6r3_6m0000gn/T/ipykernel_47779/3249509493.py:19: FutureWarning:\n",
      "\n",
      "The 'method' keyword in Series.replace is deprecated and will be removed in a future version.\n",
      "\n",
      "/var/folders/zq/cl9wyfm13sq150n30b6r3_6m0000gn/T/ipykernel_47779/3249509493.py:20: FutureWarning:\n",
      "\n",
      "The 'method' keyword in Series.replace is deprecated and will be removed in a future version.\n",
      "\n",
      "/var/folders/zq/cl9wyfm13sq150n30b6r3_6m0000gn/T/ipykernel_47779/3249509493.py:21: FutureWarning:\n",
      "\n",
      "The 'method' keyword in Series.replace is deprecated and will be removed in a future version.\n",
      "\n",
      "/var/folders/zq/cl9wyfm13sq150n30b6r3_6m0000gn/T/ipykernel_47779/3249509493.py:19: FutureWarning:\n",
      "\n",
      "The 'method' keyword in Series.replace is deprecated and will be removed in a future version.\n",
      "\n",
      "/var/folders/zq/cl9wyfm13sq150n30b6r3_6m0000gn/T/ipykernel_47779/3249509493.py:20: FutureWarning:\n",
      "\n",
      "The 'method' keyword in Series.replace is deprecated and will be removed in a future version.\n",
      "\n",
      "/var/folders/zq/cl9wyfm13sq150n30b6r3_6m0000gn/T/ipykernel_47779/3249509493.py:21: FutureWarning:\n",
      "\n",
      "The 'method' keyword in Series.replace is deprecated and will be removed in a future version.\n",
      "\n",
      "/var/folders/zq/cl9wyfm13sq150n30b6r3_6m0000gn/T/ipykernel_47779/3249509493.py:19: FutureWarning:\n",
      "\n",
      "The 'method' keyword in Series.replace is deprecated and will be removed in a future version.\n",
      "\n",
      "/var/folders/zq/cl9wyfm13sq150n30b6r3_6m0000gn/T/ipykernel_47779/3249509493.py:20: FutureWarning:\n",
      "\n",
      "The 'method' keyword in Series.replace is deprecated and will be removed in a future version.\n",
      "\n",
      "/var/folders/zq/cl9wyfm13sq150n30b6r3_6m0000gn/T/ipykernel_47779/3249509493.py:21: FutureWarning:\n",
      "\n",
      "The 'method' keyword in Series.replace is deprecated and will be removed in a future version.\n",
      "\n",
      "/var/folders/zq/cl9wyfm13sq150n30b6r3_6m0000gn/T/ipykernel_47779/3249509493.py:19: FutureWarning:\n",
      "\n",
      "The 'method' keyword in Series.replace is deprecated and will be removed in a future version.\n",
      "\n",
      "/var/folders/zq/cl9wyfm13sq150n30b6r3_6m0000gn/T/ipykernel_47779/3249509493.py:20: FutureWarning:\n",
      "\n",
      "The 'method' keyword in Series.replace is deprecated and will be removed in a future version.\n",
      "\n",
      "/var/folders/zq/cl9wyfm13sq150n30b6r3_6m0000gn/T/ipykernel_47779/3249509493.py:21: FutureWarning:\n",
      "\n",
      "The 'method' keyword in Series.replace is deprecated and will be removed in a future version.\n",
      "\n",
      "/var/folders/zq/cl9wyfm13sq150n30b6r3_6m0000gn/T/ipykernel_47779/3249509493.py:19: FutureWarning:\n",
      "\n",
      "The 'method' keyword in Series.replace is deprecated and will be removed in a future version.\n",
      "\n",
      "/var/folders/zq/cl9wyfm13sq150n30b6r3_6m0000gn/T/ipykernel_47779/3249509493.py:20: FutureWarning:\n",
      "\n",
      "The 'method' keyword in Series.replace is deprecated and will be removed in a future version.\n",
      "\n",
      "/var/folders/zq/cl9wyfm13sq150n30b6r3_6m0000gn/T/ipykernel_47779/3249509493.py:21: FutureWarning:\n",
      "\n",
      "The 'method' keyword in Series.replace is deprecated and will be removed in a future version.\n",
      "\n",
      "/var/folders/zq/cl9wyfm13sq150n30b6r3_6m0000gn/T/ipykernel_47779/3249509493.py:19: FutureWarning:\n",
      "\n",
      "The 'method' keyword in Series.replace is deprecated and will be removed in a future version.\n",
      "\n",
      "/var/folders/zq/cl9wyfm13sq150n30b6r3_6m0000gn/T/ipykernel_47779/3249509493.py:20: FutureWarning:\n",
      "\n",
      "The 'method' keyword in Series.replace is deprecated and will be removed in a future version.\n",
      "\n",
      "/var/folders/zq/cl9wyfm13sq150n30b6r3_6m0000gn/T/ipykernel_47779/3249509493.py:21: FutureWarning:\n",
      "\n",
      "The 'method' keyword in Series.replace is deprecated and will be removed in a future version.\n",
      "\n",
      "/var/folders/zq/cl9wyfm13sq150n30b6r3_6m0000gn/T/ipykernel_47779/3249509493.py:19: FutureWarning:\n",
      "\n",
      "The 'method' keyword in Series.replace is deprecated and will be removed in a future version.\n",
      "\n",
      "/var/folders/zq/cl9wyfm13sq150n30b6r3_6m0000gn/T/ipykernel_47779/3249509493.py:20: FutureWarning:\n",
      "\n",
      "The 'method' keyword in Series.replace is deprecated and will be removed in a future version.\n",
      "\n",
      "/var/folders/zq/cl9wyfm13sq150n30b6r3_6m0000gn/T/ipykernel_47779/3249509493.py:21: FutureWarning:\n",
      "\n",
      "The 'method' keyword in Series.replace is deprecated and will be removed in a future version.\n",
      "\n",
      "/var/folders/zq/cl9wyfm13sq150n30b6r3_6m0000gn/T/ipykernel_47779/3249509493.py:19: FutureWarning:\n",
      "\n",
      "The 'method' keyword in Series.replace is deprecated and will be removed in a future version.\n",
      "\n",
      "/var/folders/zq/cl9wyfm13sq150n30b6r3_6m0000gn/T/ipykernel_47779/3249509493.py:20: FutureWarning:\n",
      "\n",
      "The 'method' keyword in Series.replace is deprecated and will be removed in a future version.\n",
      "\n",
      "/var/folders/zq/cl9wyfm13sq150n30b6r3_6m0000gn/T/ipykernel_47779/3249509493.py:21: FutureWarning:\n",
      "\n",
      "The 'method' keyword in Series.replace is deprecated and will be removed in a future version.\n",
      "\n",
      "/var/folders/zq/cl9wyfm13sq150n30b6r3_6m0000gn/T/ipykernel_47779/3249509493.py:19: FutureWarning:\n",
      "\n",
      "The 'method' keyword in Series.replace is deprecated and will be removed in a future version.\n",
      "\n",
      "/var/folders/zq/cl9wyfm13sq150n30b6r3_6m0000gn/T/ipykernel_47779/3249509493.py:20: FutureWarning:\n",
      "\n",
      "The 'method' keyword in Series.replace is deprecated and will be removed in a future version.\n",
      "\n",
      "/var/folders/zq/cl9wyfm13sq150n30b6r3_6m0000gn/T/ipykernel_47779/3249509493.py:21: FutureWarning:\n",
      "\n",
      "The 'method' keyword in Series.replace is deprecated and will be removed in a future version.\n",
      "\n"
     ]
    }
   ],
   "source": [
    "MEGA_DICT = {}  # you have to create it first\n",
    "min_date = '2020-01-01'  # optional\n",
    "TX_COLUMNS = ['date','ticker', 'cashflow', 'cml_units', 'cml_cost', 'gain_loss']\n",
    "tx_filt = all_transactions[TX_COLUMNS]  # keeping just the most relevant ones for now\n",
    "\n",
    "for ticker in filt_tickers:\n",
    "    prices_df = all_data[all_data.index.get_level_values('ticker').isin([ticker])].reset_index()\n",
    "    ## Can add more columns like volume!\n",
    "    PX_COLS = ['date', 'adj_close']\n",
    "    prices_df = prices_df[prices_df.date >= min_date][PX_COLS].set_index(['date'])\n",
    "    # Making sure we get sameday transactions\n",
    "    tx_df = tx_filt[tx_filt.ticker==ticker].groupby('date').agg({'cashflow': 'sum',\n",
    "                                                                 'cml_units': 'last',\n",
    "                                                                 'cml_cost': 'last',\n",
    "                                                                 'gain_loss': 'sum'})\n",
    "    # Merging price history and transactions dataframe\n",
    "    tx_and_prices = pd.merge(prices_df, tx_df, how='outer', left_index=True, right_index=True).fillna(0)\n",
    "    # This is to fill the days that were not in our transaction dataframe\n",
    "    tx_and_prices['cml_units'] = tx_and_prices['cml_units'].replace(to_replace=0, method='ffill')\n",
    "    tx_and_prices['cml_cost'] = tx_and_prices['cml_cost'].replace(to_replace=0, method='ffill')\n",
    "    tx_and_prices['gain_loss'] = tx_and_prices['gain_loss'].replace(to_replace=0, method='ffill')\n",
    "    # Cumulative sum for the cashflow\n",
    "    tx_and_prices['cashflow'] = tx_and_prices['cashflow'].cumsum()\n",
    "    \n",
    "    tx_and_prices['avg_price'] = (tx_and_prices['cml_cost']/tx_and_prices['cml_units'])\n",
    "    tx_and_prices['mktvalue'] = (tx_and_prices['cml_units']*tx_and_prices['adj_close'])\n",
    "    tx_and_prices = tx_and_prices.add_prefix(ticker+'_')\n",
    "    # Once we're happy with the dataframe, add it to the dictionary\n",
    "    MEGA_DICT[ticker] = tx_and_prices.round(3)"
   ]
  },
  {
   "cell_type": "code",
   "execution_count": 92,
   "metadata": {},
   "outputs": [
    {
     "name": "stdout",
     "output_type": "stream",
     "text": [
      "<class 'pandas.core.frame.DataFrame'>\n",
      "DatetimeIndex: 608 entries, 2022-01-03 19:00:00 to 2024-05-26 23:02:48.310000\n",
      "Data columns (total 77 columns):\n",
      " #   Column           Non-Null Count  Dtype  \n",
      "---  ------           --------------  -----  \n",
      " 0   AAPL_adj_close   604 non-null    float64\n",
      " 1   AAPL_cashflow    604 non-null    float64\n",
      " 2   AAPL_cml_units   604 non-null    float64\n",
      " 3   AAPL_cml_cost    604 non-null    float64\n",
      " 4   AAPL_gain_loss   604 non-null    float64\n",
      " 5   AAPL_avg_price   604 non-null    float64\n",
      " 6   AAPL_mktvalue    604 non-null    float64\n",
      " 7   GOOGL_adj_close  602 non-null    float64\n",
      " 8   GOOGL_cashflow   602 non-null    float64\n",
      " 9   GOOGL_cml_units  602 non-null    float64\n",
      " 10  GOOGL_cml_cost   602 non-null    float64\n",
      " 11  GOOGL_gain_loss  602 non-null    float64\n",
      " 12  GOOGL_avg_price  602 non-null    float64\n",
      " 13  GOOGL_mktvalue   602 non-null    float64\n",
      " 14  TSLA_adj_close   603 non-null    float64\n",
      " 15  TSLA_cashflow    603 non-null    float64\n",
      " 16  TSLA_cml_units   603 non-null    float64\n",
      " 17  TSLA_cml_cost    603 non-null    float64\n",
      " 18  TSLA_gain_loss   603 non-null    float64\n",
      " 19  TSLA_avg_price   603 non-null    float64\n",
      " 20  TSLA_mktvalue    603 non-null    float64\n",
      " 21  AMZN_adj_close   603 non-null    float64\n",
      " 22  AMZN_cashflow    603 non-null    float64\n",
      " 23  AMZN_cml_units   603 non-null    float64\n",
      " 24  AMZN_cml_cost    603 non-null    float64\n",
      " 25  AMZN_gain_loss   603 non-null    float64\n",
      " 26  AMZN_avg_price   603 non-null    float64\n",
      " 27  AMZN_mktvalue    603 non-null    float64\n",
      " 28  V_adj_close      604 non-null    float64\n",
      " 29  V_cashflow       604 non-null    float64\n",
      " 30  V_cml_units      604 non-null    float64\n",
      " 31  V_cml_cost       604 non-null    float64\n",
      " 32  V_gain_loss      604 non-null    float64\n",
      " 33  V_avg_price      604 non-null    float64\n",
      " 34  V_mktvalue       604 non-null    float64\n",
      " 35  JPM_adj_close    602 non-null    float64\n",
      " 36  JPM_cashflow     602 non-null    float64\n",
      " 37  JPM_cml_units    602 non-null    float64\n",
      " 38  JPM_cml_cost     602 non-null    float64\n",
      " 39  JPM_gain_loss    602 non-null    float64\n",
      " 40  JPM_avg_price    602 non-null    float64\n",
      " 41  JPM_mktvalue     602 non-null    float64\n",
      " 42  JNJ_adj_close    602 non-null    float64\n",
      " 43  JNJ_cashflow     602 non-null    float64\n",
      " 44  JNJ_cml_units    602 non-null    float64\n",
      " 45  JNJ_cml_cost     602 non-null    float64\n",
      " 46  JNJ_gain_loss    602 non-null    float64\n",
      " 47  JNJ_avg_price    602 non-null    float64\n",
      " 48  JNJ_mktvalue     602 non-null    float64\n",
      " 49  MA_adj_close     602 non-null    float64\n",
      " 50  MA_cashflow      602 non-null    float64\n",
      " 51  MA_cml_units     602 non-null    float64\n",
      " 52  MA_cml_cost      602 non-null    float64\n",
      " 53  MA_gain_loss     602 non-null    float64\n",
      " 54  MA_avg_price     602 non-null    float64\n",
      " 55  MA_mktvalue      602 non-null    float64\n",
      " 56  UNH_adj_close    602 non-null    float64\n",
      " 57  UNH_cashflow     602 non-null    float64\n",
      " 58  UNH_cml_units    602 non-null    float64\n",
      " 59  UNH_cml_cost     602 non-null    float64\n",
      " 60  UNH_gain_loss    602 non-null    float64\n",
      " 61  UNH_avg_price    602 non-null    float64\n",
      " 62  UNH_mktvalue     602 non-null    float64\n",
      " 63  PG_adj_close     602 non-null    float64\n",
      " 64  PG_cashflow      602 non-null    float64\n",
      " 65  PG_cml_units     602 non-null    float64\n",
      " 66  PG_cml_cost      602 non-null    float64\n",
      " 67  PG_gain_loss     602 non-null    float64\n",
      " 68  PG_avg_price     602 non-null    float64\n",
      " 69  PG_mktvalue      602 non-null    float64\n",
      " 70  PYPL_adj_close   602 non-null    float64\n",
      " 71  PYPL_cashflow    602 non-null    float64\n",
      " 72  PYPL_cml_units   602 non-null    float64\n",
      " 73  PYPL_cml_cost    602 non-null    float64\n",
      " 74  PYPL_gain_loss   602 non-null    float64\n",
      " 75  PYPL_avg_price   602 non-null    float64\n",
      " 76  PYPL_mktvalue    602 non-null    float64\n",
      "dtypes: float64(77)\n",
      "memory usage: 370.5 KB\n"
     ]
    }
   ],
   "source": [
    "MEGA_DF = pd.concat(MEGA_DICT.values(), axis=1)\n",
    "MEGA_DF.to_csv('/Users/ahmadroukain/PycharmProjects/pythonProject4/AP/Project/MEGA_DF_{}.csv'.format(get_now()))  # optional\n",
    "MEGA_DF.info()"
   ]
  },
  {
   "cell_type": "code",
   "execution_count": 93,
   "metadata": {},
   "outputs": [
    {
     "name": "stdout",
     "output_type": "stream",
     "text": [
      "MEGA_DF_2024-05-26_23h05m.csv\n"
     ]
    }
   ],
   "source": [
    "last_file = glob('/Users/ahmadroukain/PycharmProjects/pythonProject4/AP/Project/MEGA*.csv')[-1] # path to file in the folder\n",
    "print(last_file[-(len(last_file))+(last_file.rfind('/')+1):])\n",
    "MEGA_DF = pd.read_csv(last_file)\n",
    "MEGA_DF['date'] = pd.to_datetime(MEGA_DF['date'])\n",
    "MEGA_DF.set_index('date', inplace=True)"
   ]
  },
  {
   "cell_type": "code",
   "execution_count": 94,
   "metadata": {},
   "outputs": [
    {
     "data": {
      "text/plain": [
       "date\n",
       "2022-01-03 19:00:00.000        0.000\n",
       "2022-01-04 00:00:00.000    51923.134\n",
       "2022-01-05 00:00:00.000    51020.650\n",
       "2022-01-06 00:00:00.000    50421.646\n",
       "2022-01-07 00:00:00.000    49847.819\n",
       "                             ...    \n",
       "2024-05-21 00:00:00.000    50765.450\n",
       "2024-05-22 00:00:00.000    50438.800\n",
       "2024-05-23 00:00:00.000    49747.500\n",
       "2024-05-24 00:00:00.000    49811.400\n",
       "2024-05-26 23:02:48.310        0.000\n",
       "Name: portf_value, Length: 608, dtype: float64"
      ]
     },
     "execution_count": 94,
     "metadata": {},
     "output_type": "execute_result"
    }
   ],
   "source": [
    "portf_allvalues = MEGA_DF.filter(regex='mktvalue').fillna(0) #  getting just the market value of each ticker\n",
    "portf_allvalues['portf_value'] = portf_allvalues.sum(axis=1) # summing all market values\n",
    "portf_allvalues['portf_value']"
   ]
  },
  {
   "cell_type": "code",
   "execution_count": 95,
   "metadata": {},
   "outputs": [
    {
     "data": {
      "text/html": [
       "<div>\n",
       "<style scoped>\n",
       "    .dataframe tbody tr th:only-of-type {\n",
       "        vertical-align: middle;\n",
       "    }\n",
       "\n",
       "    .dataframe tbody tr th {\n",
       "        vertical-align: top;\n",
       "    }\n",
       "\n",
       "    .dataframe thead th {\n",
       "        text-align: right;\n",
       "    }\n",
       "</style>\n",
       "<table border=\"1\" class=\"dataframe\">\n",
       "  <thead>\n",
       "    <tr style=\"text-align: right;\">\n",
       "      <th></th>\n",
       "      <th>AAPL_adj_close</th>\n",
       "      <th>AAPL_cashflow</th>\n",
       "      <th>AAPL_cml_units</th>\n",
       "      <th>AAPL_cml_cost</th>\n",
       "      <th>AAPL_gain_loss</th>\n",
       "      <th>AAPL_avg_price</th>\n",
       "      <th>AAPL_mktvalue</th>\n",
       "      <th>GOOGL_adj_close</th>\n",
       "      <th>GOOGL_cashflow</th>\n",
       "      <th>GOOGL_cml_units</th>\n",
       "      <th>...</th>\n",
       "      <th>PG_gain_loss</th>\n",
       "      <th>PG_avg_price</th>\n",
       "      <th>PG_mktvalue</th>\n",
       "      <th>PYPL_adj_close</th>\n",
       "      <th>PYPL_cashflow</th>\n",
       "      <th>PYPL_cml_units</th>\n",
       "      <th>PYPL_cml_cost</th>\n",
       "      <th>PYPL_gain_loss</th>\n",
       "      <th>PYPL_avg_price</th>\n",
       "      <th>PYPL_mktvalue</th>\n",
       "    </tr>\n",
       "    <tr>\n",
       "      <th>date</th>\n",
       "      <th></th>\n",
       "      <th></th>\n",
       "      <th></th>\n",
       "      <th></th>\n",
       "      <th></th>\n",
       "      <th></th>\n",
       "      <th></th>\n",
       "      <th></th>\n",
       "      <th></th>\n",
       "      <th></th>\n",
       "      <th></th>\n",
       "      <th></th>\n",
       "      <th></th>\n",
       "      <th></th>\n",
       "      <th></th>\n",
       "      <th></th>\n",
       "      <th></th>\n",
       "      <th></th>\n",
       "      <th></th>\n",
       "      <th></th>\n",
       "      <th></th>\n",
       "    </tr>\n",
       "  </thead>\n",
       "  <tbody>\n",
       "    <tr>\n",
       "      <th>2022-01-03 19:00:00.000</th>\n",
       "      <td>0.000</td>\n",
       "      <td>-3589.6</td>\n",
       "      <td>20.0</td>\n",
       "      <td>3589.6</td>\n",
       "      <td>0.0</td>\n",
       "      <td>179.480</td>\n",
       "      <td>0.000</td>\n",
       "      <td>0.000</td>\n",
       "      <td>-2899.8</td>\n",
       "      <td>20.0</td>\n",
       "      <td>...</td>\n",
       "      <td>0.0</td>\n",
       "      <td>153.05</td>\n",
       "      <td>0.000</td>\n",
       "      <td>0.00</td>\n",
       "      <td>-3898.8</td>\n",
       "      <td>20.0</td>\n",
       "      <td>3898.8</td>\n",
       "      <td>0.0</td>\n",
       "      <td>194.94</td>\n",
       "      <td>0.0</td>\n",
       "    </tr>\n",
       "    <tr>\n",
       "      <th>2022-01-04 00:00:00.000</th>\n",
       "      <td>177.203</td>\n",
       "      <td>-3589.6</td>\n",
       "      <td>20.0</td>\n",
       "      <td>3589.6</td>\n",
       "      <td>0.0</td>\n",
       "      <td>179.480</td>\n",
       "      <td>3544.064</td>\n",
       "      <td>144.400</td>\n",
       "      <td>-2899.8</td>\n",
       "      <td>20.0</td>\n",
       "      <td>...</td>\n",
       "      <td>0.0</td>\n",
       "      <td>153.05</td>\n",
       "      <td>3071.859</td>\n",
       "      <td>191.14</td>\n",
       "      <td>-3898.8</td>\n",
       "      <td>20.0</td>\n",
       "      <td>3898.8</td>\n",
       "      <td>0.0</td>\n",
       "      <td>194.94</td>\n",
       "      <td>3822.8</td>\n",
       "    </tr>\n",
       "    <tr>\n",
       "      <th>2022-01-05 00:00:00.000</th>\n",
       "      <td>172.490</td>\n",
       "      <td>-3589.6</td>\n",
       "      <td>20.0</td>\n",
       "      <td>3589.6</td>\n",
       "      <td>0.0</td>\n",
       "      <td>179.480</td>\n",
       "      <td>3449.793</td>\n",
       "      <td>137.775</td>\n",
       "      <td>-2899.8</td>\n",
       "      <td>20.0</td>\n",
       "      <td>...</td>\n",
       "      <td>0.0</td>\n",
       "      <td>153.05</td>\n",
       "      <td>3085.764</td>\n",
       "      <td>187.16</td>\n",
       "      <td>-3898.8</td>\n",
       "      <td>20.0</td>\n",
       "      <td>3898.8</td>\n",
       "      <td>0.0</td>\n",
       "      <td>194.94</td>\n",
       "      <td>3743.2</td>\n",
       "    </tr>\n",
       "    <tr>\n",
       "      <th>2022-01-06 00:00:00.000</th>\n",
       "      <td>169.610</td>\n",
       "      <td>-3589.6</td>\n",
       "      <td>20.0</td>\n",
       "      <td>3589.6</td>\n",
       "      <td>0.0</td>\n",
       "      <td>179.480</td>\n",
       "      <td>3392.204</td>\n",
       "      <td>137.747</td>\n",
       "      <td>-2899.8</td>\n",
       "      <td>20.0</td>\n",
       "      <td>...</td>\n",
       "      <td>0.0</td>\n",
       "      <td>153.05</td>\n",
       "      <td>3059.832</td>\n",
       "      <td>192.27</td>\n",
       "      <td>-3898.8</td>\n",
       "      <td>20.0</td>\n",
       "      <td>3898.8</td>\n",
       "      <td>0.0</td>\n",
       "      <td>194.94</td>\n",
       "      <td>3845.4</td>\n",
       "    </tr>\n",
       "    <tr>\n",
       "      <th>2022-01-07 00:00:00.000</th>\n",
       "      <td>169.778</td>\n",
       "      <td>-3589.6</td>\n",
       "      <td>20.0</td>\n",
       "      <td>3589.6</td>\n",
       "      <td>0.0</td>\n",
       "      <td>179.480</td>\n",
       "      <td>3395.557</td>\n",
       "      <td>137.017</td>\n",
       "      <td>-2899.8</td>\n",
       "      <td>20.0</td>\n",
       "      <td>...</td>\n",
       "      <td>0.0</td>\n",
       "      <td>153.05</td>\n",
       "      <td>3058.141</td>\n",
       "      <td>187.60</td>\n",
       "      <td>-3898.8</td>\n",
       "      <td>20.0</td>\n",
       "      <td>3898.8</td>\n",
       "      <td>0.0</td>\n",
       "      <td>194.94</td>\n",
       "      <td>3752.0</td>\n",
       "    </tr>\n",
       "    <tr>\n",
       "      <th>...</th>\n",
       "      <td>...</td>\n",
       "      <td>...</td>\n",
       "      <td>...</td>\n",
       "      <td>...</td>\n",
       "      <td>...</td>\n",
       "      <td>...</td>\n",
       "      <td>...</td>\n",
       "      <td>...</td>\n",
       "      <td>...</td>\n",
       "      <td>...</td>\n",
       "      <td>...</td>\n",
       "      <td>...</td>\n",
       "      <td>...</td>\n",
       "      <td>...</td>\n",
       "      <td>...</td>\n",
       "      <td>...</td>\n",
       "      <td>...</td>\n",
       "      <td>...</td>\n",
       "      <td>...</td>\n",
       "      <td>...</td>\n",
       "      <td>...</td>\n",
       "    </tr>\n",
       "    <tr>\n",
       "      <th>2024-05-21 00:00:00.000</th>\n",
       "      <td>192.350</td>\n",
       "      <td>-4243.4</td>\n",
       "      <td>25.0</td>\n",
       "      <td>4195.7</td>\n",
       "      <td>-47.7</td>\n",
       "      <td>167.828</td>\n",
       "      <td>4808.750</td>\n",
       "      <td>177.850</td>\n",
       "      <td>-2899.8</td>\n",
       "      <td>20.0</td>\n",
       "      <td>...</td>\n",
       "      <td>0.0</td>\n",
       "      <td>153.05</td>\n",
       "      <td>3367.000</td>\n",
       "      <td>64.10</td>\n",
       "      <td>-3898.8</td>\n",
       "      <td>20.0</td>\n",
       "      <td>3898.8</td>\n",
       "      <td>0.0</td>\n",
       "      <td>194.94</td>\n",
       "      <td>1282.0</td>\n",
       "    </tr>\n",
       "    <tr>\n",
       "      <th>2024-05-22 00:00:00.000</th>\n",
       "      <td>190.900</td>\n",
       "      <td>-4243.4</td>\n",
       "      <td>25.0</td>\n",
       "      <td>4195.7</td>\n",
       "      <td>-47.7</td>\n",
       "      <td>167.828</td>\n",
       "      <td>4772.500</td>\n",
       "      <td>176.380</td>\n",
       "      <td>-2899.8</td>\n",
       "      <td>20.0</td>\n",
       "      <td>...</td>\n",
       "      <td>0.0</td>\n",
       "      <td>153.05</td>\n",
       "      <td>3356.200</td>\n",
       "      <td>62.19</td>\n",
       "      <td>-3898.8</td>\n",
       "      <td>20.0</td>\n",
       "      <td>3898.8</td>\n",
       "      <td>0.0</td>\n",
       "      <td>194.94</td>\n",
       "      <td>1243.8</td>\n",
       "    </tr>\n",
       "    <tr>\n",
       "      <th>2024-05-23 00:00:00.000</th>\n",
       "      <td>186.880</td>\n",
       "      <td>-4243.4</td>\n",
       "      <td>25.0</td>\n",
       "      <td>4195.7</td>\n",
       "      <td>-47.7</td>\n",
       "      <td>167.828</td>\n",
       "      <td>4672.000</td>\n",
       "      <td>173.550</td>\n",
       "      <td>-2899.8</td>\n",
       "      <td>20.0</td>\n",
       "      <td>...</td>\n",
       "      <td>0.0</td>\n",
       "      <td>153.05</td>\n",
       "      <td>3309.800</td>\n",
       "      <td>61.58</td>\n",
       "      <td>-3898.8</td>\n",
       "      <td>20.0</td>\n",
       "      <td>3898.8</td>\n",
       "      <td>0.0</td>\n",
       "      <td>194.94</td>\n",
       "      <td>1231.6</td>\n",
       "    </tr>\n",
       "    <tr>\n",
       "      <th>2024-05-24 00:00:00.000</th>\n",
       "      <td>189.980</td>\n",
       "      <td>-4243.4</td>\n",
       "      <td>25.0</td>\n",
       "      <td>4195.7</td>\n",
       "      <td>-47.7</td>\n",
       "      <td>167.828</td>\n",
       "      <td>4749.500</td>\n",
       "      <td>174.990</td>\n",
       "      <td>-2899.8</td>\n",
       "      <td>20.0</td>\n",
       "      <td>...</td>\n",
       "      <td>0.0</td>\n",
       "      <td>153.05</td>\n",
       "      <td>3306.600</td>\n",
       "      <td>61.64</td>\n",
       "      <td>-3898.8</td>\n",
       "      <td>20.0</td>\n",
       "      <td>3898.8</td>\n",
       "      <td>0.0</td>\n",
       "      <td>194.94</td>\n",
       "      <td>1232.8</td>\n",
       "    </tr>\n",
       "    <tr>\n",
       "      <th>2024-05-26 23:02:48.310</th>\n",
       "      <td>NaN</td>\n",
       "      <td>NaN</td>\n",
       "      <td>NaN</td>\n",
       "      <td>NaN</td>\n",
       "      <td>NaN</td>\n",
       "      <td>NaN</td>\n",
       "      <td>NaN</td>\n",
       "      <td>NaN</td>\n",
       "      <td>NaN</td>\n",
       "      <td>NaN</td>\n",
       "      <td>...</td>\n",
       "      <td>NaN</td>\n",
       "      <td>NaN</td>\n",
       "      <td>NaN</td>\n",
       "      <td>NaN</td>\n",
       "      <td>NaN</td>\n",
       "      <td>NaN</td>\n",
       "      <td>NaN</td>\n",
       "      <td>NaN</td>\n",
       "      <td>NaN</td>\n",
       "      <td>NaN</td>\n",
       "    </tr>\n",
       "  </tbody>\n",
       "</table>\n",
       "<p>608 rows × 77 columns</p>\n",
       "</div>"
      ],
      "text/plain": [
       "                         AAPL_adj_close  AAPL_cashflow  AAPL_cml_units  \\\n",
       "date                                                                     \n",
       "2022-01-03 19:00:00.000           0.000        -3589.6            20.0   \n",
       "2022-01-04 00:00:00.000         177.203        -3589.6            20.0   \n",
       "2022-01-05 00:00:00.000         172.490        -3589.6            20.0   \n",
       "2022-01-06 00:00:00.000         169.610        -3589.6            20.0   \n",
       "2022-01-07 00:00:00.000         169.778        -3589.6            20.0   \n",
       "...                                 ...            ...             ...   \n",
       "2024-05-21 00:00:00.000         192.350        -4243.4            25.0   \n",
       "2024-05-22 00:00:00.000         190.900        -4243.4            25.0   \n",
       "2024-05-23 00:00:00.000         186.880        -4243.4            25.0   \n",
       "2024-05-24 00:00:00.000         189.980        -4243.4            25.0   \n",
       "2024-05-26 23:02:48.310             NaN            NaN             NaN   \n",
       "\n",
       "                         AAPL_cml_cost  AAPL_gain_loss  AAPL_avg_price  \\\n",
       "date                                                                     \n",
       "2022-01-03 19:00:00.000         3589.6             0.0         179.480   \n",
       "2022-01-04 00:00:00.000         3589.6             0.0         179.480   \n",
       "2022-01-05 00:00:00.000         3589.6             0.0         179.480   \n",
       "2022-01-06 00:00:00.000         3589.6             0.0         179.480   \n",
       "2022-01-07 00:00:00.000         3589.6             0.0         179.480   \n",
       "...                                ...             ...             ...   \n",
       "2024-05-21 00:00:00.000         4195.7           -47.7         167.828   \n",
       "2024-05-22 00:00:00.000         4195.7           -47.7         167.828   \n",
       "2024-05-23 00:00:00.000         4195.7           -47.7         167.828   \n",
       "2024-05-24 00:00:00.000         4195.7           -47.7         167.828   \n",
       "2024-05-26 23:02:48.310            NaN             NaN             NaN   \n",
       "\n",
       "                         AAPL_mktvalue  GOOGL_adj_close  GOOGL_cashflow  \\\n",
       "date                                                                      \n",
       "2022-01-03 19:00:00.000          0.000            0.000         -2899.8   \n",
       "2022-01-04 00:00:00.000       3544.064          144.400         -2899.8   \n",
       "2022-01-05 00:00:00.000       3449.793          137.775         -2899.8   \n",
       "2022-01-06 00:00:00.000       3392.204          137.747         -2899.8   \n",
       "2022-01-07 00:00:00.000       3395.557          137.017         -2899.8   \n",
       "...                                ...              ...             ...   \n",
       "2024-05-21 00:00:00.000       4808.750          177.850         -2899.8   \n",
       "2024-05-22 00:00:00.000       4772.500          176.380         -2899.8   \n",
       "2024-05-23 00:00:00.000       4672.000          173.550         -2899.8   \n",
       "2024-05-24 00:00:00.000       4749.500          174.990         -2899.8   \n",
       "2024-05-26 23:02:48.310            NaN              NaN             NaN   \n",
       "\n",
       "                         GOOGL_cml_units  ...  PG_gain_loss  PG_avg_price  \\\n",
       "date                                      ...                               \n",
       "2022-01-03 19:00:00.000             20.0  ...           0.0        153.05   \n",
       "2022-01-04 00:00:00.000             20.0  ...           0.0        153.05   \n",
       "2022-01-05 00:00:00.000             20.0  ...           0.0        153.05   \n",
       "2022-01-06 00:00:00.000             20.0  ...           0.0        153.05   \n",
       "2022-01-07 00:00:00.000             20.0  ...           0.0        153.05   \n",
       "...                                  ...  ...           ...           ...   \n",
       "2024-05-21 00:00:00.000             20.0  ...           0.0        153.05   \n",
       "2024-05-22 00:00:00.000             20.0  ...           0.0        153.05   \n",
       "2024-05-23 00:00:00.000             20.0  ...           0.0        153.05   \n",
       "2024-05-24 00:00:00.000             20.0  ...           0.0        153.05   \n",
       "2024-05-26 23:02:48.310              NaN  ...           NaN           NaN   \n",
       "\n",
       "                         PG_mktvalue  PYPL_adj_close  PYPL_cashflow  \\\n",
       "date                                                                  \n",
       "2022-01-03 19:00:00.000        0.000            0.00        -3898.8   \n",
       "2022-01-04 00:00:00.000     3071.859          191.14        -3898.8   \n",
       "2022-01-05 00:00:00.000     3085.764          187.16        -3898.8   \n",
       "2022-01-06 00:00:00.000     3059.832          192.27        -3898.8   \n",
       "2022-01-07 00:00:00.000     3058.141          187.60        -3898.8   \n",
       "...                              ...             ...            ...   \n",
       "2024-05-21 00:00:00.000     3367.000           64.10        -3898.8   \n",
       "2024-05-22 00:00:00.000     3356.200           62.19        -3898.8   \n",
       "2024-05-23 00:00:00.000     3309.800           61.58        -3898.8   \n",
       "2024-05-24 00:00:00.000     3306.600           61.64        -3898.8   \n",
       "2024-05-26 23:02:48.310          NaN             NaN            NaN   \n",
       "\n",
       "                         PYPL_cml_units  PYPL_cml_cost  PYPL_gain_loss  \\\n",
       "date                                                                     \n",
       "2022-01-03 19:00:00.000            20.0         3898.8             0.0   \n",
       "2022-01-04 00:00:00.000            20.0         3898.8             0.0   \n",
       "2022-01-05 00:00:00.000            20.0         3898.8             0.0   \n",
       "2022-01-06 00:00:00.000            20.0         3898.8             0.0   \n",
       "2022-01-07 00:00:00.000            20.0         3898.8             0.0   \n",
       "...                                 ...            ...             ...   \n",
       "2024-05-21 00:00:00.000            20.0         3898.8             0.0   \n",
       "2024-05-22 00:00:00.000            20.0         3898.8             0.0   \n",
       "2024-05-23 00:00:00.000            20.0         3898.8             0.0   \n",
       "2024-05-24 00:00:00.000            20.0         3898.8             0.0   \n",
       "2024-05-26 23:02:48.310             NaN            NaN             NaN   \n",
       "\n",
       "                         PYPL_avg_price  PYPL_mktvalue  \n",
       "date                                                    \n",
       "2022-01-03 19:00:00.000          194.94            0.0  \n",
       "2022-01-04 00:00:00.000          194.94         3822.8  \n",
       "2022-01-05 00:00:00.000          194.94         3743.2  \n",
       "2022-01-06 00:00:00.000          194.94         3845.4  \n",
       "2022-01-07 00:00:00.000          194.94         3752.0  \n",
       "...                                 ...            ...  \n",
       "2024-05-21 00:00:00.000          194.94         1282.0  \n",
       "2024-05-22 00:00:00.000          194.94         1243.8  \n",
       "2024-05-23 00:00:00.000          194.94         1231.6  \n",
       "2024-05-24 00:00:00.000          194.94         1232.8  \n",
       "2024-05-26 23:02:48.310             NaN            NaN  \n",
       "\n",
       "[608 rows x 77 columns]"
      ]
     },
     "execution_count": 95,
     "metadata": {},
     "output_type": "execute_result"
    }
   ],
   "source": [
    "MEGA_DF"
   ]
  },
  {
   "cell_type": "code",
   "execution_count": 96,
   "metadata": {},
   "outputs": [
    {
     "name": "stderr",
     "output_type": "stream",
     "text": [
      "[*********************100%%**********************]  1 of 1 completed\n"
     ]
    }
   ],
   "source": [
    "# For the S&P500 price return\n",
    "sp500 = pdr.get_data_yahoo('^GSPC', start_stocks, end_sp)\n",
    "clean_header(sp500)"
   ]
  },
  {
   "cell_type": "code",
   "execution_count": 54,
   "metadata": {},
   "outputs": [],
   "source": [
    "#getting the pct change\n",
    "portf_allvalues = portf_allvalues.join(sp500['adj_close'], how='inner')\n",
    "portf_allvalues.rename(columns={'adj_close': 'sp500_mktvalue'}, inplace=True)\n",
    "portf_allvalues['ptf_value_pctch'] = (portf_allvalues['portf_value'].pct_change()*100).round(2)\n",
    "portf_allvalues['sp500_pctch'] = (portf_allvalues['sp500_mktvalue'].pct_change()*100).round(2)\n",
    "portf_allvalues['ptf_value_diff'] = (portf_allvalues['portf_value'].diff()).round(2)\n",
    "portf_allvalues['sp500_diff'] = (portf_allvalues['sp500_mktvalue'].diff()).round(2)"
   ]
  },
  {
   "cell_type": "code",
   "execution_count": 55,
   "metadata": {},
   "outputs": [
    {
     "name": "stderr",
     "output_type": "stream",
     "text": [
      "/var/folders/zq/cl9wyfm13sq150n30b6r3_6m0000gn/T/ipykernel_47779/2739045084.py:6: FutureWarning:\n",
      "\n",
      "Series.__getitem__ treating keys as positions is deprecated. In a future version, integer keys will always be treated as labels (consistent with DataFrame behavior). To access a value by position, use `ser.iloc[pos]`\n",
      "\n",
      "/var/folders/zq/cl9wyfm13sq150n30b6r3_6m0000gn/T/ipykernel_47779/2739045084.py:7: FutureWarning:\n",
      "\n",
      "Series.__getitem__ treating keys as positions is deprecated. In a future version, integer keys will always be treated as labels (consistent with DataFrame behavior). To access a value by position, use `ser.iloc[pos]`\n",
      "\n",
      "/var/folders/zq/cl9wyfm13sq150n30b6r3_6m0000gn/T/ipykernel_47779/2739045084.py:8: FutureWarning:\n",
      "\n",
      "Series.__getitem__ treating keys as positions is deprecated. In a future version, integer keys will always be treated as labels (consistent with DataFrame behavior). To access a value by position, use `ser.iloc[pos]`\n",
      "\n",
      "/var/folders/zq/cl9wyfm13sq150n30b6r3_6m0000gn/T/ipykernel_47779/2739045084.py:9: FutureWarning:\n",
      "\n",
      "Series.__getitem__ treating keys as positions is deprecated. In a future version, integer keys will always be treated as labels (consistent with DataFrame behavior). To access a value by position, use `ser.iloc[pos]`\n",
      "\n"
     ]
    }
   ],
   "source": [
    "# KPI's for portfolio\n",
    "kpi_portfolio7d_abs = portf_allvalues.tail(7).ptf_value_diff.sum().round(2)\n",
    "kpi_portfolio15d_abs = portf_allvalues.tail(15).ptf_value_diff.sum().round(2)\n",
    "kpi_portfolio30d_abs = portf_allvalues.tail(30).ptf_value_diff.sum().round(2)\n",
    "kpi_portfolio200d_abs = portf_allvalues.tail(200).ptf_value_diff.sum().round(2)\n",
    "kpi_portfolio7d_pct = (kpi_portfolio7d_abs/portf_allvalues.tail(7).portf_value[0]).round(3)*100\n",
    "kpi_portfolio15d_pct = (kpi_portfolio15d_abs/portf_allvalues.tail(15).portf_value[0]).round(3)*100\n",
    "kpi_portfolio30d_pct = (kpi_portfolio30d_abs/portf_allvalues.tail(30).portf_value[0]).round(3)*100\n",
    "kpi_portfolio200d_pct = (kpi_portfolio200d_abs/portf_allvalues.tail(200).portf_value[0]).round(3)*100"
   ]
  },
  {
   "cell_type": "code",
   "execution_count": 56,
   "metadata": {},
   "outputs": [
    {
     "name": "stderr",
     "output_type": "stream",
     "text": [
      "/var/folders/zq/cl9wyfm13sq150n30b6r3_6m0000gn/T/ipykernel_47779/3746021140.py:6: FutureWarning:\n",
      "\n",
      "Series.__getitem__ treating keys as positions is deprecated. In a future version, integer keys will always be treated as labels (consistent with DataFrame behavior). To access a value by position, use `ser.iloc[pos]`\n",
      "\n",
      "/var/folders/zq/cl9wyfm13sq150n30b6r3_6m0000gn/T/ipykernel_47779/3746021140.py:7: FutureWarning:\n",
      "\n",
      "Series.__getitem__ treating keys as positions is deprecated. In a future version, integer keys will always be treated as labels (consistent with DataFrame behavior). To access a value by position, use `ser.iloc[pos]`\n",
      "\n",
      "/var/folders/zq/cl9wyfm13sq150n30b6r3_6m0000gn/T/ipykernel_47779/3746021140.py:8: FutureWarning:\n",
      "\n",
      "Series.__getitem__ treating keys as positions is deprecated. In a future version, integer keys will always be treated as labels (consistent with DataFrame behavior). To access a value by position, use `ser.iloc[pos]`\n",
      "\n",
      "/var/folders/zq/cl9wyfm13sq150n30b6r3_6m0000gn/T/ipykernel_47779/3746021140.py:9: FutureWarning:\n",
      "\n",
      "Series.__getitem__ treating keys as positions is deprecated. In a future version, integer keys will always be treated as labels (consistent with DataFrame behavior). To access a value by position, use `ser.iloc[pos]`\n",
      "\n"
     ]
    }
   ],
   "source": [
    "# KPI's for S&P500\n",
    "kpi_sp500_7d_abs = portf_allvalues.tail(7).sp500_diff.sum().round(2)\n",
    "kpi_sp500_15d_abs = portf_allvalues.tail(15).sp500_diff.sum().round(2)\n",
    "kpi_sp500_30d_abs = portf_allvalues.tail(30).sp500_diff.sum().round(2)\n",
    "kpi_sp500_200d_abs = portf_allvalues.tail(200).sp500_diff.sum().round(2)\n",
    "kpi_sp500_7d_pct = (kpi_sp500_7d_abs/portf_allvalues.tail(7).sp500_mktvalue[0]).round(3)*100\n",
    "kpi_sp500_15d_pct = (kpi_sp500_15d_abs/portf_allvalues.tail(15).sp500_mktvalue[0]).round(3)*100\n",
    "kpi_sp500_30d_pct = (kpi_sp500_30d_abs/portf_allvalues.tail(30).sp500_mktvalue[0]).round(3)*100\n",
    "kpi_sp500_200d_pct = (kpi_sp500_200d_abs/portf_allvalues.tail(200).sp500_mktvalue[0]).round(3)*100"
   ]
  },
  {
   "cell_type": "code",
   "execution_count": 57,
   "metadata": {},
   "outputs": [
    {
     "name": "stderr",
     "output_type": "stream",
     "text": [
      "[*********************100%%**********************]  1 of 1 completed\n"
     ]
    },
    {
     "data": {
      "text/plain": [
       "Date\n",
       "2022-01-04    0.080\n",
       "2022-01-05    0.085\n",
       "2022-01-06    0.090\n",
       "2022-01-07    0.088\n",
       "2022-01-10    0.090\n",
       "              ...  \n",
       "2024-05-20    5.240\n",
       "2024-05-21    5.240\n",
       "2024-05-22    5.245\n",
       "2024-05-23    5.245\n",
       "2024-05-24    5.245\n",
       "Name: Adj Close, Length: 601, dtype: float64"
      ]
     },
     "execution_count": 57,
     "metadata": {},
     "output_type": "execute_result"
    }
   ],
   "source": [
    "rf = pdr.get_data_yahoo('^IRX', start_stocks, datetime.now())\n",
    "rf = rf['Adj Close']\n",
    "rf"
   ]
  },
  {
   "cell_type": "code",
   "execution_count": 58,
   "metadata": {},
   "outputs": [
    {
     "name": "stderr",
     "output_type": "stream",
     "text": [
      "[*********************100%%**********************]  1 of 1 completed\n",
      "/var/folders/zq/cl9wyfm13sq150n30b6r3_6m0000gn/T/ipykernel_47779/1660114063.py:62: FutureWarning:\n",
      "\n",
      "Series.__getitem__ treating keys as positions is deprecated. In a future version, integer keys will always be treated as labels (consistent with DataFrame behavior). To access a value by position, use `ser.iloc[pos]`\n",
      "\n"
     ]
    }
   ],
   "source": [
    "# Sort the portfolio value percentage changes in descending order\n",
    "sorted_ptf_value_diff = portf_allvalues.ptf_value_pctch.sort_values(ascending=False)\n",
    "\n",
    "# Calculate the 1-day Value at Risk (VaR) at 95%\n",
    "vaR_95 = np.percentile(sorted_ptf_value_diff.dropna(), 5).round(1)\n",
    "\n",
    "# Sort the portfolio value percentage changes in descending order again\n",
    "sorted_ptf_value_pctch = portf_allvalues.ptf_value_pctch.sort_values(ascending=False)\n",
    "\n",
    "# Drop NaN values and exclude the first element\n",
    "sorted_ptf_value_pctch = sorted_ptf_value_pctch.dropna().iloc[1:]\n",
    "\n",
    "# Calculate the index for the 95% expected shortfall (ES)\n",
    "index = int((1 - 0.95) * len(sorted_ptf_value_pctch))\n",
    "\n",
    "# Calculate the expected shortfall (ES) at 95%\n",
    "es_95 = -np.mean(sorted_ptf_value_pctch[:index]).round(1)\n",
    "\n",
    "# Compute the volatility of the portfolio\n",
    "volatility = np.std(portf_allvalues.ptf_value_pctch).round(1)\n",
    "\n",
    "# Calculate the tracking error (TE) relative to the SP500\n",
    "te = portf_allvalues.ptf_value_pctch.iloc[6:] / 100 - portf_allvalues.sp500_pctch.iloc[6:] / 100\n",
    "te = np.std(te, ddof=1)\n",
    "\n",
    "# Calculate cumulative returns of the portfolio\n",
    "cumulative_returns = (1 + portf_allvalues.ptf_value_pctch.iloc[6:] / 100).cumprod()\n",
    "\n",
    "# Calculate the running maximum of cumulative returns\n",
    "running_max = np.maximum.accumulate(cumulative_returns)\n",
    "\n",
    "# Calculate drawdowns from the running maximum\n",
    "drawdowns = (cumulative_returns - running_max) / running_max\n",
    "\n",
    "# Calculate the maximum drawdown\n",
    "max_drawdown = np.min(drawdowns)\n",
    "\n",
    "# Retrieve risk-free rate data\n",
    "rf = pdr.get_data_yahoo('^IRX', start_stocks, datetime.now())\n",
    "rf = rf['Adj Close']\n",
    "\n",
    "# Calculate excess returns of the portfolio\n",
    "excess_returns = portf_allvalues.ptf_value_pctch.values / 100 - rf / 100 / 252\n",
    "excess_returns = pd.Series(excess_returns).dropna()\n",
    "\n",
    "# Calculate the average and standard deviation of excess returns\n",
    "avg_excess_return = excess_returns.mean()\n",
    "std_excess_return = excess_returns.std()\n",
    "\n",
    "# Calculate the Sharpe ratio\n",
    "sharpe_ratio = avg_excess_return / std_excess_return\n",
    "\n",
    "# Get the 1-day return of the portfolio\n",
    "return_1day = portf_allvalues.ptf_value_pctch.iloc[-1]\n",
    "\n",
    "# Perform linear regression to calculate beta of the portfolio relative to the SP500\n",
    "y = portf_allvalues.ptf_value_pctch.iloc[6:] / 100\n",
    "x = portf_allvalues.sp500_pctch.iloc[6:] / 100\n",
    "X = sm.add_constant(x)\n",
    "model = sm.OLS(y, X)\n",
    "results = model.fit()\n",
    "beta = results.params[1].round(2)\n"
   ]
  },
  {
   "cell_type": "code",
   "execution_count": 61,
   "metadata": {},
   "outputs": [],
   "source": [
    "import dash\n",
    "import dash_core_components as dcc\n",
    "import dash_html_components as html\n",
    "from dash.dependencies import Output, Input\n",
    "import plotly.express as px\n",
    "import dash_bootstrap_components as dbc\n",
    "import plotly.graph_objects as go\n",
    "from dash import dash_table\n",
    "from jupyter_dash import JupyterDash"
   ]
  },
  {
   "cell_type": "code",
   "execution_count": 62,
   "metadata": {},
   "outputs": [
    {
     "data": {
      "text/html": [
       "<div>\n",
       "<style scoped>\n",
       "    .dataframe tbody tr th:only-of-type {\n",
       "        vertical-align: middle;\n",
       "    }\n",
       "\n",
       "    .dataframe tbody tr th {\n",
       "        vertical-align: top;\n",
       "    }\n",
       "\n",
       "    .dataframe thead th {\n",
       "        text-align: right;\n",
       "    }\n",
       "</style>\n",
       "<table border=\"1\" class=\"dataframe\">\n",
       "  <thead>\n",
       "    <tr style=\"text-align: right;\">\n",
       "      <th></th>\n",
       "      <th>date</th>\n",
       "      <th>portf_value</th>\n",
       "      <th>sp500_mktvalue</th>\n",
       "      <th>ptf_value_pctch</th>\n",
       "      <th>sp500_pctch</th>\n",
       "      <th>ptf_value_diff</th>\n",
       "      <th>sp500_diff</th>\n",
       "      <th>ptf_growth</th>\n",
       "      <th>sp500_growth</th>\n",
       "    </tr>\n",
       "  </thead>\n",
       "  <tbody>\n",
       "    <tr>\n",
       "      <th>0</th>\n",
       "      <td>2022-01-04</td>\n",
       "      <td>51923.13</td>\n",
       "      <td>4793.54</td>\n",
       "      <td>NaN</td>\n",
       "      <td>NaN</td>\n",
       "      <td>NaN</td>\n",
       "      <td>NaN</td>\n",
       "      <td>1.000000</td>\n",
       "      <td>1.000000</td>\n",
       "    </tr>\n",
       "    <tr>\n",
       "      <th>1</th>\n",
       "      <td>2022-01-05</td>\n",
       "      <td>51020.65</td>\n",
       "      <td>4700.58</td>\n",
       "      <td>-1.74</td>\n",
       "      <td>-1.94</td>\n",
       "      <td>-902.48</td>\n",
       "      <td>-92.96</td>\n",
       "      <td>0.982619</td>\n",
       "      <td>0.980607</td>\n",
       "    </tr>\n",
       "    <tr>\n",
       "      <th>2</th>\n",
       "      <td>2022-01-06</td>\n",
       "      <td>50421.65</td>\n",
       "      <td>4696.05</td>\n",
       "      <td>-1.17</td>\n",
       "      <td>-0.10</td>\n",
       "      <td>-599.00</td>\n",
       "      <td>-4.53</td>\n",
       "      <td>0.971083</td>\n",
       "      <td>0.979662</td>\n",
       "    </tr>\n",
       "    <tr>\n",
       "      <th>3</th>\n",
       "      <td>2022-01-07</td>\n",
       "      <td>49847.82</td>\n",
       "      <td>4677.03</td>\n",
       "      <td>-1.14</td>\n",
       "      <td>-0.41</td>\n",
       "      <td>-573.83</td>\n",
       "      <td>-19.02</td>\n",
       "      <td>0.960031</td>\n",
       "      <td>0.975694</td>\n",
       "    </tr>\n",
       "    <tr>\n",
       "      <th>4</th>\n",
       "      <td>2022-01-10</td>\n",
       "      <td>49832.76</td>\n",
       "      <td>4670.29</td>\n",
       "      <td>-0.03</td>\n",
       "      <td>-0.14</td>\n",
       "      <td>-15.06</td>\n",
       "      <td>-6.74</td>\n",
       "      <td>0.959741</td>\n",
       "      <td>0.974288</td>\n",
       "    </tr>\n",
       "    <tr>\n",
       "      <th>...</th>\n",
       "      <td>...</td>\n",
       "      <td>...</td>\n",
       "      <td>...</td>\n",
       "      <td>...</td>\n",
       "      <td>...</td>\n",
       "      <td>...</td>\n",
       "      <td>...</td>\n",
       "      <td>...</td>\n",
       "      <td>...</td>\n",
       "    </tr>\n",
       "    <tr>\n",
       "      <th>596</th>\n",
       "      <td>2024-05-20</td>\n",
       "      <td>50336.00</td>\n",
       "      <td>5308.13</td>\n",
       "      <td>-0.86</td>\n",
       "      <td>0.09</td>\n",
       "      <td>-434.35</td>\n",
       "      <td>4.86</td>\n",
       "      <td>0.969433</td>\n",
       "      <td>1.107351</td>\n",
       "    </tr>\n",
       "    <tr>\n",
       "      <th>597</th>\n",
       "      <td>2024-05-21</td>\n",
       "      <td>50765.45</td>\n",
       "      <td>5321.41</td>\n",
       "      <td>0.85</td>\n",
       "      <td>0.25</td>\n",
       "      <td>429.45</td>\n",
       "      <td>13.28</td>\n",
       "      <td>0.977704</td>\n",
       "      <td>1.110121</td>\n",
       "    </tr>\n",
       "    <tr>\n",
       "      <th>598</th>\n",
       "      <td>2024-05-22</td>\n",
       "      <td>50438.80</td>\n",
       "      <td>5307.01</td>\n",
       "      <td>-0.64</td>\n",
       "      <td>-0.27</td>\n",
       "      <td>-326.65</td>\n",
       "      <td>-14.40</td>\n",
       "      <td>0.971413</td>\n",
       "      <td>1.107117</td>\n",
       "    </tr>\n",
       "    <tr>\n",
       "      <th>599</th>\n",
       "      <td>2024-05-23</td>\n",
       "      <td>49747.50</td>\n",
       "      <td>5267.84</td>\n",
       "      <td>-1.37</td>\n",
       "      <td>-0.74</td>\n",
       "      <td>-691.30</td>\n",
       "      <td>-39.17</td>\n",
       "      <td>0.958099</td>\n",
       "      <td>1.098946</td>\n",
       "    </tr>\n",
       "    <tr>\n",
       "      <th>600</th>\n",
       "      <td>2024-05-24</td>\n",
       "      <td>49811.40</td>\n",
       "      <td>5304.72</td>\n",
       "      <td>0.13</td>\n",
       "      <td>0.70</td>\n",
       "      <td>63.90</td>\n",
       "      <td>36.88</td>\n",
       "      <td>0.959330</td>\n",
       "      <td>1.106639</td>\n",
       "    </tr>\n",
       "  </tbody>\n",
       "</table>\n",
       "<p>601 rows × 9 columns</p>\n",
       "</div>"
      ],
      "text/plain": [
       "          date  portf_value  sp500_mktvalue  ptf_value_pctch  sp500_pctch  \\\n",
       "0   2022-01-04     51923.13         4793.54              NaN          NaN   \n",
       "1   2022-01-05     51020.65         4700.58            -1.74        -1.94   \n",
       "2   2022-01-06     50421.65         4696.05            -1.17        -0.10   \n",
       "3   2022-01-07     49847.82         4677.03            -1.14        -0.41   \n",
       "4   2022-01-10     49832.76         4670.29            -0.03        -0.14   \n",
       "..         ...          ...             ...              ...          ...   \n",
       "596 2024-05-20     50336.00         5308.13            -0.86         0.09   \n",
       "597 2024-05-21     50765.45         5321.41             0.85         0.25   \n",
       "598 2024-05-22     50438.80         5307.01            -0.64        -0.27   \n",
       "599 2024-05-23     49747.50         5267.84            -1.37        -0.74   \n",
       "600 2024-05-24     49811.40         5304.72             0.13         0.70   \n",
       "\n",
       "     ptf_value_diff  sp500_diff  ptf_growth  sp500_growth  \n",
       "0               NaN         NaN    1.000000      1.000000  \n",
       "1           -902.48      -92.96    0.982619      0.980607  \n",
       "2           -599.00       -4.53    0.971083      0.979662  \n",
       "3           -573.83      -19.02    0.960031      0.975694  \n",
       "4            -15.06       -6.74    0.959741      0.974288  \n",
       "..              ...         ...         ...           ...  \n",
       "596         -434.35        4.86    0.969433      1.107351  \n",
       "597          429.45       13.28    0.977704      1.110121  \n",
       "598         -326.65      -14.40    0.971413      1.107117  \n",
       "599         -691.30      -39.17    0.958099      1.098946  \n",
       "600           63.90       36.88    0.959330      1.106639  \n",
       "\n",
       "[601 rows x 9 columns]"
      ]
     },
     "execution_count": 62,
     "metadata": {},
     "output_type": "execute_result"
    }
   ],
   "source": [
    "initial_date = '2020-01-03'  # do not use anything earlier than your first trade\n",
    "plotlydf_portfval = portf_allvalues[portf_allvalues.index > initial_date]\n",
    "plotlydf_portfval = plotlydf_portfval[['portf_value', 'sp500_mktvalue', 'ptf_value_pctch',\n",
    "                                     'sp500_pctch', 'ptf_value_diff', 'sp500_diff']].reset_index().round(2)\n",
    "# calculating cumulative growth since initial date\n",
    "plotlydf_portfval['ptf_growth'] = plotlydf_portfval.portf_value/plotlydf_portfval['portf_value'].iloc[0]\n",
    "plotlydf_portfval['sp500_growth'] = plotlydf_portfval.sp500_mktvalue/plotlydf_portfval['sp500_mktvalue'].iloc[0]\n",
    "plotlydf_portfval.rename(columns={'index': 'date'}, inplace=True)  # needed for later\n",
    "plotlydf_portfval"
   ]
  },
  {
   "cell_type": "code",
   "execution_count": 63,
   "metadata": {},
   "outputs": [
    {
     "data": {
      "application/vnd.plotly.v1+json": {
       "config": {
        "plotlyServerURL": "https://plot.ly"
       },
       "data": [
        {
         "mode": "lines",
         "name": "Global Value",
         "type": "scatter",
         "x": [
          "2022-01-04T00:00:00",
          "2022-01-05T00:00:00",
          "2022-01-06T00:00:00",
          "2022-01-07T00:00:00",
          "2022-01-10T00:00:00",
          "2022-01-11T00:00:00",
          "2022-01-12T00:00:00",
          "2022-01-13T00:00:00",
          "2022-01-14T00:00:00",
          "2022-01-18T00:00:00",
          "2022-01-19T00:00:00",
          "2022-01-20T00:00:00",
          "2022-01-21T00:00:00",
          "2022-01-24T00:00:00",
          "2022-01-25T00:00:00",
          "2022-01-26T00:00:00",
          "2022-01-27T00:00:00",
          "2022-01-28T00:00:00",
          "2022-01-31T00:00:00",
          "2022-02-01T00:00:00",
          "2022-02-02T00:00:00",
          "2022-02-03T00:00:00",
          "2022-02-04T00:00:00",
          "2022-02-07T00:00:00",
          "2022-02-08T00:00:00",
          "2022-02-09T00:00:00",
          "2022-02-10T00:00:00",
          "2022-02-11T00:00:00",
          "2022-02-14T00:00:00",
          "2022-02-15T00:00:00",
          "2022-02-16T00:00:00",
          "2022-02-17T00:00:00",
          "2022-02-18T00:00:00",
          "2022-02-22T00:00:00",
          "2022-02-23T00:00:00",
          "2022-02-24T00:00:00",
          "2022-02-25T00:00:00",
          "2022-02-28T00:00:00",
          "2022-03-01T00:00:00",
          "2022-03-02T00:00:00",
          "2022-03-03T00:00:00",
          "2022-03-04T00:00:00",
          "2022-03-07T00:00:00",
          "2022-03-08T00:00:00",
          "2022-03-09T00:00:00",
          "2022-03-10T00:00:00",
          "2022-03-11T00:00:00",
          "2022-03-14T00:00:00",
          "2022-03-15T00:00:00",
          "2022-03-16T00:00:00",
          "2022-03-17T00:00:00",
          "2022-03-18T00:00:00",
          "2022-03-21T00:00:00",
          "2022-03-22T00:00:00",
          "2022-03-23T00:00:00",
          "2022-03-24T00:00:00",
          "2022-03-25T00:00:00",
          "2022-03-28T00:00:00",
          "2022-03-29T00:00:00",
          "2022-03-30T00:00:00",
          "2022-03-31T00:00:00",
          "2022-04-01T00:00:00",
          "2022-04-04T00:00:00",
          "2022-04-05T00:00:00",
          "2022-04-06T00:00:00",
          "2022-04-07T00:00:00",
          "2022-04-08T00:00:00",
          "2022-04-11T00:00:00",
          "2022-04-12T00:00:00",
          "2022-04-13T00:00:00",
          "2022-04-14T00:00:00",
          "2022-04-18T00:00:00",
          "2022-04-19T00:00:00",
          "2022-04-20T00:00:00",
          "2022-04-21T00:00:00",
          "2022-04-22T00:00:00",
          "2022-04-25T00:00:00",
          "2022-04-26T00:00:00",
          "2022-04-27T00:00:00",
          "2022-04-28T00:00:00",
          "2022-04-29T00:00:00",
          "2022-05-02T00:00:00",
          "2022-05-03T00:00:00",
          "2022-05-04T00:00:00",
          "2022-05-05T00:00:00",
          "2022-05-06T00:00:00",
          "2022-05-09T00:00:00",
          "2022-05-10T00:00:00",
          "2022-05-11T00:00:00",
          "2022-05-12T00:00:00",
          "2022-05-13T00:00:00",
          "2022-05-16T00:00:00",
          "2022-05-17T00:00:00",
          "2022-05-18T00:00:00",
          "2022-05-19T00:00:00",
          "2022-05-20T00:00:00",
          "2022-05-23T00:00:00",
          "2022-05-24T00:00:00",
          "2022-05-25T00:00:00",
          "2022-05-26T00:00:00",
          "2022-05-27T00:00:00",
          "2022-05-31T00:00:00",
          "2022-06-01T00:00:00",
          "2022-06-02T00:00:00",
          "2022-06-03T00:00:00",
          "2022-06-06T00:00:00",
          "2022-06-07T00:00:00",
          "2022-06-08T00:00:00",
          "2022-06-09T00:00:00",
          "2022-06-10T00:00:00",
          "2022-06-13T00:00:00",
          "2022-06-14T00:00:00",
          "2022-06-15T00:00:00",
          "2022-06-16T00:00:00",
          "2022-06-17T00:00:00",
          "2022-06-21T00:00:00",
          "2022-06-22T00:00:00",
          "2022-06-23T00:00:00",
          "2022-06-24T00:00:00",
          "2022-06-27T00:00:00",
          "2022-06-28T00:00:00",
          "2022-06-29T00:00:00",
          "2022-06-30T00:00:00",
          "2022-07-01T00:00:00",
          "2022-07-05T00:00:00",
          "2022-07-06T00:00:00",
          "2022-07-07T00:00:00",
          "2022-07-08T00:00:00",
          "2022-07-11T00:00:00",
          "2022-07-12T00:00:00",
          "2022-07-13T00:00:00",
          "2022-07-14T00:00:00",
          "2022-07-15T00:00:00",
          "2022-07-18T00:00:00",
          "2022-07-19T00:00:00",
          "2022-07-20T00:00:00",
          "2022-07-21T00:00:00",
          "2022-07-22T00:00:00",
          "2022-07-25T00:00:00",
          "2022-07-26T00:00:00",
          "2022-07-27T00:00:00",
          "2022-07-28T00:00:00",
          "2022-07-29T00:00:00",
          "2022-08-01T00:00:00",
          "2022-08-02T00:00:00",
          "2022-08-03T00:00:00",
          "2022-08-04T00:00:00",
          "2022-08-05T00:00:00",
          "2022-08-08T00:00:00",
          "2022-08-09T00:00:00",
          "2022-08-10T00:00:00",
          "2022-08-11T00:00:00",
          "2022-08-12T00:00:00",
          "2022-08-15T00:00:00",
          "2022-08-16T00:00:00",
          "2022-08-17T00:00:00",
          "2022-08-18T00:00:00",
          "2022-08-19T00:00:00",
          "2022-08-22T00:00:00",
          "2022-08-23T00:00:00",
          "2022-08-24T00:00:00",
          "2022-08-25T00:00:00",
          "2022-08-26T00:00:00",
          "2022-08-29T00:00:00",
          "2022-08-30T00:00:00",
          "2022-08-31T00:00:00",
          "2022-09-01T00:00:00",
          "2022-09-02T00:00:00",
          "2022-09-06T00:00:00",
          "2022-09-07T00:00:00",
          "2022-09-08T00:00:00",
          "2022-09-09T00:00:00",
          "2022-09-12T00:00:00",
          "2022-09-13T00:00:00",
          "2022-09-14T00:00:00",
          "2022-09-15T00:00:00",
          "2022-09-16T00:00:00",
          "2022-09-19T00:00:00",
          "2022-09-20T00:00:00",
          "2022-09-21T00:00:00",
          "2022-09-22T00:00:00",
          "2022-09-23T00:00:00",
          "2022-09-26T00:00:00",
          "2022-09-27T00:00:00",
          "2022-09-28T00:00:00",
          "2022-09-29T00:00:00",
          "2022-09-30T00:00:00",
          "2022-10-03T00:00:00",
          "2022-10-04T00:00:00",
          "2022-10-05T00:00:00",
          "2022-10-06T00:00:00",
          "2022-10-07T00:00:00",
          "2022-10-10T00:00:00",
          "2022-10-11T00:00:00",
          "2022-10-12T00:00:00",
          "2022-10-13T00:00:00",
          "2022-10-14T00:00:00",
          "2022-10-17T00:00:00",
          "2022-10-18T00:00:00",
          "2022-10-19T00:00:00",
          "2022-10-20T00:00:00",
          "2022-10-21T00:00:00",
          "2022-10-24T00:00:00",
          "2022-10-25T00:00:00",
          "2022-10-26T00:00:00",
          "2022-10-27T00:00:00",
          "2022-10-28T00:00:00",
          "2022-10-31T00:00:00",
          "2022-11-01T00:00:00",
          "2022-11-02T00:00:00",
          "2022-11-03T00:00:00",
          "2022-11-04T00:00:00",
          "2022-11-07T00:00:00",
          "2022-11-08T00:00:00",
          "2022-11-09T00:00:00",
          "2022-11-10T00:00:00",
          "2022-11-11T00:00:00",
          "2022-11-14T00:00:00",
          "2022-11-15T00:00:00",
          "2022-11-16T00:00:00",
          "2022-11-17T00:00:00",
          "2022-11-18T00:00:00",
          "2022-11-21T00:00:00",
          "2022-11-22T00:00:00",
          "2022-11-23T00:00:00",
          "2022-11-25T00:00:00",
          "2022-11-28T00:00:00",
          "2022-11-29T00:00:00",
          "2022-11-30T00:00:00",
          "2022-12-01T00:00:00",
          "2022-12-02T00:00:00",
          "2022-12-05T00:00:00",
          "2022-12-06T00:00:00",
          "2022-12-07T00:00:00",
          "2022-12-08T00:00:00",
          "2022-12-09T00:00:00",
          "2022-12-12T00:00:00",
          "2022-12-13T00:00:00",
          "2022-12-14T00:00:00",
          "2022-12-15T00:00:00",
          "2022-12-16T00:00:00",
          "2022-12-19T00:00:00",
          "2022-12-20T00:00:00",
          "2022-12-21T00:00:00",
          "2022-12-22T00:00:00",
          "2022-12-23T00:00:00",
          "2022-12-27T00:00:00",
          "2022-12-28T00:00:00",
          "2022-12-29T00:00:00",
          "2022-12-30T00:00:00",
          "2023-01-03T00:00:00",
          "2023-01-04T00:00:00",
          "2023-01-05T00:00:00",
          "2023-01-06T00:00:00",
          "2023-01-09T00:00:00",
          "2023-01-10T00:00:00",
          "2023-01-11T00:00:00",
          "2023-01-12T00:00:00",
          "2023-01-13T00:00:00",
          "2023-01-17T00:00:00",
          "2023-01-18T00:00:00",
          "2023-01-19T00:00:00",
          "2023-01-20T00:00:00",
          "2023-01-23T00:00:00",
          "2023-01-24T00:00:00",
          "2023-01-25T00:00:00",
          "2023-01-26T00:00:00",
          "2023-01-27T00:00:00",
          "2023-01-30T00:00:00",
          "2023-01-31T00:00:00",
          "2023-02-01T00:00:00",
          "2023-02-02T00:00:00",
          "2023-02-03T00:00:00",
          "2023-02-06T00:00:00",
          "2023-02-07T00:00:00",
          "2023-02-08T00:00:00",
          "2023-02-09T00:00:00",
          "2023-02-10T00:00:00",
          "2023-02-13T00:00:00",
          "2023-02-14T00:00:00",
          "2023-02-15T00:00:00",
          "2023-02-16T00:00:00",
          "2023-02-17T00:00:00",
          "2023-02-21T00:00:00",
          "2023-02-22T00:00:00",
          "2023-02-23T00:00:00",
          "2023-02-24T00:00:00",
          "2023-02-27T00:00:00",
          "2023-02-28T00:00:00",
          "2023-03-01T00:00:00",
          "2023-03-02T00:00:00",
          "2023-03-03T00:00:00",
          "2023-03-06T00:00:00",
          "2023-03-07T00:00:00",
          "2023-03-08T00:00:00",
          "2023-03-09T00:00:00",
          "2023-03-10T00:00:00",
          "2023-03-13T00:00:00",
          "2023-03-14T00:00:00",
          "2023-03-15T00:00:00",
          "2023-03-16T00:00:00",
          "2023-03-17T00:00:00",
          "2023-03-20T00:00:00",
          "2023-03-21T00:00:00",
          "2023-03-22T00:00:00",
          "2023-03-23T00:00:00",
          "2023-03-24T00:00:00",
          "2023-03-27T00:00:00",
          "2023-03-28T00:00:00",
          "2023-03-29T00:00:00",
          "2023-03-30T00:00:00",
          "2023-03-31T00:00:00",
          "2023-04-03T00:00:00",
          "2023-04-04T00:00:00",
          "2023-04-05T00:00:00",
          "2023-04-06T00:00:00",
          "2023-04-10T00:00:00",
          "2023-04-11T00:00:00",
          "2023-04-12T00:00:00",
          "2023-04-13T00:00:00",
          "2023-04-14T00:00:00",
          "2023-04-17T00:00:00",
          "2023-04-18T00:00:00",
          "2023-04-19T00:00:00",
          "2023-04-20T00:00:00",
          "2023-04-21T00:00:00",
          "2023-04-24T00:00:00",
          "2023-04-25T00:00:00",
          "2023-04-26T00:00:00",
          "2023-04-27T00:00:00",
          "2023-04-28T00:00:00",
          "2023-05-01T00:00:00",
          "2023-05-02T00:00:00",
          "2023-05-03T00:00:00",
          "2023-05-04T00:00:00",
          "2023-05-05T00:00:00",
          "2023-05-08T00:00:00",
          "2023-05-09T00:00:00",
          "2023-05-10T00:00:00",
          "2023-05-11T00:00:00",
          "2023-05-12T00:00:00",
          "2023-05-15T00:00:00",
          "2023-05-16T00:00:00",
          "2023-05-17T00:00:00",
          "2023-05-18T00:00:00",
          "2023-05-19T00:00:00",
          "2023-05-22T00:00:00",
          "2023-05-23T00:00:00",
          "2023-05-24T00:00:00",
          "2023-05-25T00:00:00",
          "2023-05-26T00:00:00",
          "2023-05-30T00:00:00",
          "2023-05-31T00:00:00",
          "2023-06-01T00:00:00",
          "2023-06-02T00:00:00",
          "2023-06-05T00:00:00",
          "2023-06-06T00:00:00",
          "2023-06-07T00:00:00",
          "2023-06-08T00:00:00",
          "2023-06-09T00:00:00",
          "2023-06-12T00:00:00",
          "2023-06-13T00:00:00",
          "2023-06-14T00:00:00",
          "2023-06-15T00:00:00",
          "2023-06-16T00:00:00",
          "2023-06-20T00:00:00",
          "2023-06-21T00:00:00",
          "2023-06-22T00:00:00",
          "2023-06-23T00:00:00",
          "2023-06-26T00:00:00",
          "2023-06-27T00:00:00",
          "2023-06-28T00:00:00",
          "2023-06-29T00:00:00",
          "2023-06-30T00:00:00",
          "2023-07-03T00:00:00",
          "2023-07-05T00:00:00",
          "2023-07-06T00:00:00",
          "2023-07-07T00:00:00",
          "2023-07-10T00:00:00",
          "2023-07-11T00:00:00",
          "2023-07-12T00:00:00",
          "2023-07-13T00:00:00",
          "2023-07-14T00:00:00",
          "2023-07-17T00:00:00",
          "2023-07-18T00:00:00",
          "2023-07-19T00:00:00",
          "2023-07-20T00:00:00",
          "2023-07-21T00:00:00",
          "2023-07-24T00:00:00",
          "2023-07-25T00:00:00",
          "2023-07-26T00:00:00",
          "2023-07-27T00:00:00",
          "2023-07-28T00:00:00",
          "2023-07-31T00:00:00",
          "2023-08-01T00:00:00",
          "2023-08-02T00:00:00",
          "2023-08-03T00:00:00",
          "2023-08-04T00:00:00",
          "2023-08-07T00:00:00",
          "2023-08-08T00:00:00",
          "2023-08-09T00:00:00",
          "2023-08-10T00:00:00",
          "2023-08-11T00:00:00",
          "2023-08-14T00:00:00",
          "2023-08-15T00:00:00",
          "2023-08-16T00:00:00",
          "2023-08-17T00:00:00",
          "2023-08-18T00:00:00",
          "2023-08-21T00:00:00",
          "2023-08-22T00:00:00",
          "2023-08-23T00:00:00",
          "2023-08-24T00:00:00",
          "2023-08-25T00:00:00",
          "2023-08-28T00:00:00",
          "2023-08-29T00:00:00",
          "2023-08-30T00:00:00",
          "2023-08-31T00:00:00",
          "2023-09-01T00:00:00",
          "2023-09-05T00:00:00",
          "2023-09-06T00:00:00",
          "2023-09-07T00:00:00",
          "2023-09-08T00:00:00",
          "2023-09-11T00:00:00",
          "2023-09-12T00:00:00",
          "2023-09-13T00:00:00",
          "2023-09-14T00:00:00",
          "2023-09-15T00:00:00",
          "2023-09-18T00:00:00",
          "2023-09-19T00:00:00",
          "2023-09-20T00:00:00",
          "2023-09-21T00:00:00",
          "2023-09-22T00:00:00",
          "2023-09-25T00:00:00",
          "2023-09-26T00:00:00",
          "2023-09-27T00:00:00",
          "2023-09-28T00:00:00",
          "2023-09-29T00:00:00",
          "2023-10-02T00:00:00",
          "2023-10-03T00:00:00",
          "2023-10-04T00:00:00",
          "2023-10-05T00:00:00",
          "2023-10-06T00:00:00",
          "2023-10-09T00:00:00",
          "2023-10-10T00:00:00",
          "2023-10-11T00:00:00",
          "2023-10-12T00:00:00",
          "2023-10-13T00:00:00",
          "2023-10-16T00:00:00",
          "2023-10-17T00:00:00",
          "2023-10-18T00:00:00",
          "2023-10-19T00:00:00",
          "2023-10-20T00:00:00",
          "2023-10-23T00:00:00",
          "2023-10-24T00:00:00",
          "2023-10-25T00:00:00",
          "2023-10-26T00:00:00",
          "2023-10-27T00:00:00",
          "2023-10-30T00:00:00",
          "2023-10-31T00:00:00",
          "2023-11-01T00:00:00",
          "2023-11-02T00:00:00",
          "2023-11-03T00:00:00",
          "2023-11-06T00:00:00",
          "2023-11-07T00:00:00",
          "2023-11-08T00:00:00",
          "2023-11-09T00:00:00",
          "2023-11-10T00:00:00",
          "2023-11-13T00:00:00",
          "2023-11-14T00:00:00",
          "2023-11-15T00:00:00",
          "2023-11-16T00:00:00",
          "2023-11-17T00:00:00",
          "2023-11-20T00:00:00",
          "2023-11-21T00:00:00",
          "2023-11-22T00:00:00",
          "2023-11-24T00:00:00",
          "2023-11-27T00:00:00",
          "2023-11-28T00:00:00",
          "2023-11-29T00:00:00",
          "2023-11-30T00:00:00",
          "2023-12-01T00:00:00",
          "2023-12-04T00:00:00",
          "2023-12-05T00:00:00",
          "2023-12-06T00:00:00",
          "2023-12-07T00:00:00",
          "2023-12-08T00:00:00",
          "2023-12-11T00:00:00",
          "2023-12-12T00:00:00",
          "2023-12-13T00:00:00",
          "2023-12-14T00:00:00",
          "2023-12-15T00:00:00",
          "2023-12-18T00:00:00",
          "2023-12-19T00:00:00",
          "2023-12-20T00:00:00",
          "2023-12-21T00:00:00",
          "2023-12-22T00:00:00",
          "2023-12-26T00:00:00",
          "2023-12-27T00:00:00",
          "2023-12-28T00:00:00",
          "2023-12-29T00:00:00",
          "2024-01-02T00:00:00",
          "2024-01-03T00:00:00",
          "2024-01-04T00:00:00",
          "2024-01-05T00:00:00",
          "2024-01-08T00:00:00",
          "2024-01-09T00:00:00",
          "2024-01-10T00:00:00",
          "2024-01-11T00:00:00",
          "2024-01-12T00:00:00",
          "2024-01-16T00:00:00",
          "2024-01-17T00:00:00",
          "2024-01-18T00:00:00",
          "2024-01-19T00:00:00",
          "2024-01-22T00:00:00",
          "2024-01-23T00:00:00",
          "2024-01-24T00:00:00",
          "2024-01-25T00:00:00",
          "2024-01-26T00:00:00",
          "2024-01-29T00:00:00",
          "2024-01-30T00:00:00",
          "2024-01-31T00:00:00",
          "2024-02-01T00:00:00",
          "2024-02-02T00:00:00",
          "2024-02-05T00:00:00",
          "2024-02-06T00:00:00",
          "2024-02-07T00:00:00",
          "2024-02-08T00:00:00",
          "2024-02-09T00:00:00",
          "2024-02-12T00:00:00",
          "2024-02-13T00:00:00",
          "2024-02-14T00:00:00",
          "2024-02-15T00:00:00",
          "2024-02-16T00:00:00",
          "2024-02-20T00:00:00",
          "2024-02-21T00:00:00",
          "2024-02-22T00:00:00",
          "2024-02-23T00:00:00",
          "2024-02-26T00:00:00",
          "2024-02-27T00:00:00",
          "2024-02-28T00:00:00",
          "2024-02-29T00:00:00",
          "2024-03-01T00:00:00",
          "2024-03-04T00:00:00",
          "2024-03-05T00:00:00",
          "2024-03-06T00:00:00",
          "2024-03-07T00:00:00",
          "2024-03-08T00:00:00",
          "2024-03-11T00:00:00",
          "2024-03-12T00:00:00",
          "2024-03-13T00:00:00",
          "2024-03-14T00:00:00",
          "2024-03-15T00:00:00",
          "2024-03-18T00:00:00",
          "2024-03-19T00:00:00",
          "2024-03-20T00:00:00",
          "2024-03-21T00:00:00",
          "2024-03-22T00:00:00",
          "2024-03-25T00:00:00",
          "2024-03-26T00:00:00",
          "2024-03-27T00:00:00",
          "2024-03-28T00:00:00",
          "2024-04-01T00:00:00",
          "2024-04-02T00:00:00",
          "2024-04-03T00:00:00",
          "2024-04-04T00:00:00",
          "2024-04-05T00:00:00",
          "2024-04-08T00:00:00",
          "2024-04-09T00:00:00",
          "2024-04-10T00:00:00",
          "2024-04-11T00:00:00",
          "2024-04-12T00:00:00",
          "2024-04-15T00:00:00",
          "2024-04-16T00:00:00",
          "2024-04-17T00:00:00",
          "2024-04-18T00:00:00",
          "2024-04-19T00:00:00",
          "2024-04-22T00:00:00",
          "2024-04-23T00:00:00",
          "2024-04-24T00:00:00",
          "2024-04-25T00:00:00",
          "2024-04-26T00:00:00",
          "2024-04-29T00:00:00",
          "2024-04-30T00:00:00",
          "2024-05-01T00:00:00",
          "2024-05-02T00:00:00",
          "2024-05-03T00:00:00",
          "2024-05-06T00:00:00",
          "2024-05-07T00:00:00",
          "2024-05-08T00:00:00",
          "2024-05-09T00:00:00",
          "2024-05-10T00:00:00",
          "2024-05-13T00:00:00",
          "2024-05-14T00:00:00",
          "2024-05-15T00:00:00",
          "2024-05-16T00:00:00",
          "2024-05-17T00:00:00",
          "2024-05-20T00:00:00",
          "2024-05-21T00:00:00",
          "2024-05-22T00:00:00",
          "2024-05-23T00:00:00",
          "2024-05-24T00:00:00"
         ],
         "y": [
          51923.13,
          51020.65,
          50421.65,
          49847.82,
          49832.76,
          50307.6,
          50674.51,
          49721.52,
          49731.32,
          48886.66,
          48440.75,
          48312,
          47066.73,
          46745,
          46153.92,
          46515.04,
          46010.6,
          47845.31,
          49067.11,
          49344.66,
          48968.7,
          48286.96,
          48587.6,
          48139.77,
          48574.84,
          49054.59,
          48056.63,
          46221.06,
          46338.18,
          47126.19,
          47193.24,
          46040.93,
          45594.54,
          44998.34,
          43955.15,
          44458.74,
          45504.6,
          45530.16,
          44669.5,
          45113,
          44611.21,
          44301.76,
          42761.24,
          42468.45,
          43889.27,
          43695.83,
          41528.4,
          41511.87,
          42666.8,
          43658.47,
          44340.57,
          44960.22,
          44926.78,
          45759.41,
          45357.47,
          46040.5,
          46090.43,
          46826.35,
          47519.1,
          47380.85,
          46574.68,
          46978.03,
          47648.11,
          47111.19,
          46556.42,
          46623.28,
          46579.84,
          45664.79,
          44466.37,
          44991.46,
          44458.02,
          44523.15,
          45321.74,
          45048.12,
          44780.45,
          43641.22,
          43997.74,
          42170.48,
          42530.48,
          43729.38,
          42310.78,
          42345.63,
          42309,
          43440.19,
          41551.79,
          41359.64,
          39787.33,
          41371.29,
          40557.94,
          40152.91,
          41224.82,
          40834.91,
          41718.32,
          40125.89,
          39992.96,
          39936.52,
          40968.3,
          40393.14,
          40699.83,
          41509.36,
          42649.67,
          42463.54,
          42051.89,
          42821.82,
          41730.18,
          42019.45,
          42427.36,
          42218.18,
          41257.99,
          41106.62,
          39478.57,
          39321.08,
          40011.74,
          38657.32,
          38789.36,
          40369.4,
          40577.45,
          41083.63,
          42129.87,
          42086.32,
          41106.08,
          41338.33,
          40838.34,
          41291.26,
          41411.01,
          41669.44,
          42309.5,
          42470.72,
          41929.14,
          41738.97,
          41496.27,
          41554.48,
          42678,
          42142.52,
          43157.33,
          43017.61,
          43890.79,
          43603.47,
          43699.15,
          43211.47,
          44179.24,
          44729.91,
          45264.15,
          45085.95,
          44929.64,
          45851.76,
          45803.56,
          45477.78,
          45352.96,
          45001.73,
          45800.97,
          45378.07,
          46180.62,
          46694.35,
          46760.64,
          46440.05,
          46466.47,
          46052.87,
          45265.07,
          44973.41,
          44973.1,
          45507.04,
          44095.06,
          43851.95,
          43387.31,
          43036.81,
          43371.23,
          42746.31,
          42826.77,
          43501.52,
          43809.57,
          44401.38,
          44972.14,
          43259.26,
          43574.55,
          43457.16,
          43264.99,
          43524.57,
          43317.19,
          42384.82,
          42050.26,
          41403.6,
          41074.28,
          41017.46,
          41537.44,
          40547.77,
          40006.2,
          40272.07,
          41342.03,
          41312.81,
          40799.17,
          39653.86,
          39283.79,
          38902.09,
          38896.94,
          39856.76,
          39146.95,
          40277.02,
          40597.33,
          40434.04,
          40108.37,
          41045.01,
          41341.48,
          41992.07,
          42176.31,
          41950.06,
          42899.2,
          42697.91,
          42462.48,
          41307.28,
          40667.18,
          40803.6,
          41103.44,
          41300.69,
          40138.03,
          42056.72,
          41905.12,
          41601.3,
          41695.51,
          41650.56,
          41623.04,
          41952.23,
          41075.17,
          41597.8,
          42217.35,
          42359.15,
          41904.16,
          41549.6,
          43114.75,
          42967.26,
          42880.14,
          42248.22,
          41778.05,
          41699.09,
          41965.79,
          41747.8,
          42151.36,
          41920.52,
          41764.4,
          40762.78,
          40366.91,
          40111.36,
          39873.24,
          40302.77,
          39738.99,
          39907.06,
          39614.45,
          39314.68,
          39974.54,
          39986.78,
          39464.84,
          39707.37,
          39077.54,
          39908.34,
          40041.1,
          40070.19,
          40644.68,
          40745.72,
          40660.1,
          40676.58,
          39964.34,
          40002.7,
          40664.99,
          41020.17,
          41180.21,
          41242.62,
          41599.44,
          42014.32,
          41364.91,
          41973.23,
          42322.66,
          42354.79,
          42343.53,
          42256.55,
          42600.36,
          42331.24,
          42222.63,
          42158.84,
          42387.87,
          42549.8,
          42683,
          42042.08,
          42249.25,
          41451.82,
          41453.87,
          41569.37,
          41059.16,
          41383.79,
          41127.86,
          40898.94,
          40831.14,
          41528.54,
          41758.54,
          41007.71,
          40816.08,
          40081.5,
          39744.24,
          39809.34,
          40508.45,
          40332.56,
          40820.7,
          40563.14,
          40921.79,
          41715.19,
          41133.01,
          41188.24,
          41285.6,
          41450.39,
          41102.1,
          41426.79,
          41557.51,
          42242.92,
          42616.35,
          42496.95,
          42737.5,
          42854.48,
          42727.6,
          42918.44,
          42685.11,
          43487.48,
          43477.74,
          43367.5,
          43212.18,
          42813.62,
          42551.52,
          42600.32,
          42656.69,
          42294.01,
          41809.76,
          42606.41,
          42973.2,
          42989.58,
          42603.89,
          42344.99,
          42221.93,
          43191.6,
          43259.35,
          42827.85,
          42898.98,
          43087.61,
          42947.38,
          42874.19,
          42653.46,
          43215.27,
          43366.73,
          43279.51,
          43363.24,
          42733.82,
          42489.48,
          42470.84,
          43013.67,
          42984.14,
          43060.45,
          43668.73,
          44243.77,
          44187.5,
          44282.78,
          43846.66,
          44254.28,
          44545.62,
          44916.84,
          44954.82,
          44408.2,
          44930.48,
          44852.76,
          45262.79,
          45069.66,
          45452.48,
          45203.77,
          44650.1,
          45114.63,
          45098.45,
          45513.73,
          46132.49,
          46449.73,
          46406.83,
          46067.97,
          45635.76,
          45604.99,
          45821.34,
          45850.62,
          46142.52,
          46968.13,
          47353.66,
          47580.15,
          47673.84,
          47141.81,
          47155.48,
          47692.78,
          47584.35,
          47689.42,
          47144.08,
          47632.39,
          47739.58,
          47616.48,
          47065.41,
          47087.93,
          46679.77,
          47125.56,
          46837.96,
          46466.29,
          46622.74,
          46653.42,
          46889.29,
          46233.5,
          45892.53,
          45409.18,
          45387.56,
          45697.92,
          45733.46,
          46057.38,
          45537.26,
          46037.33,
          46247.08,
          46987.84,
          47133.57,
          46777.71,
          46657.44,
          46775.89,
          46361.77,
          46485.24,
          46417.72,
          47124.14,
          46898.27,
          47026.96,
          47192,
          47072.36,
          47102.78,
          46894.08,
          46723.67,
          46235.28,
          46003.64,
          46181.81,
          45527.94,
          45330.42,
          45766.35,
          45541.76,
          45904.76,
          45405.6,
          45983.98,
          46134.68,
          46620,
          46617.9,
          46834.05,
          46837.58,
          46771.09,
          46835.98,
          47096.48,
          47057.29,
          46405.23,
          45619.03,
          45082.9,
          44892.83,
          45304.12,
          44913.62,
          43956.5,
          43730.38,
          44143.3,
          44538.38,
          44814.22,
          45655.7,
          45715.87,
          45867.51,
          46176.83,
          46201.95,
          45790.72,
          46379.72,
          46523.88,
          47087.79,
          47236.4,
          47237.27,
          47236.19,
          47428.96,
          47710.44,
          47833.69,
          47943.26,
          47791.3,
          48020.39,
          47815.43,
          48308.13,
          48351.07,
          48051.99,
          48170.93,
          48085.5,
          48383.45,
          48415.93,
          48225.86,
          48439.25,
          48914.37,
          48642.06,
          48605.2,
          48745.62,
          48986.57,
          48240.08,
          48712.01,
          48688.67,
          48817.63,
          48986.05,
          48963.38,
          48833.86,
          48892.3,
          48562.78,
          48552.56,
          48389.56,
          48823.12,
          48805.9,
          49007.81,
          48858.64,
          48388.75,
          48168.69,
          48159.47,
          48266.05,
          48473.13,
          48678.92,
          48850.88,
          48751.5,
          47981.3,
          48124.32,
          48536.32,
          48620.59,
          48254.8,
          48657.67,
          48792.31,
          48423.2,
          48907.73,
          49255.72,
          48952.63,
          49170.7,
          49001.25,
          48704.67,
          48967.15,
          49551.2,
          49335.19,
          48824.97,
          49158,
          49931.16,
          49897.98,
          49830.68,
          49640.31,
          49478.4,
          49311.24,
          49255.65,
          48387.24,
          47851.46,
          47811.44,
          47928.19,
          47999.05,
          48449.93,
          48720.72,
          48650.5,
          48658.14,
          48505.09,
          48936.57,
          49219.94,
          49651.08,
          49445.47,
          49095.23,
          48812.16,
          49063.56,
          49380.91,
          49387.94,
          49150.59,
          48310.07,
          48197.79,
          47725.86,
          47986.95,
          48260.65,
          48341.56,
          47801.71,
          47918.13,
          47406.29,
          46943.56,
          47132.76,
          47310.28,
          47360.54,
          47464.02,
          47496.71,
          47801.74,
          48254.3,
          48427.48,
          48777.59,
          49046.04,
          48309.77,
          48181.25,
          48547.36,
          48864.33,
          49187.9,
          49441.16,
          49463.18,
          49685.28,
          49738.84,
          49881.93,
          50060.71,
          50342.82,
          50511.76,
          50770.35,
          50336,
          50765.45,
          50438.8,
          49747.5,
          49811.4
         ]
        }
       ],
       "layout": {
        "height": 500,
        "margin": {
         "b": 50,
         "l": 25,
         "r": 25,
         "t": 50
        },
        "template": {
         "data": {
          "bar": [
           {
            "error_x": {
             "color": "#2a3f5f"
            },
            "error_y": {
             "color": "#2a3f5f"
            },
            "marker": {
             "line": {
              "color": "white",
              "width": 0.5
             },
             "pattern": {
              "fillmode": "overlay",
              "size": 10,
              "solidity": 0.2
             }
            },
            "type": "bar"
           }
          ],
          "barpolar": [
           {
            "marker": {
             "line": {
              "color": "white",
              "width": 0.5
             },
             "pattern": {
              "fillmode": "overlay",
              "size": 10,
              "solidity": 0.2
             }
            },
            "type": "barpolar"
           }
          ],
          "carpet": [
           {
            "aaxis": {
             "endlinecolor": "#2a3f5f",
             "gridcolor": "#C8D4E3",
             "linecolor": "#C8D4E3",
             "minorgridcolor": "#C8D4E3",
             "startlinecolor": "#2a3f5f"
            },
            "baxis": {
             "endlinecolor": "#2a3f5f",
             "gridcolor": "#C8D4E3",
             "linecolor": "#C8D4E3",
             "minorgridcolor": "#C8D4E3",
             "startlinecolor": "#2a3f5f"
            },
            "type": "carpet"
           }
          ],
          "choropleth": [
           {
            "colorbar": {
             "outlinewidth": 0,
             "ticks": ""
            },
            "type": "choropleth"
           }
          ],
          "contour": [
           {
            "colorbar": {
             "outlinewidth": 0,
             "ticks": ""
            },
            "colorscale": [
             [
              0,
              "#0d0887"
             ],
             [
              0.1111111111111111,
              "#46039f"
             ],
             [
              0.2222222222222222,
              "#7201a8"
             ],
             [
              0.3333333333333333,
              "#9c179e"
             ],
             [
              0.4444444444444444,
              "#bd3786"
             ],
             [
              0.5555555555555556,
              "#d8576b"
             ],
             [
              0.6666666666666666,
              "#ed7953"
             ],
             [
              0.7777777777777778,
              "#fb9f3a"
             ],
             [
              0.8888888888888888,
              "#fdca26"
             ],
             [
              1,
              "#f0f921"
             ]
            ],
            "type": "contour"
           }
          ],
          "contourcarpet": [
           {
            "colorbar": {
             "outlinewidth": 0,
             "ticks": ""
            },
            "type": "contourcarpet"
           }
          ],
          "heatmap": [
           {
            "colorbar": {
             "outlinewidth": 0,
             "ticks": ""
            },
            "colorscale": [
             [
              0,
              "#0d0887"
             ],
             [
              0.1111111111111111,
              "#46039f"
             ],
             [
              0.2222222222222222,
              "#7201a8"
             ],
             [
              0.3333333333333333,
              "#9c179e"
             ],
             [
              0.4444444444444444,
              "#bd3786"
             ],
             [
              0.5555555555555556,
              "#d8576b"
             ],
             [
              0.6666666666666666,
              "#ed7953"
             ],
             [
              0.7777777777777778,
              "#fb9f3a"
             ],
             [
              0.8888888888888888,
              "#fdca26"
             ],
             [
              1,
              "#f0f921"
             ]
            ],
            "type": "heatmap"
           }
          ],
          "heatmapgl": [
           {
            "colorbar": {
             "outlinewidth": 0,
             "ticks": ""
            },
            "colorscale": [
             [
              0,
              "#0d0887"
             ],
             [
              0.1111111111111111,
              "#46039f"
             ],
             [
              0.2222222222222222,
              "#7201a8"
             ],
             [
              0.3333333333333333,
              "#9c179e"
             ],
             [
              0.4444444444444444,
              "#bd3786"
             ],
             [
              0.5555555555555556,
              "#d8576b"
             ],
             [
              0.6666666666666666,
              "#ed7953"
             ],
             [
              0.7777777777777778,
              "#fb9f3a"
             ],
             [
              0.8888888888888888,
              "#fdca26"
             ],
             [
              1,
              "#f0f921"
             ]
            ],
            "type": "heatmapgl"
           }
          ],
          "histogram": [
           {
            "marker": {
             "pattern": {
              "fillmode": "overlay",
              "size": 10,
              "solidity": 0.2
             }
            },
            "type": "histogram"
           }
          ],
          "histogram2d": [
           {
            "colorbar": {
             "outlinewidth": 0,
             "ticks": ""
            },
            "colorscale": [
             [
              0,
              "#0d0887"
             ],
             [
              0.1111111111111111,
              "#46039f"
             ],
             [
              0.2222222222222222,
              "#7201a8"
             ],
             [
              0.3333333333333333,
              "#9c179e"
             ],
             [
              0.4444444444444444,
              "#bd3786"
             ],
             [
              0.5555555555555556,
              "#d8576b"
             ],
             [
              0.6666666666666666,
              "#ed7953"
             ],
             [
              0.7777777777777778,
              "#fb9f3a"
             ],
             [
              0.8888888888888888,
              "#fdca26"
             ],
             [
              1,
              "#f0f921"
             ]
            ],
            "type": "histogram2d"
           }
          ],
          "histogram2dcontour": [
           {
            "colorbar": {
             "outlinewidth": 0,
             "ticks": ""
            },
            "colorscale": [
             [
              0,
              "#0d0887"
             ],
             [
              0.1111111111111111,
              "#46039f"
             ],
             [
              0.2222222222222222,
              "#7201a8"
             ],
             [
              0.3333333333333333,
              "#9c179e"
             ],
             [
              0.4444444444444444,
              "#bd3786"
             ],
             [
              0.5555555555555556,
              "#d8576b"
             ],
             [
              0.6666666666666666,
              "#ed7953"
             ],
             [
              0.7777777777777778,
              "#fb9f3a"
             ],
             [
              0.8888888888888888,
              "#fdca26"
             ],
             [
              1,
              "#f0f921"
             ]
            ],
            "type": "histogram2dcontour"
           }
          ],
          "mesh3d": [
           {
            "colorbar": {
             "outlinewidth": 0,
             "ticks": ""
            },
            "type": "mesh3d"
           }
          ],
          "parcoords": [
           {
            "line": {
             "colorbar": {
              "outlinewidth": 0,
              "ticks": ""
             }
            },
            "type": "parcoords"
           }
          ],
          "pie": [
           {
            "automargin": true,
            "type": "pie"
           }
          ],
          "scatter": [
           {
            "fillpattern": {
             "fillmode": "overlay",
             "size": 10,
             "solidity": 0.2
            },
            "type": "scatter"
           }
          ],
          "scatter3d": [
           {
            "line": {
             "colorbar": {
              "outlinewidth": 0,
              "ticks": ""
             }
            },
            "marker": {
             "colorbar": {
              "outlinewidth": 0,
              "ticks": ""
             }
            },
            "type": "scatter3d"
           }
          ],
          "scattercarpet": [
           {
            "marker": {
             "colorbar": {
              "outlinewidth": 0,
              "ticks": ""
             }
            },
            "type": "scattercarpet"
           }
          ],
          "scattergeo": [
           {
            "marker": {
             "colorbar": {
              "outlinewidth": 0,
              "ticks": ""
             }
            },
            "type": "scattergeo"
           }
          ],
          "scattergl": [
           {
            "marker": {
             "colorbar": {
              "outlinewidth": 0,
              "ticks": ""
             }
            },
            "type": "scattergl"
           }
          ],
          "scattermapbox": [
           {
            "marker": {
             "colorbar": {
              "outlinewidth": 0,
              "ticks": ""
             }
            },
            "type": "scattermapbox"
           }
          ],
          "scatterpolar": [
           {
            "marker": {
             "colorbar": {
              "outlinewidth": 0,
              "ticks": ""
             }
            },
            "type": "scatterpolar"
           }
          ],
          "scatterpolargl": [
           {
            "marker": {
             "colorbar": {
              "outlinewidth": 0,
              "ticks": ""
             }
            },
            "type": "scatterpolargl"
           }
          ],
          "scatterternary": [
           {
            "marker": {
             "colorbar": {
              "outlinewidth": 0,
              "ticks": ""
             }
            },
            "type": "scatterternary"
           }
          ],
          "surface": [
           {
            "colorbar": {
             "outlinewidth": 0,
             "ticks": ""
            },
            "colorscale": [
             [
              0,
              "#0d0887"
             ],
             [
              0.1111111111111111,
              "#46039f"
             ],
             [
              0.2222222222222222,
              "#7201a8"
             ],
             [
              0.3333333333333333,
              "#9c179e"
             ],
             [
              0.4444444444444444,
              "#bd3786"
             ],
             [
              0.5555555555555556,
              "#d8576b"
             ],
             [
              0.6666666666666666,
              "#ed7953"
             ],
             [
              0.7777777777777778,
              "#fb9f3a"
             ],
             [
              0.8888888888888888,
              "#fdca26"
             ],
             [
              1,
              "#f0f921"
             ]
            ],
            "type": "surface"
           }
          ],
          "table": [
           {
            "cells": {
             "fill": {
              "color": "#EBF0F8"
             },
             "line": {
              "color": "white"
             }
            },
            "header": {
             "fill": {
              "color": "#C8D4E3"
             },
             "line": {
              "color": "white"
             }
            },
            "type": "table"
           }
          ]
         },
         "layout": {
          "annotationdefaults": {
           "arrowcolor": "#2a3f5f",
           "arrowhead": 0,
           "arrowwidth": 1
          },
          "autotypenumbers": "strict",
          "coloraxis": {
           "colorbar": {
            "outlinewidth": 0,
            "ticks": ""
           }
          },
          "colorscale": {
           "diverging": [
            [
             0,
             "#8e0152"
            ],
            [
             0.1,
             "#c51b7d"
            ],
            [
             0.2,
             "#de77ae"
            ],
            [
             0.3,
             "#f1b6da"
            ],
            [
             0.4,
             "#fde0ef"
            ],
            [
             0.5,
             "#f7f7f7"
            ],
            [
             0.6,
             "#e6f5d0"
            ],
            [
             0.7,
             "#b8e186"
            ],
            [
             0.8,
             "#7fbc41"
            ],
            [
             0.9,
             "#4d9221"
            ],
            [
             1,
             "#276419"
            ]
           ],
           "sequential": [
            [
             0,
             "#0d0887"
            ],
            [
             0.1111111111111111,
             "#46039f"
            ],
            [
             0.2222222222222222,
             "#7201a8"
            ],
            [
             0.3333333333333333,
             "#9c179e"
            ],
            [
             0.4444444444444444,
             "#bd3786"
            ],
            [
             0.5555555555555556,
             "#d8576b"
            ],
            [
             0.6666666666666666,
             "#ed7953"
            ],
            [
             0.7777777777777778,
             "#fb9f3a"
            ],
            [
             0.8888888888888888,
             "#fdca26"
            ],
            [
             1,
             "#f0f921"
            ]
           ],
           "sequentialminus": [
            [
             0,
             "#0d0887"
            ],
            [
             0.1111111111111111,
             "#46039f"
            ],
            [
             0.2222222222222222,
             "#7201a8"
            ],
            [
             0.3333333333333333,
             "#9c179e"
            ],
            [
             0.4444444444444444,
             "#bd3786"
            ],
            [
             0.5555555555555556,
             "#d8576b"
            ],
            [
             0.6666666666666666,
             "#ed7953"
            ],
            [
             0.7777777777777778,
             "#fb9f3a"
            ],
            [
             0.8888888888888888,
             "#fdca26"
            ],
            [
             1,
             "#f0f921"
            ]
           ]
          },
          "colorway": [
           "#636efa",
           "#EF553B",
           "#00cc96",
           "#ab63fa",
           "#FFA15A",
           "#19d3f3",
           "#FF6692",
           "#B6E880",
           "#FF97FF",
           "#FECB52"
          ],
          "font": {
           "color": "#2a3f5f"
          },
          "geo": {
           "bgcolor": "white",
           "lakecolor": "white",
           "landcolor": "white",
           "showlakes": true,
           "showland": true,
           "subunitcolor": "#C8D4E3"
          },
          "hoverlabel": {
           "align": "left"
          },
          "hovermode": "closest",
          "mapbox": {
           "style": "light"
          },
          "paper_bgcolor": "white",
          "plot_bgcolor": "white",
          "polar": {
           "angularaxis": {
            "gridcolor": "#EBF0F8",
            "linecolor": "#EBF0F8",
            "ticks": ""
           },
           "bgcolor": "white",
           "radialaxis": {
            "gridcolor": "#EBF0F8",
            "linecolor": "#EBF0F8",
            "ticks": ""
           }
          },
          "scene": {
           "xaxis": {
            "backgroundcolor": "white",
            "gridcolor": "#DFE8F3",
            "gridwidth": 2,
            "linecolor": "#EBF0F8",
            "showbackground": true,
            "ticks": "",
            "zerolinecolor": "#EBF0F8"
           },
           "yaxis": {
            "backgroundcolor": "white",
            "gridcolor": "#DFE8F3",
            "gridwidth": 2,
            "linecolor": "#EBF0F8",
            "showbackground": true,
            "ticks": "",
            "zerolinecolor": "#EBF0F8"
           },
           "zaxis": {
            "backgroundcolor": "white",
            "gridcolor": "#DFE8F3",
            "gridwidth": 2,
            "linecolor": "#EBF0F8",
            "showbackground": true,
            "ticks": "",
            "zerolinecolor": "#EBF0F8"
           }
          },
          "shapedefaults": {
           "line": {
            "color": "#2a3f5f"
           }
          },
          "ternary": {
           "aaxis": {
            "gridcolor": "#DFE8F3",
            "linecolor": "#A2B1C6",
            "ticks": ""
           },
           "baxis": {
            "gridcolor": "#DFE8F3",
            "linecolor": "#A2B1C6",
            "ticks": ""
           },
           "bgcolor": "white",
           "caxis": {
            "gridcolor": "#DFE8F3",
            "linecolor": "#A2B1C6",
            "ticks": ""
           }
          },
          "title": {
           "x": 0.05
          },
          "xaxis": {
           "automargin": true,
           "gridcolor": "#EBF0F8",
           "linecolor": "#EBF0F8",
           "ticks": "",
           "title": {
            "standoff": 15
           },
           "zerolinecolor": "#EBF0F8",
           "zerolinewidth": 2
          },
          "yaxis": {
           "automargin": true,
           "gridcolor": "#EBF0F8",
           "linecolor": "#EBF0F8",
           "ticks": "",
           "title": {
            "standoff": 15
           },
           "zerolinecolor": "#EBF0F8",
           "zerolinewidth": 2
          }
         }
        },
        "xaxis": {
         "tickfont": {
          "size": 12
         }
        },
        "yaxis": {
         "tickfont": {
          "size": 12
         },
         "title": {
          "font": {
           "size": 14
          },
          "text": "Value: $ USD"
         }
        }
       }
      }
     },
     "metadata": {},
     "output_type": "display_data"
    }
   ],
   "source": [
    "CHART_THEME = 'plotly_white'  # others include seaborn, ggplot2, plotly_dark\n",
    "\n",
    "chart_ptfvalue = go.Figure()  # generating a figure that will be updated in the following lines\n",
    "chart_ptfvalue.add_trace(go.Scatter(x=plotlydf_portfval.date, y=plotlydf_portfval.portf_value,\n",
    "                    mode='lines',  # you can also use \"lines+markers\", or just \"markers\"\n",
    "                    name='Global Value'))\n",
    "chart_ptfvalue.layout.template = CHART_THEME\n",
    "chart_ptfvalue.layout.height=500\n",
    "chart_ptfvalue.update_layout(margin = dict(t=50, b=50, l=25, r=25))  # this will help you optimize the chart space\n",
    "chart_ptfvalue.update_layout(\n",
    "    # title='Global Portfolio Value (USD $)',\n",
    "    xaxis_tickfont_size=12,\n",
    "    yaxis=dict(\n",
    "        title='Value: $ USD',\n",
    "        titlefont_size=14,\n",
    "        tickfont_size=12,\n",
    "        ))\n",
    "# chart_ptfvalue.update_xaxes(rangeslider_visible=False)\n",
    "# chart_ptfvalue.update_layout(showlegend=False)\n",
    "chart_ptfvalue.show()"
   ]
  },
  {
   "cell_type": "code",
   "execution_count": 64,
   "metadata": {},
   "outputs": [
    {
     "data": {
      "text/plain": [
       "['ggplot2',\n",
       " 'seaborn',\n",
       " 'simple_white',\n",
       " 'plotly',\n",
       " 'plotly_white',\n",
       " 'plotly_dark',\n",
       " 'presentation',\n",
       " 'xgridoff',\n",
       " 'ygridoff',\n",
       " 'gridon',\n",
       " 'none']"
      ]
     },
     "execution_count": 64,
     "metadata": {},
     "output_type": "execute_result"
    }
   ],
   "source": [
    "import plotly.io as pio\n",
    "list(pio.templates)  # doctest: +ELLIPSIS"
   ]
  },
  {
   "cell_type": "code",
   "execution_count": 65,
   "metadata": {},
   "outputs": [
    {
     "data": {
      "application/vnd.plotly.v1+json": {
       "config": {
        "plotlyServerURL": "https://plot.ly"
       },
       "data": [
        {
         "name": "Portfolio",
         "type": "bar",
         "x": [
          "2022-01-04T00:00:00",
          "2022-01-05T00:00:00",
          "2022-01-06T00:00:00",
          "2022-01-07T00:00:00",
          "2022-01-10T00:00:00",
          "2022-01-11T00:00:00",
          "2022-01-12T00:00:00",
          "2022-01-13T00:00:00",
          "2022-01-14T00:00:00",
          "2022-01-18T00:00:00",
          "2022-01-19T00:00:00",
          "2022-01-20T00:00:00",
          "2022-01-21T00:00:00",
          "2022-01-24T00:00:00",
          "2022-01-25T00:00:00",
          "2022-01-26T00:00:00",
          "2022-01-27T00:00:00",
          "2022-01-28T00:00:00",
          "2022-01-31T00:00:00",
          "2022-02-01T00:00:00",
          "2022-02-02T00:00:00",
          "2022-02-03T00:00:00",
          "2022-02-04T00:00:00",
          "2022-02-07T00:00:00",
          "2022-02-08T00:00:00",
          "2022-02-09T00:00:00",
          "2022-02-10T00:00:00",
          "2022-02-11T00:00:00",
          "2022-02-14T00:00:00",
          "2022-02-15T00:00:00",
          "2022-02-16T00:00:00",
          "2022-02-17T00:00:00",
          "2022-02-18T00:00:00",
          "2022-02-22T00:00:00",
          "2022-02-23T00:00:00",
          "2022-02-24T00:00:00",
          "2022-02-25T00:00:00",
          "2022-02-28T00:00:00",
          "2022-03-01T00:00:00",
          "2022-03-02T00:00:00",
          "2022-03-03T00:00:00",
          "2022-03-04T00:00:00",
          "2022-03-07T00:00:00",
          "2022-03-08T00:00:00",
          "2022-03-09T00:00:00",
          "2022-03-10T00:00:00",
          "2022-03-11T00:00:00",
          "2022-03-14T00:00:00",
          "2022-03-15T00:00:00",
          "2022-03-16T00:00:00",
          "2022-03-17T00:00:00",
          "2022-03-18T00:00:00",
          "2022-03-21T00:00:00",
          "2022-03-22T00:00:00",
          "2022-03-23T00:00:00",
          "2022-03-24T00:00:00",
          "2022-03-25T00:00:00",
          "2022-03-28T00:00:00",
          "2022-03-29T00:00:00",
          "2022-03-30T00:00:00",
          "2022-03-31T00:00:00",
          "2022-04-01T00:00:00",
          "2022-04-04T00:00:00",
          "2022-04-05T00:00:00",
          "2022-04-06T00:00:00",
          "2022-04-07T00:00:00",
          "2022-04-08T00:00:00",
          "2022-04-11T00:00:00",
          "2022-04-12T00:00:00",
          "2022-04-13T00:00:00",
          "2022-04-14T00:00:00",
          "2022-04-18T00:00:00",
          "2022-04-19T00:00:00",
          "2022-04-20T00:00:00",
          "2022-04-21T00:00:00",
          "2022-04-22T00:00:00",
          "2022-04-25T00:00:00",
          "2022-04-26T00:00:00",
          "2022-04-27T00:00:00",
          "2022-04-28T00:00:00",
          "2022-04-29T00:00:00",
          "2022-05-02T00:00:00",
          "2022-05-03T00:00:00",
          "2022-05-04T00:00:00",
          "2022-05-05T00:00:00",
          "2022-05-06T00:00:00",
          "2022-05-09T00:00:00",
          "2022-05-10T00:00:00",
          "2022-05-11T00:00:00",
          "2022-05-12T00:00:00",
          "2022-05-13T00:00:00",
          "2022-05-16T00:00:00",
          "2022-05-17T00:00:00",
          "2022-05-18T00:00:00",
          "2022-05-19T00:00:00",
          "2022-05-20T00:00:00",
          "2022-05-23T00:00:00",
          "2022-05-24T00:00:00",
          "2022-05-25T00:00:00",
          "2022-05-26T00:00:00",
          "2022-05-27T00:00:00",
          "2022-05-31T00:00:00",
          "2022-06-01T00:00:00",
          "2022-06-02T00:00:00",
          "2022-06-03T00:00:00",
          "2022-06-06T00:00:00",
          "2022-06-07T00:00:00",
          "2022-06-08T00:00:00",
          "2022-06-09T00:00:00",
          "2022-06-10T00:00:00",
          "2022-06-13T00:00:00",
          "2022-06-14T00:00:00",
          "2022-06-15T00:00:00",
          "2022-06-16T00:00:00",
          "2022-06-17T00:00:00",
          "2022-06-21T00:00:00",
          "2022-06-22T00:00:00",
          "2022-06-23T00:00:00",
          "2022-06-24T00:00:00",
          "2022-06-27T00:00:00",
          "2022-06-28T00:00:00",
          "2022-06-29T00:00:00",
          "2022-06-30T00:00:00",
          "2022-07-01T00:00:00",
          "2022-07-05T00:00:00",
          "2022-07-06T00:00:00",
          "2022-07-07T00:00:00",
          "2022-07-08T00:00:00",
          "2022-07-11T00:00:00",
          "2022-07-12T00:00:00",
          "2022-07-13T00:00:00",
          "2022-07-14T00:00:00",
          "2022-07-15T00:00:00",
          "2022-07-18T00:00:00",
          "2022-07-19T00:00:00",
          "2022-07-20T00:00:00",
          "2022-07-21T00:00:00",
          "2022-07-22T00:00:00",
          "2022-07-25T00:00:00",
          "2022-07-26T00:00:00",
          "2022-07-27T00:00:00",
          "2022-07-28T00:00:00",
          "2022-07-29T00:00:00",
          "2022-08-01T00:00:00",
          "2022-08-02T00:00:00",
          "2022-08-03T00:00:00",
          "2022-08-04T00:00:00",
          "2022-08-05T00:00:00",
          "2022-08-08T00:00:00",
          "2022-08-09T00:00:00",
          "2022-08-10T00:00:00",
          "2022-08-11T00:00:00",
          "2022-08-12T00:00:00",
          "2022-08-15T00:00:00",
          "2022-08-16T00:00:00",
          "2022-08-17T00:00:00",
          "2022-08-18T00:00:00",
          "2022-08-19T00:00:00",
          "2022-08-22T00:00:00",
          "2022-08-23T00:00:00",
          "2022-08-24T00:00:00",
          "2022-08-25T00:00:00",
          "2022-08-26T00:00:00",
          "2022-08-29T00:00:00",
          "2022-08-30T00:00:00",
          "2022-08-31T00:00:00",
          "2022-09-01T00:00:00",
          "2022-09-02T00:00:00",
          "2022-09-06T00:00:00",
          "2022-09-07T00:00:00",
          "2022-09-08T00:00:00",
          "2022-09-09T00:00:00",
          "2022-09-12T00:00:00",
          "2022-09-13T00:00:00",
          "2022-09-14T00:00:00",
          "2022-09-15T00:00:00",
          "2022-09-16T00:00:00",
          "2022-09-19T00:00:00",
          "2022-09-20T00:00:00",
          "2022-09-21T00:00:00",
          "2022-09-22T00:00:00",
          "2022-09-23T00:00:00",
          "2022-09-26T00:00:00",
          "2022-09-27T00:00:00",
          "2022-09-28T00:00:00",
          "2022-09-29T00:00:00",
          "2022-09-30T00:00:00",
          "2022-10-03T00:00:00",
          "2022-10-04T00:00:00",
          "2022-10-05T00:00:00",
          "2022-10-06T00:00:00",
          "2022-10-07T00:00:00",
          "2022-10-10T00:00:00",
          "2022-10-11T00:00:00",
          "2022-10-12T00:00:00",
          "2022-10-13T00:00:00",
          "2022-10-14T00:00:00",
          "2022-10-17T00:00:00",
          "2022-10-18T00:00:00",
          "2022-10-19T00:00:00",
          "2022-10-20T00:00:00",
          "2022-10-21T00:00:00",
          "2022-10-24T00:00:00",
          "2022-10-25T00:00:00",
          "2022-10-26T00:00:00",
          "2022-10-27T00:00:00",
          "2022-10-28T00:00:00",
          "2022-10-31T00:00:00",
          "2022-11-01T00:00:00",
          "2022-11-02T00:00:00",
          "2022-11-03T00:00:00",
          "2022-11-04T00:00:00",
          "2022-11-07T00:00:00",
          "2022-11-08T00:00:00",
          "2022-11-09T00:00:00",
          "2022-11-10T00:00:00",
          "2022-11-11T00:00:00",
          "2022-11-14T00:00:00",
          "2022-11-15T00:00:00",
          "2022-11-16T00:00:00",
          "2022-11-17T00:00:00",
          "2022-11-18T00:00:00",
          "2022-11-21T00:00:00",
          "2022-11-22T00:00:00",
          "2022-11-23T00:00:00",
          "2022-11-25T00:00:00",
          "2022-11-28T00:00:00",
          "2022-11-29T00:00:00",
          "2022-11-30T00:00:00",
          "2022-12-01T00:00:00",
          "2022-12-02T00:00:00",
          "2022-12-05T00:00:00",
          "2022-12-06T00:00:00",
          "2022-12-07T00:00:00",
          "2022-12-08T00:00:00",
          "2022-12-09T00:00:00",
          "2022-12-12T00:00:00",
          "2022-12-13T00:00:00",
          "2022-12-14T00:00:00",
          "2022-12-15T00:00:00",
          "2022-12-16T00:00:00",
          "2022-12-19T00:00:00",
          "2022-12-20T00:00:00",
          "2022-12-21T00:00:00",
          "2022-12-22T00:00:00",
          "2022-12-23T00:00:00",
          "2022-12-27T00:00:00",
          "2022-12-28T00:00:00",
          "2022-12-29T00:00:00",
          "2022-12-30T00:00:00",
          "2023-01-03T00:00:00",
          "2023-01-04T00:00:00",
          "2023-01-05T00:00:00",
          "2023-01-06T00:00:00",
          "2023-01-09T00:00:00",
          "2023-01-10T00:00:00",
          "2023-01-11T00:00:00",
          "2023-01-12T00:00:00",
          "2023-01-13T00:00:00",
          "2023-01-17T00:00:00",
          "2023-01-18T00:00:00",
          "2023-01-19T00:00:00",
          "2023-01-20T00:00:00",
          "2023-01-23T00:00:00",
          "2023-01-24T00:00:00",
          "2023-01-25T00:00:00",
          "2023-01-26T00:00:00",
          "2023-01-27T00:00:00",
          "2023-01-30T00:00:00",
          "2023-01-31T00:00:00",
          "2023-02-01T00:00:00",
          "2023-02-02T00:00:00",
          "2023-02-03T00:00:00",
          "2023-02-06T00:00:00",
          "2023-02-07T00:00:00",
          "2023-02-08T00:00:00",
          "2023-02-09T00:00:00",
          "2023-02-10T00:00:00",
          "2023-02-13T00:00:00",
          "2023-02-14T00:00:00",
          "2023-02-15T00:00:00",
          "2023-02-16T00:00:00",
          "2023-02-17T00:00:00",
          "2023-02-21T00:00:00",
          "2023-02-22T00:00:00",
          "2023-02-23T00:00:00",
          "2023-02-24T00:00:00",
          "2023-02-27T00:00:00",
          "2023-02-28T00:00:00",
          "2023-03-01T00:00:00",
          "2023-03-02T00:00:00",
          "2023-03-03T00:00:00",
          "2023-03-06T00:00:00",
          "2023-03-07T00:00:00",
          "2023-03-08T00:00:00",
          "2023-03-09T00:00:00",
          "2023-03-10T00:00:00",
          "2023-03-13T00:00:00",
          "2023-03-14T00:00:00",
          "2023-03-15T00:00:00",
          "2023-03-16T00:00:00",
          "2023-03-17T00:00:00",
          "2023-03-20T00:00:00",
          "2023-03-21T00:00:00",
          "2023-03-22T00:00:00",
          "2023-03-23T00:00:00",
          "2023-03-24T00:00:00",
          "2023-03-27T00:00:00",
          "2023-03-28T00:00:00",
          "2023-03-29T00:00:00",
          "2023-03-30T00:00:00",
          "2023-03-31T00:00:00",
          "2023-04-03T00:00:00",
          "2023-04-04T00:00:00",
          "2023-04-05T00:00:00",
          "2023-04-06T00:00:00",
          "2023-04-10T00:00:00",
          "2023-04-11T00:00:00",
          "2023-04-12T00:00:00",
          "2023-04-13T00:00:00",
          "2023-04-14T00:00:00",
          "2023-04-17T00:00:00",
          "2023-04-18T00:00:00",
          "2023-04-19T00:00:00",
          "2023-04-20T00:00:00",
          "2023-04-21T00:00:00",
          "2023-04-24T00:00:00",
          "2023-04-25T00:00:00",
          "2023-04-26T00:00:00",
          "2023-04-27T00:00:00",
          "2023-04-28T00:00:00",
          "2023-05-01T00:00:00",
          "2023-05-02T00:00:00",
          "2023-05-03T00:00:00",
          "2023-05-04T00:00:00",
          "2023-05-05T00:00:00",
          "2023-05-08T00:00:00",
          "2023-05-09T00:00:00",
          "2023-05-10T00:00:00",
          "2023-05-11T00:00:00",
          "2023-05-12T00:00:00",
          "2023-05-15T00:00:00",
          "2023-05-16T00:00:00",
          "2023-05-17T00:00:00",
          "2023-05-18T00:00:00",
          "2023-05-19T00:00:00",
          "2023-05-22T00:00:00",
          "2023-05-23T00:00:00",
          "2023-05-24T00:00:00",
          "2023-05-25T00:00:00",
          "2023-05-26T00:00:00",
          "2023-05-30T00:00:00",
          "2023-05-31T00:00:00",
          "2023-06-01T00:00:00",
          "2023-06-02T00:00:00",
          "2023-06-05T00:00:00",
          "2023-06-06T00:00:00",
          "2023-06-07T00:00:00",
          "2023-06-08T00:00:00",
          "2023-06-09T00:00:00",
          "2023-06-12T00:00:00",
          "2023-06-13T00:00:00",
          "2023-06-14T00:00:00",
          "2023-06-15T00:00:00",
          "2023-06-16T00:00:00",
          "2023-06-20T00:00:00",
          "2023-06-21T00:00:00",
          "2023-06-22T00:00:00",
          "2023-06-23T00:00:00",
          "2023-06-26T00:00:00",
          "2023-06-27T00:00:00",
          "2023-06-28T00:00:00",
          "2023-06-29T00:00:00",
          "2023-06-30T00:00:00",
          "2023-07-03T00:00:00",
          "2023-07-05T00:00:00",
          "2023-07-06T00:00:00",
          "2023-07-07T00:00:00",
          "2023-07-10T00:00:00",
          "2023-07-11T00:00:00",
          "2023-07-12T00:00:00",
          "2023-07-13T00:00:00",
          "2023-07-14T00:00:00",
          "2023-07-17T00:00:00",
          "2023-07-18T00:00:00",
          "2023-07-19T00:00:00",
          "2023-07-20T00:00:00",
          "2023-07-21T00:00:00",
          "2023-07-24T00:00:00",
          "2023-07-25T00:00:00",
          "2023-07-26T00:00:00",
          "2023-07-27T00:00:00",
          "2023-07-28T00:00:00",
          "2023-07-31T00:00:00",
          "2023-08-01T00:00:00",
          "2023-08-02T00:00:00",
          "2023-08-03T00:00:00",
          "2023-08-04T00:00:00",
          "2023-08-07T00:00:00",
          "2023-08-08T00:00:00",
          "2023-08-09T00:00:00",
          "2023-08-10T00:00:00",
          "2023-08-11T00:00:00",
          "2023-08-14T00:00:00",
          "2023-08-15T00:00:00",
          "2023-08-16T00:00:00",
          "2023-08-17T00:00:00",
          "2023-08-18T00:00:00",
          "2023-08-21T00:00:00",
          "2023-08-22T00:00:00",
          "2023-08-23T00:00:00",
          "2023-08-24T00:00:00",
          "2023-08-25T00:00:00",
          "2023-08-28T00:00:00",
          "2023-08-29T00:00:00",
          "2023-08-30T00:00:00",
          "2023-08-31T00:00:00",
          "2023-09-01T00:00:00",
          "2023-09-05T00:00:00",
          "2023-09-06T00:00:00",
          "2023-09-07T00:00:00",
          "2023-09-08T00:00:00",
          "2023-09-11T00:00:00",
          "2023-09-12T00:00:00",
          "2023-09-13T00:00:00",
          "2023-09-14T00:00:00",
          "2023-09-15T00:00:00",
          "2023-09-18T00:00:00",
          "2023-09-19T00:00:00",
          "2023-09-20T00:00:00",
          "2023-09-21T00:00:00",
          "2023-09-22T00:00:00",
          "2023-09-25T00:00:00",
          "2023-09-26T00:00:00",
          "2023-09-27T00:00:00",
          "2023-09-28T00:00:00",
          "2023-09-29T00:00:00",
          "2023-10-02T00:00:00",
          "2023-10-03T00:00:00",
          "2023-10-04T00:00:00",
          "2023-10-05T00:00:00",
          "2023-10-06T00:00:00",
          "2023-10-09T00:00:00",
          "2023-10-10T00:00:00",
          "2023-10-11T00:00:00",
          "2023-10-12T00:00:00",
          "2023-10-13T00:00:00",
          "2023-10-16T00:00:00",
          "2023-10-17T00:00:00",
          "2023-10-18T00:00:00",
          "2023-10-19T00:00:00",
          "2023-10-20T00:00:00",
          "2023-10-23T00:00:00",
          "2023-10-24T00:00:00",
          "2023-10-25T00:00:00",
          "2023-10-26T00:00:00",
          "2023-10-27T00:00:00",
          "2023-10-30T00:00:00",
          "2023-10-31T00:00:00",
          "2023-11-01T00:00:00",
          "2023-11-02T00:00:00",
          "2023-11-03T00:00:00",
          "2023-11-06T00:00:00",
          "2023-11-07T00:00:00",
          "2023-11-08T00:00:00",
          "2023-11-09T00:00:00",
          "2023-11-10T00:00:00",
          "2023-11-13T00:00:00",
          "2023-11-14T00:00:00",
          "2023-11-15T00:00:00",
          "2023-11-16T00:00:00",
          "2023-11-17T00:00:00",
          "2023-11-20T00:00:00",
          "2023-11-21T00:00:00",
          "2023-11-22T00:00:00",
          "2023-11-24T00:00:00",
          "2023-11-27T00:00:00",
          "2023-11-28T00:00:00",
          "2023-11-29T00:00:00",
          "2023-11-30T00:00:00",
          "2023-12-01T00:00:00",
          "2023-12-04T00:00:00",
          "2023-12-05T00:00:00",
          "2023-12-06T00:00:00",
          "2023-12-07T00:00:00",
          "2023-12-08T00:00:00",
          "2023-12-11T00:00:00",
          "2023-12-12T00:00:00",
          "2023-12-13T00:00:00",
          "2023-12-14T00:00:00",
          "2023-12-15T00:00:00",
          "2023-12-18T00:00:00",
          "2023-12-19T00:00:00",
          "2023-12-20T00:00:00",
          "2023-12-21T00:00:00",
          "2023-12-22T00:00:00",
          "2023-12-26T00:00:00",
          "2023-12-27T00:00:00",
          "2023-12-28T00:00:00",
          "2023-12-29T00:00:00",
          "2024-01-02T00:00:00",
          "2024-01-03T00:00:00",
          "2024-01-04T00:00:00",
          "2024-01-05T00:00:00",
          "2024-01-08T00:00:00",
          "2024-01-09T00:00:00",
          "2024-01-10T00:00:00",
          "2024-01-11T00:00:00",
          "2024-01-12T00:00:00",
          "2024-01-16T00:00:00",
          "2024-01-17T00:00:00",
          "2024-01-18T00:00:00",
          "2024-01-19T00:00:00",
          "2024-01-22T00:00:00",
          "2024-01-23T00:00:00",
          "2024-01-24T00:00:00",
          "2024-01-25T00:00:00",
          "2024-01-26T00:00:00",
          "2024-01-29T00:00:00",
          "2024-01-30T00:00:00",
          "2024-01-31T00:00:00",
          "2024-02-01T00:00:00",
          "2024-02-02T00:00:00",
          "2024-02-05T00:00:00",
          "2024-02-06T00:00:00",
          "2024-02-07T00:00:00",
          "2024-02-08T00:00:00",
          "2024-02-09T00:00:00",
          "2024-02-12T00:00:00",
          "2024-02-13T00:00:00",
          "2024-02-14T00:00:00",
          "2024-02-15T00:00:00",
          "2024-02-16T00:00:00",
          "2024-02-20T00:00:00",
          "2024-02-21T00:00:00",
          "2024-02-22T00:00:00",
          "2024-02-23T00:00:00",
          "2024-02-26T00:00:00",
          "2024-02-27T00:00:00",
          "2024-02-28T00:00:00",
          "2024-02-29T00:00:00",
          "2024-03-01T00:00:00",
          "2024-03-04T00:00:00",
          "2024-03-05T00:00:00",
          "2024-03-06T00:00:00",
          "2024-03-07T00:00:00",
          "2024-03-08T00:00:00",
          "2024-03-11T00:00:00",
          "2024-03-12T00:00:00",
          "2024-03-13T00:00:00",
          "2024-03-14T00:00:00",
          "2024-03-15T00:00:00",
          "2024-03-18T00:00:00",
          "2024-03-19T00:00:00",
          "2024-03-20T00:00:00",
          "2024-03-21T00:00:00",
          "2024-03-22T00:00:00",
          "2024-03-25T00:00:00",
          "2024-03-26T00:00:00",
          "2024-03-27T00:00:00",
          "2024-03-28T00:00:00",
          "2024-04-01T00:00:00",
          "2024-04-02T00:00:00",
          "2024-04-03T00:00:00",
          "2024-04-04T00:00:00",
          "2024-04-05T00:00:00",
          "2024-04-08T00:00:00",
          "2024-04-09T00:00:00",
          "2024-04-10T00:00:00",
          "2024-04-11T00:00:00",
          "2024-04-12T00:00:00",
          "2024-04-15T00:00:00",
          "2024-04-16T00:00:00",
          "2024-04-17T00:00:00",
          "2024-04-18T00:00:00",
          "2024-04-19T00:00:00",
          "2024-04-22T00:00:00",
          "2024-04-23T00:00:00",
          "2024-04-24T00:00:00",
          "2024-04-25T00:00:00",
          "2024-04-26T00:00:00",
          "2024-04-29T00:00:00",
          "2024-04-30T00:00:00",
          "2024-05-01T00:00:00",
          "2024-05-02T00:00:00",
          "2024-05-03T00:00:00",
          "2024-05-06T00:00:00",
          "2024-05-07T00:00:00",
          "2024-05-08T00:00:00",
          "2024-05-09T00:00:00",
          "2024-05-10T00:00:00",
          "2024-05-13T00:00:00",
          "2024-05-14T00:00:00",
          "2024-05-15T00:00:00",
          "2024-05-16T00:00:00",
          "2024-05-17T00:00:00",
          "2024-05-20T00:00:00",
          "2024-05-21T00:00:00",
          "2024-05-22T00:00:00",
          "2024-05-23T00:00:00",
          "2024-05-24T00:00:00"
         ],
         "y": [
          null,
          -1.74,
          -1.17,
          -1.14,
          -0.03,
          0.95,
          0.73,
          -1.88,
          0.02,
          -1.7,
          -0.91,
          -0.27,
          -2.58,
          -0.68,
          -1.26,
          0.78,
          -1.08,
          3.99,
          2.55,
          0.57,
          -0.76,
          -1.39,
          0.62,
          -0.92,
          0.9,
          0.99,
          -2.03,
          -3.82,
          0.25,
          1.7,
          0.14,
          -2.44,
          -0.97,
          -1.31,
          -2.32,
          1.15,
          2.35,
          0.06,
          -1.89,
          0.99,
          -1.11,
          -0.69,
          -3.48,
          -0.68,
          3.35,
          -0.44,
          -4.96,
          -0.04,
          2.78,
          2.32,
          1.56,
          1.4,
          -0.07,
          1.85,
          -0.88,
          1.51,
          0.11,
          1.6,
          1.48,
          -0.29,
          -1.7,
          0.87,
          1.43,
          -1.13,
          -1.18,
          0.14,
          -0.09,
          -1.96,
          -2.62,
          1.18,
          -1.19,
          0.15,
          1.79,
          -0.6,
          -0.59,
          -2.54,
          0.82,
          -4.15,
          0.85,
          2.82,
          -3.24,
          0.08,
          -0.09,
          2.67,
          -4.35,
          -0.46,
          -3.8,
          3.98,
          -1.97,
          -1,
          2.67,
          -0.95,
          2.16,
          -3.82,
          -0.33,
          -0.14,
          2.58,
          -1.4,
          0.76,
          1.99,
          2.75,
          -0.44,
          -0.97,
          1.83,
          -2.55,
          0.69,
          0.97,
          -0.49,
          -2.27,
          -0.37,
          -3.96,
          -0.4,
          1.76,
          -3.39,
          0.34,
          4.07,
          0.52,
          1.25,
          2.55,
          -0.1,
          -2.33,
          0.56,
          -1.21,
          1.11,
          0.29,
          0.62,
          1.54,
          0.38,
          -1.28,
          -0.45,
          -0.58,
          0.14,
          2.7,
          -1.25,
          2.41,
          -0.32,
          2.03,
          -0.65,
          0.22,
          -1.12,
          2.24,
          1.25,
          1.19,
          -0.39,
          -0.35,
          2.05,
          -0.11,
          -0.71,
          -0.27,
          -0.77,
          1.78,
          -0.92,
          1.77,
          1.11,
          0.14,
          -0.69,
          0.06,
          -0.89,
          -1.71,
          -0.64,
          0,
          1.19,
          -3.1,
          -0.55,
          -1.06,
          -0.81,
          0.78,
          -1.44,
          0.19,
          1.58,
          0.71,
          1.35,
          1.29,
          -3.81,
          0.73,
          -0.27,
          -0.44,
          0.6,
          -0.48,
          -2.15,
          -0.79,
          -1.54,
          -0.8,
          -0.14,
          1.27,
          -2.38,
          -1.34,
          0.66,
          2.66,
          -0.07,
          -1.24,
          -2.81,
          -0.93,
          -0.97,
          -0.01,
          2.47,
          -1.78,
          2.89,
          0.8,
          -0.4,
          -0.81,
          2.34,
          0.72,
          1.57,
          0.44,
          -0.54,
          2.26,
          -0.47,
          -0.55,
          -2.72,
          -1.55,
          0.34,
          0.73,
          0.48,
          -2.82,
          4.78,
          -0.36,
          -0.72,
          0.23,
          -0.11,
          -0.07,
          0.79,
          -2.09,
          1.27,
          1.49,
          0.34,
          -1.07,
          -0.85,
          3.77,
          -0.34,
          -0.2,
          -1.47,
          -1.11,
          -0.19,
          0.64,
          -0.52,
          0.97,
          -0.55,
          -0.37,
          -2.4,
          -0.97,
          -0.63,
          -0.59,
          1.08,
          -1.4,
          0.42,
          -0.73,
          -0.76,
          1.68,
          0.03,
          -1.31,
          0.61,
          -1.59,
          2.13,
          0.33,
          0.07,
          1.43,
          0.25,
          -0.21,
          0.04,
          -1.75,
          0.1,
          1.66,
          0.87,
          0.39,
          0.15,
          0.87,
          1,
          -1.55,
          1.47,
          0.83,
          0.08,
          -0.03,
          -0.21,
          0.81,
          -0.63,
          -0.26,
          -0.15,
          0.54,
          0.38,
          0.31,
          -1.5,
          0.49,
          -1.89,
          0,
          0.28,
          -1.23,
          0.79,
          -0.62,
          -0.56,
          -0.17,
          1.71,
          0.55,
          -1.8,
          -0.47,
          -1.8,
          -0.84,
          0.16,
          1.76,
          -0.43,
          1.21,
          -0.63,
          0.88,
          1.94,
          -1.4,
          0.13,
          0.24,
          0.4,
          -0.84,
          0.79,
          0.32,
          1.65,
          0.88,
          -0.28,
          0.57,
          0.27,
          -0.3,
          0.45,
          -0.54,
          1.88,
          -0.02,
          -0.25,
          -0.36,
          -0.92,
          -0.61,
          0.11,
          0.13,
          -0.85,
          -1.14,
          1.91,
          0.86,
          0.04,
          -0.9,
          -0.61,
          -0.29,
          2.3,
          0.16,
          -1,
          0.17,
          0.44,
          -0.33,
          -0.17,
          -0.51,
          1.32,
          0.35,
          -0.2,
          0.19,
          -1.45,
          -0.57,
          -0.04,
          1.28,
          -0.07,
          0.18,
          1.41,
          1.32,
          -0.13,
          0.22,
          -0.98,
          0.93,
          0.66,
          0.83,
          0.08,
          -1.22,
          1.18,
          -0.17,
          0.91,
          -0.43,
          0.85,
          -0.55,
          -1.22,
          1.04,
          -0.04,
          0.92,
          1.36,
          0.69,
          -0.09,
          -0.73,
          -0.94,
          -0.07,
          0.47,
          0.06,
          0.64,
          1.79,
          0.82,
          0.48,
          0.2,
          -1.12,
          0.03,
          1.14,
          -0.23,
          0.22,
          -1.14,
          1.04,
          0.23,
          -0.26,
          -1.16,
          0.05,
          -0.87,
          0.95,
          -0.61,
          -0.79,
          0.34,
          0.07,
          0.51,
          -1.4,
          -0.74,
          -1.05,
          -0.05,
          0.68,
          0.08,
          0.71,
          -1.13,
          1.1,
          0.46,
          1.6,
          0.31,
          -0.76,
          -0.26,
          0.25,
          -0.89,
          0.27,
          -0.15,
          1.52,
          -0.48,
          0.27,
          0.35,
          -0.25,
          0.06,
          -0.44,
          -0.36,
          -1.05,
          -0.5,
          0.39,
          -1.42,
          -0.43,
          0.96,
          -0.49,
          0.8,
          -1.09,
          1.27,
          0.33,
          1.05,
          0,
          0.46,
          0.01,
          -0.14,
          0.14,
          0.56,
          -0.08,
          -1.39,
          -1.69,
          -1.18,
          -0.42,
          0.92,
          -0.86,
          -2.13,
          -0.51,
          0.94,
          0.89,
          0.62,
          1.88,
          0.13,
          0.33,
          0.67,
          0.05,
          -0.89,
          1.29,
          0.31,
          1.21,
          0.32,
          0,
          0,
          0.41,
          0.59,
          0.26,
          0.23,
          -0.32,
          0.48,
          -0.43,
          1.03,
          0.09,
          -0.62,
          0.25,
          -0.18,
          0.62,
          0.07,
          -0.39,
          0.44,
          0.98,
          -0.56,
          -0.08,
          0.29,
          0.49,
          -1.52,
          0.98,
          -0.05,
          0.26,
          0.34,
          -0.05,
          -0.26,
          0.12,
          -0.67,
          -0.02,
          -0.34,
          0.9,
          -0.04,
          0.41,
          -0.3,
          -0.96,
          -0.45,
          -0.02,
          0.22,
          0.43,
          0.42,
          0.35,
          -0.2,
          -1.58,
          0.3,
          0.86,
          0.17,
          -0.75,
          0.83,
          0.28,
          -0.76,
          1,
          0.71,
          -0.62,
          0.45,
          -0.34,
          -0.61,
          0.54,
          1.19,
          -0.44,
          -1.03,
          0.68,
          1.57,
          -0.07,
          -0.13,
          -0.38,
          -0.33,
          -0.34,
          -0.11,
          -1.76,
          -1.11,
          -0.08,
          0.24,
          0.15,
          0.94,
          0.56,
          -0.14,
          0.02,
          -0.31,
          0.89,
          0.58,
          0.88,
          -0.41,
          -0.71,
          -0.58,
          0.52,
          0.65,
          0.01,
          -0.48,
          -1.71,
          -0.23,
          -0.98,
          0.55,
          0.57,
          0.17,
          -1.12,
          0.24,
          -1.07,
          -0.98,
          0.4,
          0.38,
          0.11,
          0.22,
          0.07,
          0.64,
          0.95,
          0.36,
          0.72,
          0.55,
          -1.5,
          -0.27,
          0.76,
          0.65,
          0.66,
          0.51,
          0.04,
          0.45,
          0.11,
          0.29,
          0.36,
          0.56,
          0.34,
          0.51,
          -0.86,
          0.85,
          -0.64,
          -1.37,
          0.13
         ]
        },
        {
         "name": "SP500",
         "type": "bar",
         "x": [
          "2022-01-04T00:00:00",
          "2022-01-05T00:00:00",
          "2022-01-06T00:00:00",
          "2022-01-07T00:00:00",
          "2022-01-10T00:00:00",
          "2022-01-11T00:00:00",
          "2022-01-12T00:00:00",
          "2022-01-13T00:00:00",
          "2022-01-14T00:00:00",
          "2022-01-18T00:00:00",
          "2022-01-19T00:00:00",
          "2022-01-20T00:00:00",
          "2022-01-21T00:00:00",
          "2022-01-24T00:00:00",
          "2022-01-25T00:00:00",
          "2022-01-26T00:00:00",
          "2022-01-27T00:00:00",
          "2022-01-28T00:00:00",
          "2022-01-31T00:00:00",
          "2022-02-01T00:00:00",
          "2022-02-02T00:00:00",
          "2022-02-03T00:00:00",
          "2022-02-04T00:00:00",
          "2022-02-07T00:00:00",
          "2022-02-08T00:00:00",
          "2022-02-09T00:00:00",
          "2022-02-10T00:00:00",
          "2022-02-11T00:00:00",
          "2022-02-14T00:00:00",
          "2022-02-15T00:00:00",
          "2022-02-16T00:00:00",
          "2022-02-17T00:00:00",
          "2022-02-18T00:00:00",
          "2022-02-22T00:00:00",
          "2022-02-23T00:00:00",
          "2022-02-24T00:00:00",
          "2022-02-25T00:00:00",
          "2022-02-28T00:00:00",
          "2022-03-01T00:00:00",
          "2022-03-02T00:00:00",
          "2022-03-03T00:00:00",
          "2022-03-04T00:00:00",
          "2022-03-07T00:00:00",
          "2022-03-08T00:00:00",
          "2022-03-09T00:00:00",
          "2022-03-10T00:00:00",
          "2022-03-11T00:00:00",
          "2022-03-14T00:00:00",
          "2022-03-15T00:00:00",
          "2022-03-16T00:00:00",
          "2022-03-17T00:00:00",
          "2022-03-18T00:00:00",
          "2022-03-21T00:00:00",
          "2022-03-22T00:00:00",
          "2022-03-23T00:00:00",
          "2022-03-24T00:00:00",
          "2022-03-25T00:00:00",
          "2022-03-28T00:00:00",
          "2022-03-29T00:00:00",
          "2022-03-30T00:00:00",
          "2022-03-31T00:00:00",
          "2022-04-01T00:00:00",
          "2022-04-04T00:00:00",
          "2022-04-05T00:00:00",
          "2022-04-06T00:00:00",
          "2022-04-07T00:00:00",
          "2022-04-08T00:00:00",
          "2022-04-11T00:00:00",
          "2022-04-12T00:00:00",
          "2022-04-13T00:00:00",
          "2022-04-14T00:00:00",
          "2022-04-18T00:00:00",
          "2022-04-19T00:00:00",
          "2022-04-20T00:00:00",
          "2022-04-21T00:00:00",
          "2022-04-22T00:00:00",
          "2022-04-25T00:00:00",
          "2022-04-26T00:00:00",
          "2022-04-27T00:00:00",
          "2022-04-28T00:00:00",
          "2022-04-29T00:00:00",
          "2022-05-02T00:00:00",
          "2022-05-03T00:00:00",
          "2022-05-04T00:00:00",
          "2022-05-05T00:00:00",
          "2022-05-06T00:00:00",
          "2022-05-09T00:00:00",
          "2022-05-10T00:00:00",
          "2022-05-11T00:00:00",
          "2022-05-12T00:00:00",
          "2022-05-13T00:00:00",
          "2022-05-16T00:00:00",
          "2022-05-17T00:00:00",
          "2022-05-18T00:00:00",
          "2022-05-19T00:00:00",
          "2022-05-20T00:00:00",
          "2022-05-23T00:00:00",
          "2022-05-24T00:00:00",
          "2022-05-25T00:00:00",
          "2022-05-26T00:00:00",
          "2022-05-27T00:00:00",
          "2022-05-31T00:00:00",
          "2022-06-01T00:00:00",
          "2022-06-02T00:00:00",
          "2022-06-03T00:00:00",
          "2022-06-06T00:00:00",
          "2022-06-07T00:00:00",
          "2022-06-08T00:00:00",
          "2022-06-09T00:00:00",
          "2022-06-10T00:00:00",
          "2022-06-13T00:00:00",
          "2022-06-14T00:00:00",
          "2022-06-15T00:00:00",
          "2022-06-16T00:00:00",
          "2022-06-17T00:00:00",
          "2022-06-21T00:00:00",
          "2022-06-22T00:00:00",
          "2022-06-23T00:00:00",
          "2022-06-24T00:00:00",
          "2022-06-27T00:00:00",
          "2022-06-28T00:00:00",
          "2022-06-29T00:00:00",
          "2022-06-30T00:00:00",
          "2022-07-01T00:00:00",
          "2022-07-05T00:00:00",
          "2022-07-06T00:00:00",
          "2022-07-07T00:00:00",
          "2022-07-08T00:00:00",
          "2022-07-11T00:00:00",
          "2022-07-12T00:00:00",
          "2022-07-13T00:00:00",
          "2022-07-14T00:00:00",
          "2022-07-15T00:00:00",
          "2022-07-18T00:00:00",
          "2022-07-19T00:00:00",
          "2022-07-20T00:00:00",
          "2022-07-21T00:00:00",
          "2022-07-22T00:00:00",
          "2022-07-25T00:00:00",
          "2022-07-26T00:00:00",
          "2022-07-27T00:00:00",
          "2022-07-28T00:00:00",
          "2022-07-29T00:00:00",
          "2022-08-01T00:00:00",
          "2022-08-02T00:00:00",
          "2022-08-03T00:00:00",
          "2022-08-04T00:00:00",
          "2022-08-05T00:00:00",
          "2022-08-08T00:00:00",
          "2022-08-09T00:00:00",
          "2022-08-10T00:00:00",
          "2022-08-11T00:00:00",
          "2022-08-12T00:00:00",
          "2022-08-15T00:00:00",
          "2022-08-16T00:00:00",
          "2022-08-17T00:00:00",
          "2022-08-18T00:00:00",
          "2022-08-19T00:00:00",
          "2022-08-22T00:00:00",
          "2022-08-23T00:00:00",
          "2022-08-24T00:00:00",
          "2022-08-25T00:00:00",
          "2022-08-26T00:00:00",
          "2022-08-29T00:00:00",
          "2022-08-30T00:00:00",
          "2022-08-31T00:00:00",
          "2022-09-01T00:00:00",
          "2022-09-02T00:00:00",
          "2022-09-06T00:00:00",
          "2022-09-07T00:00:00",
          "2022-09-08T00:00:00",
          "2022-09-09T00:00:00",
          "2022-09-12T00:00:00",
          "2022-09-13T00:00:00",
          "2022-09-14T00:00:00",
          "2022-09-15T00:00:00",
          "2022-09-16T00:00:00",
          "2022-09-19T00:00:00",
          "2022-09-20T00:00:00",
          "2022-09-21T00:00:00",
          "2022-09-22T00:00:00",
          "2022-09-23T00:00:00",
          "2022-09-26T00:00:00",
          "2022-09-27T00:00:00",
          "2022-09-28T00:00:00",
          "2022-09-29T00:00:00",
          "2022-09-30T00:00:00",
          "2022-10-03T00:00:00",
          "2022-10-04T00:00:00",
          "2022-10-05T00:00:00",
          "2022-10-06T00:00:00",
          "2022-10-07T00:00:00",
          "2022-10-10T00:00:00",
          "2022-10-11T00:00:00",
          "2022-10-12T00:00:00",
          "2022-10-13T00:00:00",
          "2022-10-14T00:00:00",
          "2022-10-17T00:00:00",
          "2022-10-18T00:00:00",
          "2022-10-19T00:00:00",
          "2022-10-20T00:00:00",
          "2022-10-21T00:00:00",
          "2022-10-24T00:00:00",
          "2022-10-25T00:00:00",
          "2022-10-26T00:00:00",
          "2022-10-27T00:00:00",
          "2022-10-28T00:00:00",
          "2022-10-31T00:00:00",
          "2022-11-01T00:00:00",
          "2022-11-02T00:00:00",
          "2022-11-03T00:00:00",
          "2022-11-04T00:00:00",
          "2022-11-07T00:00:00",
          "2022-11-08T00:00:00",
          "2022-11-09T00:00:00",
          "2022-11-10T00:00:00",
          "2022-11-11T00:00:00",
          "2022-11-14T00:00:00",
          "2022-11-15T00:00:00",
          "2022-11-16T00:00:00",
          "2022-11-17T00:00:00",
          "2022-11-18T00:00:00",
          "2022-11-21T00:00:00",
          "2022-11-22T00:00:00",
          "2022-11-23T00:00:00",
          "2022-11-25T00:00:00",
          "2022-11-28T00:00:00",
          "2022-11-29T00:00:00",
          "2022-11-30T00:00:00",
          "2022-12-01T00:00:00",
          "2022-12-02T00:00:00",
          "2022-12-05T00:00:00",
          "2022-12-06T00:00:00",
          "2022-12-07T00:00:00",
          "2022-12-08T00:00:00",
          "2022-12-09T00:00:00",
          "2022-12-12T00:00:00",
          "2022-12-13T00:00:00",
          "2022-12-14T00:00:00",
          "2022-12-15T00:00:00",
          "2022-12-16T00:00:00",
          "2022-12-19T00:00:00",
          "2022-12-20T00:00:00",
          "2022-12-21T00:00:00",
          "2022-12-22T00:00:00",
          "2022-12-23T00:00:00",
          "2022-12-27T00:00:00",
          "2022-12-28T00:00:00",
          "2022-12-29T00:00:00",
          "2022-12-30T00:00:00",
          "2023-01-03T00:00:00",
          "2023-01-04T00:00:00",
          "2023-01-05T00:00:00",
          "2023-01-06T00:00:00",
          "2023-01-09T00:00:00",
          "2023-01-10T00:00:00",
          "2023-01-11T00:00:00",
          "2023-01-12T00:00:00",
          "2023-01-13T00:00:00",
          "2023-01-17T00:00:00",
          "2023-01-18T00:00:00",
          "2023-01-19T00:00:00",
          "2023-01-20T00:00:00",
          "2023-01-23T00:00:00",
          "2023-01-24T00:00:00",
          "2023-01-25T00:00:00",
          "2023-01-26T00:00:00",
          "2023-01-27T00:00:00",
          "2023-01-30T00:00:00",
          "2023-01-31T00:00:00",
          "2023-02-01T00:00:00",
          "2023-02-02T00:00:00",
          "2023-02-03T00:00:00",
          "2023-02-06T00:00:00",
          "2023-02-07T00:00:00",
          "2023-02-08T00:00:00",
          "2023-02-09T00:00:00",
          "2023-02-10T00:00:00",
          "2023-02-13T00:00:00",
          "2023-02-14T00:00:00",
          "2023-02-15T00:00:00",
          "2023-02-16T00:00:00",
          "2023-02-17T00:00:00",
          "2023-02-21T00:00:00",
          "2023-02-22T00:00:00",
          "2023-02-23T00:00:00",
          "2023-02-24T00:00:00",
          "2023-02-27T00:00:00",
          "2023-02-28T00:00:00",
          "2023-03-01T00:00:00",
          "2023-03-02T00:00:00",
          "2023-03-03T00:00:00",
          "2023-03-06T00:00:00",
          "2023-03-07T00:00:00",
          "2023-03-08T00:00:00",
          "2023-03-09T00:00:00",
          "2023-03-10T00:00:00",
          "2023-03-13T00:00:00",
          "2023-03-14T00:00:00",
          "2023-03-15T00:00:00",
          "2023-03-16T00:00:00",
          "2023-03-17T00:00:00",
          "2023-03-20T00:00:00",
          "2023-03-21T00:00:00",
          "2023-03-22T00:00:00",
          "2023-03-23T00:00:00",
          "2023-03-24T00:00:00",
          "2023-03-27T00:00:00",
          "2023-03-28T00:00:00",
          "2023-03-29T00:00:00",
          "2023-03-30T00:00:00",
          "2023-03-31T00:00:00",
          "2023-04-03T00:00:00",
          "2023-04-04T00:00:00",
          "2023-04-05T00:00:00",
          "2023-04-06T00:00:00",
          "2023-04-10T00:00:00",
          "2023-04-11T00:00:00",
          "2023-04-12T00:00:00",
          "2023-04-13T00:00:00",
          "2023-04-14T00:00:00",
          "2023-04-17T00:00:00",
          "2023-04-18T00:00:00",
          "2023-04-19T00:00:00",
          "2023-04-20T00:00:00",
          "2023-04-21T00:00:00",
          "2023-04-24T00:00:00",
          "2023-04-25T00:00:00",
          "2023-04-26T00:00:00",
          "2023-04-27T00:00:00",
          "2023-04-28T00:00:00",
          "2023-05-01T00:00:00",
          "2023-05-02T00:00:00",
          "2023-05-03T00:00:00",
          "2023-05-04T00:00:00",
          "2023-05-05T00:00:00",
          "2023-05-08T00:00:00",
          "2023-05-09T00:00:00",
          "2023-05-10T00:00:00",
          "2023-05-11T00:00:00",
          "2023-05-12T00:00:00",
          "2023-05-15T00:00:00",
          "2023-05-16T00:00:00",
          "2023-05-17T00:00:00",
          "2023-05-18T00:00:00",
          "2023-05-19T00:00:00",
          "2023-05-22T00:00:00",
          "2023-05-23T00:00:00",
          "2023-05-24T00:00:00",
          "2023-05-25T00:00:00",
          "2023-05-26T00:00:00",
          "2023-05-30T00:00:00",
          "2023-05-31T00:00:00",
          "2023-06-01T00:00:00",
          "2023-06-02T00:00:00",
          "2023-06-05T00:00:00",
          "2023-06-06T00:00:00",
          "2023-06-07T00:00:00",
          "2023-06-08T00:00:00",
          "2023-06-09T00:00:00",
          "2023-06-12T00:00:00",
          "2023-06-13T00:00:00",
          "2023-06-14T00:00:00",
          "2023-06-15T00:00:00",
          "2023-06-16T00:00:00",
          "2023-06-20T00:00:00",
          "2023-06-21T00:00:00",
          "2023-06-22T00:00:00",
          "2023-06-23T00:00:00",
          "2023-06-26T00:00:00",
          "2023-06-27T00:00:00",
          "2023-06-28T00:00:00",
          "2023-06-29T00:00:00",
          "2023-06-30T00:00:00",
          "2023-07-03T00:00:00",
          "2023-07-05T00:00:00",
          "2023-07-06T00:00:00",
          "2023-07-07T00:00:00",
          "2023-07-10T00:00:00",
          "2023-07-11T00:00:00",
          "2023-07-12T00:00:00",
          "2023-07-13T00:00:00",
          "2023-07-14T00:00:00",
          "2023-07-17T00:00:00",
          "2023-07-18T00:00:00",
          "2023-07-19T00:00:00",
          "2023-07-20T00:00:00",
          "2023-07-21T00:00:00",
          "2023-07-24T00:00:00",
          "2023-07-25T00:00:00",
          "2023-07-26T00:00:00",
          "2023-07-27T00:00:00",
          "2023-07-28T00:00:00",
          "2023-07-31T00:00:00",
          "2023-08-01T00:00:00",
          "2023-08-02T00:00:00",
          "2023-08-03T00:00:00",
          "2023-08-04T00:00:00",
          "2023-08-07T00:00:00",
          "2023-08-08T00:00:00",
          "2023-08-09T00:00:00",
          "2023-08-10T00:00:00",
          "2023-08-11T00:00:00",
          "2023-08-14T00:00:00",
          "2023-08-15T00:00:00",
          "2023-08-16T00:00:00",
          "2023-08-17T00:00:00",
          "2023-08-18T00:00:00",
          "2023-08-21T00:00:00",
          "2023-08-22T00:00:00",
          "2023-08-23T00:00:00",
          "2023-08-24T00:00:00",
          "2023-08-25T00:00:00",
          "2023-08-28T00:00:00",
          "2023-08-29T00:00:00",
          "2023-08-30T00:00:00",
          "2023-08-31T00:00:00",
          "2023-09-01T00:00:00",
          "2023-09-05T00:00:00",
          "2023-09-06T00:00:00",
          "2023-09-07T00:00:00",
          "2023-09-08T00:00:00",
          "2023-09-11T00:00:00",
          "2023-09-12T00:00:00",
          "2023-09-13T00:00:00",
          "2023-09-14T00:00:00",
          "2023-09-15T00:00:00",
          "2023-09-18T00:00:00",
          "2023-09-19T00:00:00",
          "2023-09-20T00:00:00",
          "2023-09-21T00:00:00",
          "2023-09-22T00:00:00",
          "2023-09-25T00:00:00",
          "2023-09-26T00:00:00",
          "2023-09-27T00:00:00",
          "2023-09-28T00:00:00",
          "2023-09-29T00:00:00",
          "2023-10-02T00:00:00",
          "2023-10-03T00:00:00",
          "2023-10-04T00:00:00",
          "2023-10-05T00:00:00",
          "2023-10-06T00:00:00",
          "2023-10-09T00:00:00",
          "2023-10-10T00:00:00",
          "2023-10-11T00:00:00",
          "2023-10-12T00:00:00",
          "2023-10-13T00:00:00",
          "2023-10-16T00:00:00",
          "2023-10-17T00:00:00",
          "2023-10-18T00:00:00",
          "2023-10-19T00:00:00",
          "2023-10-20T00:00:00",
          "2023-10-23T00:00:00",
          "2023-10-24T00:00:00",
          "2023-10-25T00:00:00",
          "2023-10-26T00:00:00",
          "2023-10-27T00:00:00",
          "2023-10-30T00:00:00",
          "2023-10-31T00:00:00",
          "2023-11-01T00:00:00",
          "2023-11-02T00:00:00",
          "2023-11-03T00:00:00",
          "2023-11-06T00:00:00",
          "2023-11-07T00:00:00",
          "2023-11-08T00:00:00",
          "2023-11-09T00:00:00",
          "2023-11-10T00:00:00",
          "2023-11-13T00:00:00",
          "2023-11-14T00:00:00",
          "2023-11-15T00:00:00",
          "2023-11-16T00:00:00",
          "2023-11-17T00:00:00",
          "2023-11-20T00:00:00",
          "2023-11-21T00:00:00",
          "2023-11-22T00:00:00",
          "2023-11-24T00:00:00",
          "2023-11-27T00:00:00",
          "2023-11-28T00:00:00",
          "2023-11-29T00:00:00",
          "2023-11-30T00:00:00",
          "2023-12-01T00:00:00",
          "2023-12-04T00:00:00",
          "2023-12-05T00:00:00",
          "2023-12-06T00:00:00",
          "2023-12-07T00:00:00",
          "2023-12-08T00:00:00",
          "2023-12-11T00:00:00",
          "2023-12-12T00:00:00",
          "2023-12-13T00:00:00",
          "2023-12-14T00:00:00",
          "2023-12-15T00:00:00",
          "2023-12-18T00:00:00",
          "2023-12-19T00:00:00",
          "2023-12-20T00:00:00",
          "2023-12-21T00:00:00",
          "2023-12-22T00:00:00",
          "2023-12-26T00:00:00",
          "2023-12-27T00:00:00",
          "2023-12-28T00:00:00",
          "2023-12-29T00:00:00",
          "2024-01-02T00:00:00",
          "2024-01-03T00:00:00",
          "2024-01-04T00:00:00",
          "2024-01-05T00:00:00",
          "2024-01-08T00:00:00",
          "2024-01-09T00:00:00",
          "2024-01-10T00:00:00",
          "2024-01-11T00:00:00",
          "2024-01-12T00:00:00",
          "2024-01-16T00:00:00",
          "2024-01-17T00:00:00",
          "2024-01-18T00:00:00",
          "2024-01-19T00:00:00",
          "2024-01-22T00:00:00",
          "2024-01-23T00:00:00",
          "2024-01-24T00:00:00",
          "2024-01-25T00:00:00",
          "2024-01-26T00:00:00",
          "2024-01-29T00:00:00",
          "2024-01-30T00:00:00",
          "2024-01-31T00:00:00",
          "2024-02-01T00:00:00",
          "2024-02-02T00:00:00",
          "2024-02-05T00:00:00",
          "2024-02-06T00:00:00",
          "2024-02-07T00:00:00",
          "2024-02-08T00:00:00",
          "2024-02-09T00:00:00",
          "2024-02-12T00:00:00",
          "2024-02-13T00:00:00",
          "2024-02-14T00:00:00",
          "2024-02-15T00:00:00",
          "2024-02-16T00:00:00",
          "2024-02-20T00:00:00",
          "2024-02-21T00:00:00",
          "2024-02-22T00:00:00",
          "2024-02-23T00:00:00",
          "2024-02-26T00:00:00",
          "2024-02-27T00:00:00",
          "2024-02-28T00:00:00",
          "2024-02-29T00:00:00",
          "2024-03-01T00:00:00",
          "2024-03-04T00:00:00",
          "2024-03-05T00:00:00",
          "2024-03-06T00:00:00",
          "2024-03-07T00:00:00",
          "2024-03-08T00:00:00",
          "2024-03-11T00:00:00",
          "2024-03-12T00:00:00",
          "2024-03-13T00:00:00",
          "2024-03-14T00:00:00",
          "2024-03-15T00:00:00",
          "2024-03-18T00:00:00",
          "2024-03-19T00:00:00",
          "2024-03-20T00:00:00",
          "2024-03-21T00:00:00",
          "2024-03-22T00:00:00",
          "2024-03-25T00:00:00",
          "2024-03-26T00:00:00",
          "2024-03-27T00:00:00",
          "2024-03-28T00:00:00",
          "2024-04-01T00:00:00",
          "2024-04-02T00:00:00",
          "2024-04-03T00:00:00",
          "2024-04-04T00:00:00",
          "2024-04-05T00:00:00",
          "2024-04-08T00:00:00",
          "2024-04-09T00:00:00",
          "2024-04-10T00:00:00",
          "2024-04-11T00:00:00",
          "2024-04-12T00:00:00",
          "2024-04-15T00:00:00",
          "2024-04-16T00:00:00",
          "2024-04-17T00:00:00",
          "2024-04-18T00:00:00",
          "2024-04-19T00:00:00",
          "2024-04-22T00:00:00",
          "2024-04-23T00:00:00",
          "2024-04-24T00:00:00",
          "2024-04-25T00:00:00",
          "2024-04-26T00:00:00",
          "2024-04-29T00:00:00",
          "2024-04-30T00:00:00",
          "2024-05-01T00:00:00",
          "2024-05-02T00:00:00",
          "2024-05-03T00:00:00",
          "2024-05-06T00:00:00",
          "2024-05-07T00:00:00",
          "2024-05-08T00:00:00",
          "2024-05-09T00:00:00",
          "2024-05-10T00:00:00",
          "2024-05-13T00:00:00",
          "2024-05-14T00:00:00",
          "2024-05-15T00:00:00",
          "2024-05-16T00:00:00",
          "2024-05-17T00:00:00",
          "2024-05-20T00:00:00",
          "2024-05-21T00:00:00",
          "2024-05-22T00:00:00",
          "2024-05-23T00:00:00",
          "2024-05-24T00:00:00"
         ],
         "y": [
          null,
          -1.94,
          -0.1,
          -0.41,
          -0.14,
          0.92,
          0.28,
          -1.42,
          0.08,
          -1.84,
          -0.97,
          -1.1,
          -1.89,
          0.28,
          -1.22,
          -0.15,
          -0.54,
          2.43,
          1.89,
          0.69,
          0.94,
          -2.44,
          0.52,
          -0.37,
          0.84,
          1.45,
          -1.81,
          -1.9,
          -0.38,
          1.58,
          0.09,
          -2.12,
          -0.72,
          -1.01,
          -1.84,
          1.5,
          2.24,
          -0.24,
          -1.55,
          1.86,
          -0.53,
          -0.79,
          -2.95,
          -0.72,
          2.57,
          -0.43,
          -1.3,
          -0.74,
          2.14,
          2.24,
          1.23,
          1.17,
          -0.04,
          1.13,
          -1.23,
          1.43,
          0.51,
          0.71,
          1.23,
          -0.63,
          -1.57,
          0.34,
          0.81,
          -1.26,
          -0.97,
          0.43,
          -0.27,
          -1.69,
          -0.34,
          1.12,
          -1.21,
          -0.02,
          1.61,
          -0.06,
          -1.48,
          -2.77,
          0.57,
          -2.81,
          0.21,
          2.47,
          -3.63,
          0.57,
          0.48,
          2.99,
          -3.56,
          -0.57,
          -3.2,
          0.25,
          -1.65,
          -0.13,
          2.39,
          -0.39,
          2.02,
          -4.04,
          -0.58,
          0.01,
          1.86,
          -0.81,
          0.95,
          1.99,
          2.47,
          -0.63,
          -0.75,
          1.84,
          -1.63,
          0.31,
          0.95,
          -1.08,
          -2.38,
          -2.91,
          -3.88,
          -0.38,
          1.46,
          -3.25,
          0.22,
          2.45,
          -0.13,
          0.95,
          3.06,
          -0.3,
          -2.01,
          -0.07,
          -0.88,
          1.06,
          0.16,
          0.36,
          1.5,
          -0.08,
          -1.15,
          -0.92,
          -0.45,
          -0.3,
          1.92,
          -0.84,
          2.76,
          0.59,
          0.99,
          -0.93,
          0.13,
          -1.15,
          2.62,
          1.21,
          1.42,
          -0.28,
          -0.67,
          1.56,
          -0.08,
          -0.16,
          -0.12,
          -0.42,
          2.13,
          -0.07,
          1.73,
          0.4,
          0.19,
          -0.72,
          0.23,
          -1.29,
          -2.14,
          -0.22,
          0.29,
          1.41,
          -3.37,
          -0.67,
          -1.1,
          -0.78,
          0.3,
          -1.07,
          -0.41,
          1.83,
          0.66,
          1.53,
          1.06,
          -4.32,
          0.34,
          -1.13,
          -0.72,
          0.69,
          -1.13,
          -1.71,
          -0.84,
          -1.72,
          -1.03,
          -0.21,
          1.97,
          -2.11,
          -1.51,
          2.59,
          3.06,
          -0.2,
          -1.02,
          -2.8,
          -0.75,
          -0.65,
          -0.33,
          2.6,
          -2.37,
          2.65,
          1.14,
          -0.67,
          -0.8,
          2.37,
          1.19,
          1.63,
          -0.74,
          -0.61,
          2.46,
          -0.75,
          -0.41,
          -2.5,
          -1.06,
          1.36,
          0.96,
          0.56,
          -2.08,
          5.54,
          0.92,
          -0.89,
          0.87,
          -0.83,
          -0.31,
          0.48,
          -0.39,
          1.36,
          0.59,
          -0.03,
          -1.54,
          -0.16,
          3.09,
          -0.09,
          -0.12,
          -1.79,
          -1.44,
          -0.19,
          0.75,
          -0.73,
          1.43,
          0.73,
          -0.61,
          -2.49,
          -1.11,
          -0.9,
          0.1,
          1.49,
          -1.45,
          0.59,
          -0.4,
          -1.2,
          1.75,
          -0.25,
          -0.4,
          0.75,
          -1.16,
          2.28,
          -0.08,
          0.7,
          1.28,
          0.34,
          0.4,
          -0.2,
          -1.56,
          -0.76,
          1.89,
          1.19,
          -0.07,
          -0.02,
          1.1,
          0.25,
          -1.3,
          1.46,
          1.05,
          1.47,
          -1.04,
          -0.61,
          1.29,
          -1.11,
          -0.88,
          0.22,
          1.14,
          -0.03,
          0.28,
          -1.38,
          -0.28,
          -2,
          -0.16,
          0.53,
          -1.05,
          0.31,
          -0.3,
          -0.47,
          0.76,
          1.61,
          0.07,
          -1.53,
          0.14,
          -1.85,
          -1.45,
          -0.15,
          1.65,
          -0.7,
          1.76,
          -1.1,
          0.89,
          1.3,
          -1.65,
          0.3,
          0.56,
          0.16,
          -0.16,
          1.42,
          0.57,
          1.44,
          0.37,
          -0.58,
          -0.25,
          0.36,
          0.1,
          0,
          -0.41,
          1.33,
          -0.21,
          0.33,
          0.09,
          -0.01,
          -0.6,
          0.09,
          0.09,
          -1.58,
          -0.38,
          1.96,
          0.83,
          -0.04,
          -1.16,
          -0.7,
          -0.72,
          1.85,
          0.05,
          -0.46,
          0.45,
          -0.17,
          -0.16,
          0.3,
          -0.64,
          1.19,
          0.94,
          -0.14,
          0.02,
          -1.12,
          -0.73,
          0.88,
          1.3,
          0,
          -0.61,
          0.99,
          1.45,
          -0.2,
          0.24,
          -0.38,
          0.62,
          0.11,
          0.93,
          0.69,
          0.08,
          1.22,
          -0.37,
          -0.47,
          -0.52,
          0.37,
          -0.77,
          -0.45,
          1.15,
          -0.04,
          0.45,
          1.23,
          0.12,
          -0.2,
          -0.79,
          -0.29,
          0.24,
          0.67,
          0.74,
          0.85,
          -0.1,
          0.39,
          0.71,
          0.24,
          -0.68,
          0.03,
          0.4,
          0.28,
          -0.02,
          -0.64,
          0.99,
          0.15,
          -0.27,
          -1.38,
          -0.25,
          -0.53,
          0.9,
          -0.42,
          -0.7,
          0.03,
          -0.11,
          0.58,
          -1.16,
          -0.76,
          -0.77,
          -0.01,
          0.69,
          -0.28,
          1.1,
          -1.35,
          0.67,
          0.63,
          1.45,
          0.38,
          -0.16,
          0.18,
          -0.42,
          -0.7,
          -0.32,
          0.14,
          0.67,
          -0.57,
          0.12,
          0.84,
          -1.22,
          0.07,
          -0.22,
          -0.94,
          -1.64,
          -0.23,
          0.4,
          -1.47,
          0.02,
          0.59,
          -0.27,
          0.01,
          -1.37,
          0.81,
          -0.13,
          1.18,
          0.63,
          0.52,
          0.43,
          -0.62,
          -0.5,
          1.06,
          -0.01,
          -1.34,
          -0.85,
          -1.26,
          -0.17,
          0.73,
          -1.43,
          -1.18,
          -0.48,
          1.2,
          0.65,
          1.05,
          1.89,
          0.94,
          0.18,
          0.28,
          0.1,
          -0.81,
          1.56,
          -0.08,
          1.91,
          0.16,
          0.12,
          0.13,
          0.74,
          -0.2,
          0.41,
          0.06,
          -0.2,
          0.1,
          -0.09,
          0.38,
          0.59,
          -0.54,
          -0.06,
          -0.39,
          0.8,
          0.41,
          0.39,
          0.46,
          1.37,
          0.26,
          -0.01,
          0.45,
          0.59,
          -1.47,
          1.03,
          0.17,
          0.42,
          0.14,
          0.04,
          -0.28,
          -0.57,
          -0.8,
          -0.34,
          0.18,
          1.41,
          -0.15,
          0.57,
          -0.07,
          0.08,
          -0.37,
          -0.56,
          0.88,
          1.23,
          0.22,
          0.29,
          0.08,
          0.53,
          -0.07,
          0.76,
          -0.06,
          -1.61,
          1.25,
          1.07,
          -0.32,
          0.23,
          0.82,
          0.06,
          0.57,
          -0.09,
          -1.37,
          0.96,
          0.58,
          -0.48,
          -0.6,
          0.13,
          2.11,
          0.03,
          -0.38,
          0.17,
          -0.17,
          0.52,
          0.8,
          -0.12,
          -1.02,
          0.51,
          1.03,
          -0.65,
          -0.11,
          1.12,
          -0.19,
          -0.29,
          -0.65,
          0.63,
          0.56,
          0.89,
          0.32,
          -0.14,
          -0.31,
          -0.28,
          0.86,
          0.11,
          -0.2,
          -0.72,
          0.11,
          -1.23,
          1.11,
          -0.04,
          0.14,
          -0.95,
          0.74,
          -1.46,
          -1.2,
          -0.21,
          -0.58,
          -0.22,
          -0.88,
          0.87,
          1.2,
          0.02,
          -0.46,
          1.02,
          0.32,
          -1.57,
          -0.34,
          0.91,
          1.26,
          1.03,
          0.13,
          0,
          0.51,
          0.16,
          -0.02,
          0.48,
          1.17,
          -0.21,
          0.12,
          0.09,
          0.25,
          -0.27,
          -0.74,
          0.7
         ]
        }
       ],
       "layout": {
        "barmode": "group",
        "height": 300,
        "legend": {
         "x": 0.99,
         "xanchor": "right",
         "y": 0.99,
         "yanchor": "top"
        },
        "margin": {
         "b": 50,
         "l": 25,
         "r": 25,
         "t": 50
        },
        "template": {
         "data": {
          "bar": [
           {
            "error_x": {
             "color": "#2a3f5f"
            },
            "error_y": {
             "color": "#2a3f5f"
            },
            "marker": {
             "line": {
              "color": "white",
              "width": 0.5
             },
             "pattern": {
              "fillmode": "overlay",
              "size": 10,
              "solidity": 0.2
             }
            },
            "type": "bar"
           }
          ],
          "barpolar": [
           {
            "marker": {
             "line": {
              "color": "white",
              "width": 0.5
             },
             "pattern": {
              "fillmode": "overlay",
              "size": 10,
              "solidity": 0.2
             }
            },
            "type": "barpolar"
           }
          ],
          "carpet": [
           {
            "aaxis": {
             "endlinecolor": "#2a3f5f",
             "gridcolor": "#C8D4E3",
             "linecolor": "#C8D4E3",
             "minorgridcolor": "#C8D4E3",
             "startlinecolor": "#2a3f5f"
            },
            "baxis": {
             "endlinecolor": "#2a3f5f",
             "gridcolor": "#C8D4E3",
             "linecolor": "#C8D4E3",
             "minorgridcolor": "#C8D4E3",
             "startlinecolor": "#2a3f5f"
            },
            "type": "carpet"
           }
          ],
          "choropleth": [
           {
            "colorbar": {
             "outlinewidth": 0,
             "ticks": ""
            },
            "type": "choropleth"
           }
          ],
          "contour": [
           {
            "colorbar": {
             "outlinewidth": 0,
             "ticks": ""
            },
            "colorscale": [
             [
              0,
              "#0d0887"
             ],
             [
              0.1111111111111111,
              "#46039f"
             ],
             [
              0.2222222222222222,
              "#7201a8"
             ],
             [
              0.3333333333333333,
              "#9c179e"
             ],
             [
              0.4444444444444444,
              "#bd3786"
             ],
             [
              0.5555555555555556,
              "#d8576b"
             ],
             [
              0.6666666666666666,
              "#ed7953"
             ],
             [
              0.7777777777777778,
              "#fb9f3a"
             ],
             [
              0.8888888888888888,
              "#fdca26"
             ],
             [
              1,
              "#f0f921"
             ]
            ],
            "type": "contour"
           }
          ],
          "contourcarpet": [
           {
            "colorbar": {
             "outlinewidth": 0,
             "ticks": ""
            },
            "type": "contourcarpet"
           }
          ],
          "heatmap": [
           {
            "colorbar": {
             "outlinewidth": 0,
             "ticks": ""
            },
            "colorscale": [
             [
              0,
              "#0d0887"
             ],
             [
              0.1111111111111111,
              "#46039f"
             ],
             [
              0.2222222222222222,
              "#7201a8"
             ],
             [
              0.3333333333333333,
              "#9c179e"
             ],
             [
              0.4444444444444444,
              "#bd3786"
             ],
             [
              0.5555555555555556,
              "#d8576b"
             ],
             [
              0.6666666666666666,
              "#ed7953"
             ],
             [
              0.7777777777777778,
              "#fb9f3a"
             ],
             [
              0.8888888888888888,
              "#fdca26"
             ],
             [
              1,
              "#f0f921"
             ]
            ],
            "type": "heatmap"
           }
          ],
          "heatmapgl": [
           {
            "colorbar": {
             "outlinewidth": 0,
             "ticks": ""
            },
            "colorscale": [
             [
              0,
              "#0d0887"
             ],
             [
              0.1111111111111111,
              "#46039f"
             ],
             [
              0.2222222222222222,
              "#7201a8"
             ],
             [
              0.3333333333333333,
              "#9c179e"
             ],
             [
              0.4444444444444444,
              "#bd3786"
             ],
             [
              0.5555555555555556,
              "#d8576b"
             ],
             [
              0.6666666666666666,
              "#ed7953"
             ],
             [
              0.7777777777777778,
              "#fb9f3a"
             ],
             [
              0.8888888888888888,
              "#fdca26"
             ],
             [
              1,
              "#f0f921"
             ]
            ],
            "type": "heatmapgl"
           }
          ],
          "histogram": [
           {
            "marker": {
             "pattern": {
              "fillmode": "overlay",
              "size": 10,
              "solidity": 0.2
             }
            },
            "type": "histogram"
           }
          ],
          "histogram2d": [
           {
            "colorbar": {
             "outlinewidth": 0,
             "ticks": ""
            },
            "colorscale": [
             [
              0,
              "#0d0887"
             ],
             [
              0.1111111111111111,
              "#46039f"
             ],
             [
              0.2222222222222222,
              "#7201a8"
             ],
             [
              0.3333333333333333,
              "#9c179e"
             ],
             [
              0.4444444444444444,
              "#bd3786"
             ],
             [
              0.5555555555555556,
              "#d8576b"
             ],
             [
              0.6666666666666666,
              "#ed7953"
             ],
             [
              0.7777777777777778,
              "#fb9f3a"
             ],
             [
              0.8888888888888888,
              "#fdca26"
             ],
             [
              1,
              "#f0f921"
             ]
            ],
            "type": "histogram2d"
           }
          ],
          "histogram2dcontour": [
           {
            "colorbar": {
             "outlinewidth": 0,
             "ticks": ""
            },
            "colorscale": [
             [
              0,
              "#0d0887"
             ],
             [
              0.1111111111111111,
              "#46039f"
             ],
             [
              0.2222222222222222,
              "#7201a8"
             ],
             [
              0.3333333333333333,
              "#9c179e"
             ],
             [
              0.4444444444444444,
              "#bd3786"
             ],
             [
              0.5555555555555556,
              "#d8576b"
             ],
             [
              0.6666666666666666,
              "#ed7953"
             ],
             [
              0.7777777777777778,
              "#fb9f3a"
             ],
             [
              0.8888888888888888,
              "#fdca26"
             ],
             [
              1,
              "#f0f921"
             ]
            ],
            "type": "histogram2dcontour"
           }
          ],
          "mesh3d": [
           {
            "colorbar": {
             "outlinewidth": 0,
             "ticks": ""
            },
            "type": "mesh3d"
           }
          ],
          "parcoords": [
           {
            "line": {
             "colorbar": {
              "outlinewidth": 0,
              "ticks": ""
             }
            },
            "type": "parcoords"
           }
          ],
          "pie": [
           {
            "automargin": true,
            "type": "pie"
           }
          ],
          "scatter": [
           {
            "fillpattern": {
             "fillmode": "overlay",
             "size": 10,
             "solidity": 0.2
            },
            "type": "scatter"
           }
          ],
          "scatter3d": [
           {
            "line": {
             "colorbar": {
              "outlinewidth": 0,
              "ticks": ""
             }
            },
            "marker": {
             "colorbar": {
              "outlinewidth": 0,
              "ticks": ""
             }
            },
            "type": "scatter3d"
           }
          ],
          "scattercarpet": [
           {
            "marker": {
             "colorbar": {
              "outlinewidth": 0,
              "ticks": ""
             }
            },
            "type": "scattercarpet"
           }
          ],
          "scattergeo": [
           {
            "marker": {
             "colorbar": {
              "outlinewidth": 0,
              "ticks": ""
             }
            },
            "type": "scattergeo"
           }
          ],
          "scattergl": [
           {
            "marker": {
             "colorbar": {
              "outlinewidth": 0,
              "ticks": ""
             }
            },
            "type": "scattergl"
           }
          ],
          "scattermapbox": [
           {
            "marker": {
             "colorbar": {
              "outlinewidth": 0,
              "ticks": ""
             }
            },
            "type": "scattermapbox"
           }
          ],
          "scatterpolar": [
           {
            "marker": {
             "colorbar": {
              "outlinewidth": 0,
              "ticks": ""
             }
            },
            "type": "scatterpolar"
           }
          ],
          "scatterpolargl": [
           {
            "marker": {
             "colorbar": {
              "outlinewidth": 0,
              "ticks": ""
             }
            },
            "type": "scatterpolargl"
           }
          ],
          "scatterternary": [
           {
            "marker": {
             "colorbar": {
              "outlinewidth": 0,
              "ticks": ""
             }
            },
            "type": "scatterternary"
           }
          ],
          "surface": [
           {
            "colorbar": {
             "outlinewidth": 0,
             "ticks": ""
            },
            "colorscale": [
             [
              0,
              "#0d0887"
             ],
             [
              0.1111111111111111,
              "#46039f"
             ],
             [
              0.2222222222222222,
              "#7201a8"
             ],
             [
              0.3333333333333333,
              "#9c179e"
             ],
             [
              0.4444444444444444,
              "#bd3786"
             ],
             [
              0.5555555555555556,
              "#d8576b"
             ],
             [
              0.6666666666666666,
              "#ed7953"
             ],
             [
              0.7777777777777778,
              "#fb9f3a"
             ],
             [
              0.8888888888888888,
              "#fdca26"
             ],
             [
              1,
              "#f0f921"
             ]
            ],
            "type": "surface"
           }
          ],
          "table": [
           {
            "cells": {
             "fill": {
              "color": "#EBF0F8"
             },
             "line": {
              "color": "white"
             }
            },
            "header": {
             "fill": {
              "color": "#C8D4E3"
             },
             "line": {
              "color": "white"
             }
            },
            "type": "table"
           }
          ]
         },
         "layout": {
          "annotationdefaults": {
           "arrowcolor": "#2a3f5f",
           "arrowhead": 0,
           "arrowwidth": 1
          },
          "autotypenumbers": "strict",
          "coloraxis": {
           "colorbar": {
            "outlinewidth": 0,
            "ticks": ""
           }
          },
          "colorscale": {
           "diverging": [
            [
             0,
             "#8e0152"
            ],
            [
             0.1,
             "#c51b7d"
            ],
            [
             0.2,
             "#de77ae"
            ],
            [
             0.3,
             "#f1b6da"
            ],
            [
             0.4,
             "#fde0ef"
            ],
            [
             0.5,
             "#f7f7f7"
            ],
            [
             0.6,
             "#e6f5d0"
            ],
            [
             0.7,
             "#b8e186"
            ],
            [
             0.8,
             "#7fbc41"
            ],
            [
             0.9,
             "#4d9221"
            ],
            [
             1,
             "#276419"
            ]
           ],
           "sequential": [
            [
             0,
             "#0d0887"
            ],
            [
             0.1111111111111111,
             "#46039f"
            ],
            [
             0.2222222222222222,
             "#7201a8"
            ],
            [
             0.3333333333333333,
             "#9c179e"
            ],
            [
             0.4444444444444444,
             "#bd3786"
            ],
            [
             0.5555555555555556,
             "#d8576b"
            ],
            [
             0.6666666666666666,
             "#ed7953"
            ],
            [
             0.7777777777777778,
             "#fb9f3a"
            ],
            [
             0.8888888888888888,
             "#fdca26"
            ],
            [
             1,
             "#f0f921"
            ]
           ],
           "sequentialminus": [
            [
             0,
             "#0d0887"
            ],
            [
             0.1111111111111111,
             "#46039f"
            ],
            [
             0.2222222222222222,
             "#7201a8"
            ],
            [
             0.3333333333333333,
             "#9c179e"
            ],
            [
             0.4444444444444444,
             "#bd3786"
            ],
            [
             0.5555555555555556,
             "#d8576b"
            ],
            [
             0.6666666666666666,
             "#ed7953"
            ],
            [
             0.7777777777777778,
             "#fb9f3a"
            ],
            [
             0.8888888888888888,
             "#fdca26"
            ],
            [
             1,
             "#f0f921"
            ]
           ]
          },
          "colorway": [
           "#636efa",
           "#EF553B",
           "#00cc96",
           "#ab63fa",
           "#FFA15A",
           "#19d3f3",
           "#FF6692",
           "#B6E880",
           "#FF97FF",
           "#FECB52"
          ],
          "font": {
           "color": "#2a3f5f"
          },
          "geo": {
           "bgcolor": "white",
           "lakecolor": "white",
           "landcolor": "white",
           "showlakes": true,
           "showland": true,
           "subunitcolor": "#C8D4E3"
          },
          "hoverlabel": {
           "align": "left"
          },
          "hovermode": "closest",
          "mapbox": {
           "style": "light"
          },
          "paper_bgcolor": "white",
          "plot_bgcolor": "white",
          "polar": {
           "angularaxis": {
            "gridcolor": "#EBF0F8",
            "linecolor": "#EBF0F8",
            "ticks": ""
           },
           "bgcolor": "white",
           "radialaxis": {
            "gridcolor": "#EBF0F8",
            "linecolor": "#EBF0F8",
            "ticks": ""
           }
          },
          "scene": {
           "xaxis": {
            "backgroundcolor": "white",
            "gridcolor": "#DFE8F3",
            "gridwidth": 2,
            "linecolor": "#EBF0F8",
            "showbackground": true,
            "ticks": "",
            "zerolinecolor": "#EBF0F8"
           },
           "yaxis": {
            "backgroundcolor": "white",
            "gridcolor": "#DFE8F3",
            "gridwidth": 2,
            "linecolor": "#EBF0F8",
            "showbackground": true,
            "ticks": "",
            "zerolinecolor": "#EBF0F8"
           },
           "zaxis": {
            "backgroundcolor": "white",
            "gridcolor": "#DFE8F3",
            "gridwidth": 2,
            "linecolor": "#EBF0F8",
            "showbackground": true,
            "ticks": "",
            "zerolinecolor": "#EBF0F8"
           }
          },
          "shapedefaults": {
           "line": {
            "color": "#2a3f5f"
           }
          },
          "ternary": {
           "aaxis": {
            "gridcolor": "#DFE8F3",
            "linecolor": "#A2B1C6",
            "ticks": ""
           },
           "baxis": {
            "gridcolor": "#DFE8F3",
            "linecolor": "#A2B1C6",
            "ticks": ""
           },
           "bgcolor": "white",
           "caxis": {
            "gridcolor": "#DFE8F3",
            "linecolor": "#A2B1C6",
            "ticks": ""
           }
          },
          "title": {
           "x": 0.05
          },
          "xaxis": {
           "automargin": true,
           "gridcolor": "#EBF0F8",
           "linecolor": "#EBF0F8",
           "ticks": "",
           "title": {
            "standoff": 15
           },
           "zerolinecolor": "#EBF0F8",
           "zerolinewidth": 2
          },
          "yaxis": {
           "automargin": true,
           "gridcolor": "#EBF0F8",
           "linecolor": "#EBF0F8",
           "ticks": "",
           "title": {
            "standoff": 15
           },
           "zerolinecolor": "#EBF0F8",
           "zerolinewidth": 2
          }
         }
        },
        "xaxis": {
         "tickfont": {
          "size": 12
         }
        },
        "yaxis": {
         "tickfont": {
          "size": 12
         },
         "title": {
          "font": {
           "size": 14
          },
          "text": "% change"
         }
        }
       }
      }
     },
     "metadata": {},
     "output_type": "display_data"
    }
   ],
   "source": [
    "fig2 = go.Figure(data=[\n",
    "    go.Bar(name='Portfolio', x=plotlydf_portfval['date'], y=plotlydf_portfval['ptf_value_pctch']),\n",
    "    go.Bar(name='SP500', x=plotlydf_portfval['date'], y=plotlydf_portfval['sp500_pctch'])\n",
    "])\n",
    "# Change the bar mode\n",
    "fig2.update_layout(barmode='group')\n",
    "fig2.layout.template = CHART_THEME\n",
    "fig2.layout.height=300\n",
    "fig2.update_layout(margin = dict(t=50, b=50, l=25, r=25))\n",
    "fig2.update_layout(\n",
    "#     title='% variation - Portfolio vs SP500',\n",
    "    xaxis_tickfont_size=12,\n",
    "    yaxis=dict(\n",
    "        title='% change',\n",
    "        titlefont_size=14,\n",
    "        tickfont_size=12,\n",
    "        ))\n",
    "fig2.update_layout(legend=dict(\n",
    "    yanchor=\"top\",\n",
    "    y=0.99,\n",
    "    xanchor=\"right\",\n",
    "    x=0.99))\n",
    "\n",
    "fig2.show()"
   ]
  },
  {
   "cell_type": "code",
   "execution_count": 66,
   "metadata": {},
   "outputs": [
    {
     "data": {
      "text/html": [
       "<div>\n",
       "<style scoped>\n",
       "    .dataframe tbody tr th:only-of-type {\n",
       "        vertical-align: middle;\n",
       "    }\n",
       "\n",
       "    .dataframe tbody tr th {\n",
       "        vertical-align: top;\n",
       "    }\n",
       "\n",
       "    .dataframe thead th {\n",
       "        text-align: right;\n",
       "    }\n",
       "</style>\n",
       "<table border=\"1\" class=\"dataframe\">\n",
       "  <thead>\n",
       "    <tr style=\"text-align: right;\">\n",
       "      <th></th>\n",
       "      <th>date</th>\n",
       "      <th>ptf_growth</th>\n",
       "      <th>sp500_growth</th>\n",
       "      <th>month</th>\n",
       "      <th>weekday</th>\n",
       "      <th>year</th>\n",
       "      <th>weeknumber</th>\n",
       "      <th>timeperiod</th>\n",
       "    </tr>\n",
       "  </thead>\n",
       "  <tbody>\n",
       "    <tr>\n",
       "      <th>0</th>\n",
       "      <td>2022-01-04</td>\n",
       "      <td>1.000</td>\n",
       "      <td>1.000</td>\n",
       "      <td>January</td>\n",
       "      <td>Tuesday</td>\n",
       "      <td>2022</td>\n",
       "      <td>1</td>\n",
       "      <td>2022 - 01</td>\n",
       "    </tr>\n",
       "    <tr>\n",
       "      <th>1</th>\n",
       "      <td>2022-01-05</td>\n",
       "      <td>0.983</td>\n",
       "      <td>0.981</td>\n",
       "      <td>January</td>\n",
       "      <td>Wednesday</td>\n",
       "      <td>2022</td>\n",
       "      <td>1</td>\n",
       "      <td>2022 - 01</td>\n",
       "    </tr>\n",
       "    <tr>\n",
       "      <th>2</th>\n",
       "      <td>2022-01-06</td>\n",
       "      <td>0.971</td>\n",
       "      <td>0.980</td>\n",
       "      <td>January</td>\n",
       "      <td>Thursday</td>\n",
       "      <td>2022</td>\n",
       "      <td>1</td>\n",
       "      <td>2022 - 01</td>\n",
       "    </tr>\n",
       "    <tr>\n",
       "      <th>3</th>\n",
       "      <td>2022-01-07</td>\n",
       "      <td>0.960</td>\n",
       "      <td>0.976</td>\n",
       "      <td>January</td>\n",
       "      <td>Friday</td>\n",
       "      <td>2022</td>\n",
       "      <td>1</td>\n",
       "      <td>2022 - 01</td>\n",
       "    </tr>\n",
       "    <tr>\n",
       "      <th>4</th>\n",
       "      <td>2022-01-10</td>\n",
       "      <td>0.960</td>\n",
       "      <td>0.974</td>\n",
       "      <td>January</td>\n",
       "      <td>Monday</td>\n",
       "      <td>2022</td>\n",
       "      <td>2</td>\n",
       "      <td>2022 - 01</td>\n",
       "    </tr>\n",
       "  </tbody>\n",
       "</table>\n",
       "</div>"
      ],
      "text/plain": [
       "        date  ptf_growth  sp500_growth    month    weekday  year  weeknumber  \\\n",
       "0 2022-01-04       1.000         1.000  January    Tuesday  2022           1   \n",
       "1 2022-01-05       0.983         0.981  January  Wednesday  2022           1   \n",
       "2 2022-01-06       0.971         0.980  January   Thursday  2022           1   \n",
       "3 2022-01-07       0.960         0.976  January     Friday  2022           1   \n",
       "4 2022-01-10       0.960         0.974  January     Monday  2022           2   \n",
       "\n",
       "  timeperiod  \n",
       "0  2022 - 01  \n",
       "1  2022 - 01  \n",
       "2  2022 - 01  \n",
       "3  2022 - 01  \n",
       "4  2022 - 01  "
      ]
     },
     "execution_count": 66,
     "metadata": {},
     "output_type": "execute_result"
    }
   ],
   "source": [
    "df = plotlydf_portfval[['date', 'ptf_growth', 'sp500_growth']].copy().round(3)\n",
    "df['month'] = df.date.dt.month_name()  # date column should be formatted as datetime\n",
    "df['weekday'] = df.date.dt.day_name()  # could be interesting to analyze weekday returns later\n",
    "df['year'] = df.date.dt.year\n",
    "df['weeknumber'] = df.date.dt.isocalendar().week    # could be interesting to try instead of timeperiod\n",
    "df['timeperiod'] = df.year.astype(str) + ' - ' + df.date.dt.month.astype(str).str.zfill(2)\n",
    "df.head(5)"
   ]
  },
  {
   "cell_type": "code",
   "execution_count": 67,
   "metadata": {},
   "outputs": [
    {
     "data": {
      "text/html": [
       "<div>\n",
       "<style scoped>\n",
       "    .dataframe tbody tr th:only-of-type {\n",
       "        vertical-align: middle;\n",
       "    }\n",
       "\n",
       "    .dataframe tbody tr th {\n",
       "        vertical-align: top;\n",
       "    }\n",
       "\n",
       "    .dataframe thead th {\n",
       "        text-align: right;\n",
       "    }\n",
       "</style>\n",
       "<table border=\"1\" class=\"dataframe\">\n",
       "  <thead>\n",
       "    <tr style=\"text-align: right;\">\n",
       "      <th></th>\n",
       "      <th>timeperiod</th>\n",
       "      <th>ptf_growth</th>\n",
       "      <th>sp500_growth</th>\n",
       "    </tr>\n",
       "  </thead>\n",
       "  <tbody>\n",
       "    <tr>\n",
       "      <th>0</th>\n",
       "      <td>2022 - 01</td>\n",
       "      <td>NaN</td>\n",
       "      <td>NaN</td>\n",
       "    </tr>\n",
       "    <tr>\n",
       "      <th>1</th>\n",
       "      <td>2022 - 02</td>\n",
       "      <td>-7.196</td>\n",
       "      <td>-3.185</td>\n",
       "    </tr>\n",
       "    <tr>\n",
       "      <th>2</th>\n",
       "      <td>2022 - 03</td>\n",
       "      <td>2.281</td>\n",
       "      <td>3.618</td>\n",
       "    </tr>\n",
       "    <tr>\n",
       "      <th>3</th>\n",
       "      <td>2022 - 04</td>\n",
       "      <td>-9.142</td>\n",
       "      <td>-8.783</td>\n",
       "    </tr>\n",
       "    <tr>\n",
       "      <th>4</th>\n",
       "      <td>2022 - 05</td>\n",
       "      <td>0.368</td>\n",
       "      <td>0.000</td>\n",
       "    </tr>\n",
       "  </tbody>\n",
       "</table>\n",
       "</div>"
      ],
      "text/plain": [
       "  timeperiod  ptf_growth  sp500_growth\n",
       "0  2022 - 01         NaN           NaN\n",
       "1  2022 - 02      -7.196        -3.185\n",
       "2  2022 - 03       2.281         3.618\n",
       "3  2022 - 04      -9.142        -8.783\n",
       "4  2022 - 05       0.368         0.000"
      ]
     },
     "execution_count": 67,
     "metadata": {},
     "output_type": "execute_result"
    }
   ],
   "source": [
    "# getting the percentage change for each period. the first period will be NaN\n",
    "sp = df.reset_index().groupby('timeperiod').last()['sp500_growth'].pct_change()*100\n",
    "ptf = df.reset_index().groupby('timeperiod').last()['ptf_growth'].pct_change()*100\n",
    "plotlydf_growth_compare = pd.merge(ptf, sp, on='timeperiod').reset_index().round(3)\n",
    "plotlydf_growth_compare.head()"
   ]
  },
  {
   "cell_type": "code",
   "execution_count": 68,
   "metadata": {},
   "outputs": [
    {
     "data": {
      "application/vnd.plotly.v1+json": {
       "config": {
        "plotlyServerURL": "https://plot.ly"
       },
       "data": [
        {
         "name": "Portfolio",
         "type": "bar",
         "x": [
          "2022 - 01",
          "2022 - 02",
          "2022 - 03",
          "2022 - 04",
          "2022 - 05",
          "2022 - 06",
          "2022 - 07",
          "2022 - 08",
          "2022 - 09",
          "2022 - 10",
          "2022 - 11",
          "2022 - 12",
          "2023 - 01",
          "2023 - 02",
          "2023 - 03",
          "2023 - 04",
          "2023 - 05",
          "2023 - 06",
          "2023 - 07",
          "2023 - 08",
          "2023 - 09",
          "2023 - 10",
          "2023 - 11",
          "2023 - 12",
          "2024 - 01",
          "2024 - 02",
          "2024 - 03",
          "2024 - 04",
          "2024 - 05"
         ],
         "y": [
          null,
          -7.2,
          2.28,
          -9.14,
          0.37,
          -3.79,
          10.8,
          -4.93,
          -7.12,
          6.75,
          0.97,
          -7.23,
          4.93,
          -1.98,
          2.78,
          1.72,
          0.12,
          7.12,
          3.49,
          -1.96,
          -2.66,
          -2.17,
          8.39,
          1.18,
          -1.27,
          2.26,
          0.1,
          -2.21,
          3.12
         ]
        },
        {
         "name": "S&P 500",
         "type": "bar",
         "x": [
          "2022 - 01",
          "2022 - 02",
          "2022 - 03",
          "2022 - 04",
          "2022 - 05",
          "2022 - 06",
          "2022 - 07",
          "2022 - 08",
          "2022 - 09",
          "2022 - 10",
          "2022 - 11",
          "2022 - 12",
          "2023 - 01",
          "2023 - 02",
          "2023 - 03",
          "2023 - 04",
          "2023 - 05",
          "2023 - 06",
          "2023 - 07",
          "2023 - 08",
          "2023 - 09",
          "2023 - 10",
          "2023 - 11",
          "2023 - 12",
          "2024 - 01",
          "2024 - 02",
          "2024 - 03",
          "2024 - 04",
          "2024 - 05"
         ],
         "y": [
          null,
          -3.18,
          3.62,
          -8.78,
          0,
          -8.35,
          9.11,
          -4.29,
          -9.33,
          8.02,
          5.32,
          -5.88,
          6.12,
          -2.59,
          3.5,
          1.52,
          0.23,
          6.42,
          3.12,
          -1.78,
          -4.79,
          -2.24,
          8.91,
          4.41,
          1.61,
          5.14,
          3.1,
          -4.11,
          5.33
         ]
        }
       ],
       "layout": {
        "barmode": "group",
        "height": 300,
        "legend": {
         "x": 0.99,
         "xanchor": "right",
         "y": 0.99,
         "yanchor": "top"
        },
        "margin": {
         "b": 50,
         "l": 25,
         "r": 25,
         "t": 50
        },
        "template": {
         "data": {
          "bar": [
           {
            "error_x": {
             "color": "#2a3f5f"
            },
            "error_y": {
             "color": "#2a3f5f"
            },
            "marker": {
             "line": {
              "color": "white",
              "width": 0.5
             },
             "pattern": {
              "fillmode": "overlay",
              "size": 10,
              "solidity": 0.2
             }
            },
            "type": "bar"
           }
          ],
          "barpolar": [
           {
            "marker": {
             "line": {
              "color": "white",
              "width": 0.5
             },
             "pattern": {
              "fillmode": "overlay",
              "size": 10,
              "solidity": 0.2
             }
            },
            "type": "barpolar"
           }
          ],
          "carpet": [
           {
            "aaxis": {
             "endlinecolor": "#2a3f5f",
             "gridcolor": "#C8D4E3",
             "linecolor": "#C8D4E3",
             "minorgridcolor": "#C8D4E3",
             "startlinecolor": "#2a3f5f"
            },
            "baxis": {
             "endlinecolor": "#2a3f5f",
             "gridcolor": "#C8D4E3",
             "linecolor": "#C8D4E3",
             "minorgridcolor": "#C8D4E3",
             "startlinecolor": "#2a3f5f"
            },
            "type": "carpet"
           }
          ],
          "choropleth": [
           {
            "colorbar": {
             "outlinewidth": 0,
             "ticks": ""
            },
            "type": "choropleth"
           }
          ],
          "contour": [
           {
            "colorbar": {
             "outlinewidth": 0,
             "ticks": ""
            },
            "colorscale": [
             [
              0,
              "#0d0887"
             ],
             [
              0.1111111111111111,
              "#46039f"
             ],
             [
              0.2222222222222222,
              "#7201a8"
             ],
             [
              0.3333333333333333,
              "#9c179e"
             ],
             [
              0.4444444444444444,
              "#bd3786"
             ],
             [
              0.5555555555555556,
              "#d8576b"
             ],
             [
              0.6666666666666666,
              "#ed7953"
             ],
             [
              0.7777777777777778,
              "#fb9f3a"
             ],
             [
              0.8888888888888888,
              "#fdca26"
             ],
             [
              1,
              "#f0f921"
             ]
            ],
            "type": "contour"
           }
          ],
          "contourcarpet": [
           {
            "colorbar": {
             "outlinewidth": 0,
             "ticks": ""
            },
            "type": "contourcarpet"
           }
          ],
          "heatmap": [
           {
            "colorbar": {
             "outlinewidth": 0,
             "ticks": ""
            },
            "colorscale": [
             [
              0,
              "#0d0887"
             ],
             [
              0.1111111111111111,
              "#46039f"
             ],
             [
              0.2222222222222222,
              "#7201a8"
             ],
             [
              0.3333333333333333,
              "#9c179e"
             ],
             [
              0.4444444444444444,
              "#bd3786"
             ],
             [
              0.5555555555555556,
              "#d8576b"
             ],
             [
              0.6666666666666666,
              "#ed7953"
             ],
             [
              0.7777777777777778,
              "#fb9f3a"
             ],
             [
              0.8888888888888888,
              "#fdca26"
             ],
             [
              1,
              "#f0f921"
             ]
            ],
            "type": "heatmap"
           }
          ],
          "heatmapgl": [
           {
            "colorbar": {
             "outlinewidth": 0,
             "ticks": ""
            },
            "colorscale": [
             [
              0,
              "#0d0887"
             ],
             [
              0.1111111111111111,
              "#46039f"
             ],
             [
              0.2222222222222222,
              "#7201a8"
             ],
             [
              0.3333333333333333,
              "#9c179e"
             ],
             [
              0.4444444444444444,
              "#bd3786"
             ],
             [
              0.5555555555555556,
              "#d8576b"
             ],
             [
              0.6666666666666666,
              "#ed7953"
             ],
             [
              0.7777777777777778,
              "#fb9f3a"
             ],
             [
              0.8888888888888888,
              "#fdca26"
             ],
             [
              1,
              "#f0f921"
             ]
            ],
            "type": "heatmapgl"
           }
          ],
          "histogram": [
           {
            "marker": {
             "pattern": {
              "fillmode": "overlay",
              "size": 10,
              "solidity": 0.2
             }
            },
            "type": "histogram"
           }
          ],
          "histogram2d": [
           {
            "colorbar": {
             "outlinewidth": 0,
             "ticks": ""
            },
            "colorscale": [
             [
              0,
              "#0d0887"
             ],
             [
              0.1111111111111111,
              "#46039f"
             ],
             [
              0.2222222222222222,
              "#7201a8"
             ],
             [
              0.3333333333333333,
              "#9c179e"
             ],
             [
              0.4444444444444444,
              "#bd3786"
             ],
             [
              0.5555555555555556,
              "#d8576b"
             ],
             [
              0.6666666666666666,
              "#ed7953"
             ],
             [
              0.7777777777777778,
              "#fb9f3a"
             ],
             [
              0.8888888888888888,
              "#fdca26"
             ],
             [
              1,
              "#f0f921"
             ]
            ],
            "type": "histogram2d"
           }
          ],
          "histogram2dcontour": [
           {
            "colorbar": {
             "outlinewidth": 0,
             "ticks": ""
            },
            "colorscale": [
             [
              0,
              "#0d0887"
             ],
             [
              0.1111111111111111,
              "#46039f"
             ],
             [
              0.2222222222222222,
              "#7201a8"
             ],
             [
              0.3333333333333333,
              "#9c179e"
             ],
             [
              0.4444444444444444,
              "#bd3786"
             ],
             [
              0.5555555555555556,
              "#d8576b"
             ],
             [
              0.6666666666666666,
              "#ed7953"
             ],
             [
              0.7777777777777778,
              "#fb9f3a"
             ],
             [
              0.8888888888888888,
              "#fdca26"
             ],
             [
              1,
              "#f0f921"
             ]
            ],
            "type": "histogram2dcontour"
           }
          ],
          "mesh3d": [
           {
            "colorbar": {
             "outlinewidth": 0,
             "ticks": ""
            },
            "type": "mesh3d"
           }
          ],
          "parcoords": [
           {
            "line": {
             "colorbar": {
              "outlinewidth": 0,
              "ticks": ""
             }
            },
            "type": "parcoords"
           }
          ],
          "pie": [
           {
            "automargin": true,
            "type": "pie"
           }
          ],
          "scatter": [
           {
            "fillpattern": {
             "fillmode": "overlay",
             "size": 10,
             "solidity": 0.2
            },
            "type": "scatter"
           }
          ],
          "scatter3d": [
           {
            "line": {
             "colorbar": {
              "outlinewidth": 0,
              "ticks": ""
             }
            },
            "marker": {
             "colorbar": {
              "outlinewidth": 0,
              "ticks": ""
             }
            },
            "type": "scatter3d"
           }
          ],
          "scattercarpet": [
           {
            "marker": {
             "colorbar": {
              "outlinewidth": 0,
              "ticks": ""
             }
            },
            "type": "scattercarpet"
           }
          ],
          "scattergeo": [
           {
            "marker": {
             "colorbar": {
              "outlinewidth": 0,
              "ticks": ""
             }
            },
            "type": "scattergeo"
           }
          ],
          "scattergl": [
           {
            "marker": {
             "colorbar": {
              "outlinewidth": 0,
              "ticks": ""
             }
            },
            "type": "scattergl"
           }
          ],
          "scattermapbox": [
           {
            "marker": {
             "colorbar": {
              "outlinewidth": 0,
              "ticks": ""
             }
            },
            "type": "scattermapbox"
           }
          ],
          "scatterpolar": [
           {
            "marker": {
             "colorbar": {
              "outlinewidth": 0,
              "ticks": ""
             }
            },
            "type": "scatterpolar"
           }
          ],
          "scatterpolargl": [
           {
            "marker": {
             "colorbar": {
              "outlinewidth": 0,
              "ticks": ""
             }
            },
            "type": "scatterpolargl"
           }
          ],
          "scatterternary": [
           {
            "marker": {
             "colorbar": {
              "outlinewidth": 0,
              "ticks": ""
             }
            },
            "type": "scatterternary"
           }
          ],
          "surface": [
           {
            "colorbar": {
             "outlinewidth": 0,
             "ticks": ""
            },
            "colorscale": [
             [
              0,
              "#0d0887"
             ],
             [
              0.1111111111111111,
              "#46039f"
             ],
             [
              0.2222222222222222,
              "#7201a8"
             ],
             [
              0.3333333333333333,
              "#9c179e"
             ],
             [
              0.4444444444444444,
              "#bd3786"
             ],
             [
              0.5555555555555556,
              "#d8576b"
             ],
             [
              0.6666666666666666,
              "#ed7953"
             ],
             [
              0.7777777777777778,
              "#fb9f3a"
             ],
             [
              0.8888888888888888,
              "#fdca26"
             ],
             [
              1,
              "#f0f921"
             ]
            ],
            "type": "surface"
           }
          ],
          "table": [
           {
            "cells": {
             "fill": {
              "color": "#EBF0F8"
             },
             "line": {
              "color": "white"
             }
            },
            "header": {
             "fill": {
              "color": "#C8D4E3"
             },
             "line": {
              "color": "white"
             }
            },
            "type": "table"
           }
          ]
         },
         "layout": {
          "annotationdefaults": {
           "arrowcolor": "#2a3f5f",
           "arrowhead": 0,
           "arrowwidth": 1
          },
          "autotypenumbers": "strict",
          "coloraxis": {
           "colorbar": {
            "outlinewidth": 0,
            "ticks": ""
           }
          },
          "colorscale": {
           "diverging": [
            [
             0,
             "#8e0152"
            ],
            [
             0.1,
             "#c51b7d"
            ],
            [
             0.2,
             "#de77ae"
            ],
            [
             0.3,
             "#f1b6da"
            ],
            [
             0.4,
             "#fde0ef"
            ],
            [
             0.5,
             "#f7f7f7"
            ],
            [
             0.6,
             "#e6f5d0"
            ],
            [
             0.7,
             "#b8e186"
            ],
            [
             0.8,
             "#7fbc41"
            ],
            [
             0.9,
             "#4d9221"
            ],
            [
             1,
             "#276419"
            ]
           ],
           "sequential": [
            [
             0,
             "#0d0887"
            ],
            [
             0.1111111111111111,
             "#46039f"
            ],
            [
             0.2222222222222222,
             "#7201a8"
            ],
            [
             0.3333333333333333,
             "#9c179e"
            ],
            [
             0.4444444444444444,
             "#bd3786"
            ],
            [
             0.5555555555555556,
             "#d8576b"
            ],
            [
             0.6666666666666666,
             "#ed7953"
            ],
            [
             0.7777777777777778,
             "#fb9f3a"
            ],
            [
             0.8888888888888888,
             "#fdca26"
            ],
            [
             1,
             "#f0f921"
            ]
           ],
           "sequentialminus": [
            [
             0,
             "#0d0887"
            ],
            [
             0.1111111111111111,
             "#46039f"
            ],
            [
             0.2222222222222222,
             "#7201a8"
            ],
            [
             0.3333333333333333,
             "#9c179e"
            ],
            [
             0.4444444444444444,
             "#bd3786"
            ],
            [
             0.5555555555555556,
             "#d8576b"
            ],
            [
             0.6666666666666666,
             "#ed7953"
            ],
            [
             0.7777777777777778,
             "#fb9f3a"
            ],
            [
             0.8888888888888888,
             "#fdca26"
            ],
            [
             1,
             "#f0f921"
            ]
           ]
          },
          "colorway": [
           "#636efa",
           "#EF553B",
           "#00cc96",
           "#ab63fa",
           "#FFA15A",
           "#19d3f3",
           "#FF6692",
           "#B6E880",
           "#FF97FF",
           "#FECB52"
          ],
          "font": {
           "color": "#2a3f5f"
          },
          "geo": {
           "bgcolor": "white",
           "lakecolor": "white",
           "landcolor": "white",
           "showlakes": true,
           "showland": true,
           "subunitcolor": "#C8D4E3"
          },
          "hoverlabel": {
           "align": "left"
          },
          "hovermode": "closest",
          "mapbox": {
           "style": "light"
          },
          "paper_bgcolor": "white",
          "plot_bgcolor": "white",
          "polar": {
           "angularaxis": {
            "gridcolor": "#EBF0F8",
            "linecolor": "#EBF0F8",
            "ticks": ""
           },
           "bgcolor": "white",
           "radialaxis": {
            "gridcolor": "#EBF0F8",
            "linecolor": "#EBF0F8",
            "ticks": ""
           }
          },
          "scene": {
           "xaxis": {
            "backgroundcolor": "white",
            "gridcolor": "#DFE8F3",
            "gridwidth": 2,
            "linecolor": "#EBF0F8",
            "showbackground": true,
            "ticks": "",
            "zerolinecolor": "#EBF0F8"
           },
           "yaxis": {
            "backgroundcolor": "white",
            "gridcolor": "#DFE8F3",
            "gridwidth": 2,
            "linecolor": "#EBF0F8",
            "showbackground": true,
            "ticks": "",
            "zerolinecolor": "#EBF0F8"
           },
           "zaxis": {
            "backgroundcolor": "white",
            "gridcolor": "#DFE8F3",
            "gridwidth": 2,
            "linecolor": "#EBF0F8",
            "showbackground": true,
            "ticks": "",
            "zerolinecolor": "#EBF0F8"
           }
          },
          "shapedefaults": {
           "line": {
            "color": "#2a3f5f"
           }
          },
          "ternary": {
           "aaxis": {
            "gridcolor": "#DFE8F3",
            "linecolor": "#A2B1C6",
            "ticks": ""
           },
           "baxis": {
            "gridcolor": "#DFE8F3",
            "linecolor": "#A2B1C6",
            "ticks": ""
           },
           "bgcolor": "white",
           "caxis": {
            "gridcolor": "#DFE8F3",
            "linecolor": "#A2B1C6",
            "ticks": ""
           }
          },
          "title": {
           "x": 0.05
          },
          "xaxis": {
           "automargin": true,
           "gridcolor": "#EBF0F8",
           "linecolor": "#EBF0F8",
           "ticks": "",
           "title": {
            "standoff": 15
           },
           "zerolinecolor": "#EBF0F8",
           "zerolinewidth": 2
          },
          "yaxis": {
           "automargin": true,
           "gridcolor": "#EBF0F8",
           "linecolor": "#EBF0F8",
           "ticks": "",
           "title": {
            "standoff": 15
           },
           "zerolinecolor": "#EBF0F8",
           "zerolinewidth": 2
          }
         }
        },
        "xaxis": {
         "tickfont": {
          "size": 12
         }
        },
        "yaxis": {
         "tickfont": {
          "size": 12
         },
         "title": {
          "font": {
           "size": 13
          },
          "text": "% change"
         }
        }
       }
      }
     },
     "metadata": {},
     "output_type": "display_data"
    }
   ],
   "source": [
    "fig_growth2 = go.Figure()\n",
    "fig_growth2.layout.template = CHART_THEME\n",
    "fig_growth2.add_trace(go.Bar(\n",
    "    x=plotlydf_growth_compare.timeperiod,\n",
    "    y=plotlydf_growth_compare.ptf_growth.round(2),\n",
    "    name='Portfolio'\n",
    "))\n",
    "fig_growth2.add_trace(go.Bar(\n",
    "    x=plotlydf_growth_compare.timeperiod,\n",
    "    y=plotlydf_growth_compare.sp500_growth.round(2),\n",
    "    name='S&P 500',\n",
    "))\n",
    "fig_growth2.update_layout(barmode='group')\n",
    "fig_growth2.layout.height=300\n",
    "fig_growth2.update_layout(margin = dict(t=50, b=50, l=25, r=25))\n",
    "fig_growth2.update_layout(\n",
    "    xaxis_tickfont_size=12,\n",
    "    yaxis=dict(\n",
    "        title='% change',\n",
    "        titlefont_size=13,\n",
    "        tickfont_size=12,\n",
    "        ))\n",
    "\n",
    "fig_growth2.update_layout(legend=dict(\n",
    "    yanchor=\"top\",\n",
    "    y=0.99,\n",
    "    xanchor=\"right\",\n",
    "    x=0.99))\n",
    "fig_growth2.show()"
   ]
  },
  {
   "cell_type": "code",
   "execution_count": 69,
   "metadata": {},
   "outputs": [
    {
     "data": {
      "application/vnd.plotly.v1+json": {
       "config": {
        "plotlyServerURL": "https://plot.ly"
       },
       "data": [
        {
         "domain": {
          "column": 0,
          "row": 0
         },
         "mode": "number+delta",
         "number": {
          "font": {
           "size": 30
          },
          "suffix": " %"
         },
         "title": {
          "text": "<br><span style='font-size:2em;color:gray'>Daily return</span>"
         },
         "type": "indicator",
         "value": 0.13
        },
        {
         "domain": {
          "column": 0,
          "row": 1
         },
         "mode": "number+delta",
         "number": {
          "font": {
           "size": 30
          }
         },
         "title": {
          "text": "<span style='font-size:2em;color:gray'>Sharpe ratio</span>"
         },
         "type": "indicator",
         "value": -0.01
        },
        {
         "domain": {
          "column": 0,
          "row": 2
         },
         "mode": "number+delta",
         "number": {
          "font": {
           "size": 30
          }
         },
         "title": {
          "text": "<span style='font-size:2em;color:gray'>Beta</span>"
         },
         "type": "indicator",
         "value": 0.95
        },
        {
         "domain": {
          "column": 1,
          "row": 3
         },
         "mode": "number+delta",
         "number": {
          "font": {
           "size": 30
          },
          "suffix": " %"
         },
         "title": {
          "text": "<span style='font-size:2em;color:gray'>Tracking error</span>"
         },
         "type": "indicator",
         "value": 0.5638658610677281
        }
       ],
       "layout": {
        "grid": {
         "columns": 1,
         "pattern": "independent",
         "rows": 4
        },
        "margin": {
         "b": 30,
         "l": 50,
         "r": 50,
         "t": 30
        },
        "template": {
         "data": {
          "bar": [
           {
            "error_x": {
             "color": "#2a3f5f"
            },
            "error_y": {
             "color": "#2a3f5f"
            },
            "marker": {
             "line": {
              "color": "white",
              "width": 0.5
             },
             "pattern": {
              "fillmode": "overlay",
              "size": 10,
              "solidity": 0.2
             }
            },
            "type": "bar"
           }
          ],
          "barpolar": [
           {
            "marker": {
             "line": {
              "color": "white",
              "width": 0.5
             },
             "pattern": {
              "fillmode": "overlay",
              "size": 10,
              "solidity": 0.2
             }
            },
            "type": "barpolar"
           }
          ],
          "carpet": [
           {
            "aaxis": {
             "endlinecolor": "#2a3f5f",
             "gridcolor": "#C8D4E3",
             "linecolor": "#C8D4E3",
             "minorgridcolor": "#C8D4E3",
             "startlinecolor": "#2a3f5f"
            },
            "baxis": {
             "endlinecolor": "#2a3f5f",
             "gridcolor": "#C8D4E3",
             "linecolor": "#C8D4E3",
             "minorgridcolor": "#C8D4E3",
             "startlinecolor": "#2a3f5f"
            },
            "type": "carpet"
           }
          ],
          "choropleth": [
           {
            "colorbar": {
             "outlinewidth": 0,
             "ticks": ""
            },
            "type": "choropleth"
           }
          ],
          "contour": [
           {
            "colorbar": {
             "outlinewidth": 0,
             "ticks": ""
            },
            "colorscale": [
             [
              0,
              "#0d0887"
             ],
             [
              0.1111111111111111,
              "#46039f"
             ],
             [
              0.2222222222222222,
              "#7201a8"
             ],
             [
              0.3333333333333333,
              "#9c179e"
             ],
             [
              0.4444444444444444,
              "#bd3786"
             ],
             [
              0.5555555555555556,
              "#d8576b"
             ],
             [
              0.6666666666666666,
              "#ed7953"
             ],
             [
              0.7777777777777778,
              "#fb9f3a"
             ],
             [
              0.8888888888888888,
              "#fdca26"
             ],
             [
              1,
              "#f0f921"
             ]
            ],
            "type": "contour"
           }
          ],
          "contourcarpet": [
           {
            "colorbar": {
             "outlinewidth": 0,
             "ticks": ""
            },
            "type": "contourcarpet"
           }
          ],
          "heatmap": [
           {
            "colorbar": {
             "outlinewidth": 0,
             "ticks": ""
            },
            "colorscale": [
             [
              0,
              "#0d0887"
             ],
             [
              0.1111111111111111,
              "#46039f"
             ],
             [
              0.2222222222222222,
              "#7201a8"
             ],
             [
              0.3333333333333333,
              "#9c179e"
             ],
             [
              0.4444444444444444,
              "#bd3786"
             ],
             [
              0.5555555555555556,
              "#d8576b"
             ],
             [
              0.6666666666666666,
              "#ed7953"
             ],
             [
              0.7777777777777778,
              "#fb9f3a"
             ],
             [
              0.8888888888888888,
              "#fdca26"
             ],
             [
              1,
              "#f0f921"
             ]
            ],
            "type": "heatmap"
           }
          ],
          "heatmapgl": [
           {
            "colorbar": {
             "outlinewidth": 0,
             "ticks": ""
            },
            "colorscale": [
             [
              0,
              "#0d0887"
             ],
             [
              0.1111111111111111,
              "#46039f"
             ],
             [
              0.2222222222222222,
              "#7201a8"
             ],
             [
              0.3333333333333333,
              "#9c179e"
             ],
             [
              0.4444444444444444,
              "#bd3786"
             ],
             [
              0.5555555555555556,
              "#d8576b"
             ],
             [
              0.6666666666666666,
              "#ed7953"
             ],
             [
              0.7777777777777778,
              "#fb9f3a"
             ],
             [
              0.8888888888888888,
              "#fdca26"
             ],
             [
              1,
              "#f0f921"
             ]
            ],
            "type": "heatmapgl"
           }
          ],
          "histogram": [
           {
            "marker": {
             "pattern": {
              "fillmode": "overlay",
              "size": 10,
              "solidity": 0.2
             }
            },
            "type": "histogram"
           }
          ],
          "histogram2d": [
           {
            "colorbar": {
             "outlinewidth": 0,
             "ticks": ""
            },
            "colorscale": [
             [
              0,
              "#0d0887"
             ],
             [
              0.1111111111111111,
              "#46039f"
             ],
             [
              0.2222222222222222,
              "#7201a8"
             ],
             [
              0.3333333333333333,
              "#9c179e"
             ],
             [
              0.4444444444444444,
              "#bd3786"
             ],
             [
              0.5555555555555556,
              "#d8576b"
             ],
             [
              0.6666666666666666,
              "#ed7953"
             ],
             [
              0.7777777777777778,
              "#fb9f3a"
             ],
             [
              0.8888888888888888,
              "#fdca26"
             ],
             [
              1,
              "#f0f921"
             ]
            ],
            "type": "histogram2d"
           }
          ],
          "histogram2dcontour": [
           {
            "colorbar": {
             "outlinewidth": 0,
             "ticks": ""
            },
            "colorscale": [
             [
              0,
              "#0d0887"
             ],
             [
              0.1111111111111111,
              "#46039f"
             ],
             [
              0.2222222222222222,
              "#7201a8"
             ],
             [
              0.3333333333333333,
              "#9c179e"
             ],
             [
              0.4444444444444444,
              "#bd3786"
             ],
             [
              0.5555555555555556,
              "#d8576b"
             ],
             [
              0.6666666666666666,
              "#ed7953"
             ],
             [
              0.7777777777777778,
              "#fb9f3a"
             ],
             [
              0.8888888888888888,
              "#fdca26"
             ],
             [
              1,
              "#f0f921"
             ]
            ],
            "type": "histogram2dcontour"
           }
          ],
          "mesh3d": [
           {
            "colorbar": {
             "outlinewidth": 0,
             "ticks": ""
            },
            "type": "mesh3d"
           }
          ],
          "parcoords": [
           {
            "line": {
             "colorbar": {
              "outlinewidth": 0,
              "ticks": ""
             }
            },
            "type": "parcoords"
           }
          ],
          "pie": [
           {
            "automargin": true,
            "type": "pie"
           }
          ],
          "scatter": [
           {
            "fillpattern": {
             "fillmode": "overlay",
             "size": 10,
             "solidity": 0.2
            },
            "type": "scatter"
           }
          ],
          "scatter3d": [
           {
            "line": {
             "colorbar": {
              "outlinewidth": 0,
              "ticks": ""
             }
            },
            "marker": {
             "colorbar": {
              "outlinewidth": 0,
              "ticks": ""
             }
            },
            "type": "scatter3d"
           }
          ],
          "scattercarpet": [
           {
            "marker": {
             "colorbar": {
              "outlinewidth": 0,
              "ticks": ""
             }
            },
            "type": "scattercarpet"
           }
          ],
          "scattergeo": [
           {
            "marker": {
             "colorbar": {
              "outlinewidth": 0,
              "ticks": ""
             }
            },
            "type": "scattergeo"
           }
          ],
          "scattergl": [
           {
            "marker": {
             "colorbar": {
              "outlinewidth": 0,
              "ticks": ""
             }
            },
            "type": "scattergl"
           }
          ],
          "scattermapbox": [
           {
            "marker": {
             "colorbar": {
              "outlinewidth": 0,
              "ticks": ""
             }
            },
            "type": "scattermapbox"
           }
          ],
          "scatterpolar": [
           {
            "marker": {
             "colorbar": {
              "outlinewidth": 0,
              "ticks": ""
             }
            },
            "type": "scatterpolar"
           }
          ],
          "scatterpolargl": [
           {
            "marker": {
             "colorbar": {
              "outlinewidth": 0,
              "ticks": ""
             }
            },
            "type": "scatterpolargl"
           }
          ],
          "scatterternary": [
           {
            "marker": {
             "colorbar": {
              "outlinewidth": 0,
              "ticks": ""
             }
            },
            "type": "scatterternary"
           }
          ],
          "surface": [
           {
            "colorbar": {
             "outlinewidth": 0,
             "ticks": ""
            },
            "colorscale": [
             [
              0,
              "#0d0887"
             ],
             [
              0.1111111111111111,
              "#46039f"
             ],
             [
              0.2222222222222222,
              "#7201a8"
             ],
             [
              0.3333333333333333,
              "#9c179e"
             ],
             [
              0.4444444444444444,
              "#bd3786"
             ],
             [
              0.5555555555555556,
              "#d8576b"
             ],
             [
              0.6666666666666666,
              "#ed7953"
             ],
             [
              0.7777777777777778,
              "#fb9f3a"
             ],
             [
              0.8888888888888888,
              "#fdca26"
             ],
             [
              1,
              "#f0f921"
             ]
            ],
            "type": "surface"
           }
          ],
          "table": [
           {
            "cells": {
             "fill": {
              "color": "#EBF0F8"
             },
             "line": {
              "color": "white"
             }
            },
            "header": {
             "fill": {
              "color": "#C8D4E3"
             },
             "line": {
              "color": "white"
             }
            },
            "type": "table"
           }
          ]
         },
         "layout": {
          "annotationdefaults": {
           "arrowcolor": "#2a3f5f",
           "arrowhead": 0,
           "arrowwidth": 1
          },
          "autotypenumbers": "strict",
          "coloraxis": {
           "colorbar": {
            "outlinewidth": 0,
            "ticks": ""
           }
          },
          "colorscale": {
           "diverging": [
            [
             0,
             "#8e0152"
            ],
            [
             0.1,
             "#c51b7d"
            ],
            [
             0.2,
             "#de77ae"
            ],
            [
             0.3,
             "#f1b6da"
            ],
            [
             0.4,
             "#fde0ef"
            ],
            [
             0.5,
             "#f7f7f7"
            ],
            [
             0.6,
             "#e6f5d0"
            ],
            [
             0.7,
             "#b8e186"
            ],
            [
             0.8,
             "#7fbc41"
            ],
            [
             0.9,
             "#4d9221"
            ],
            [
             1,
             "#276419"
            ]
           ],
           "sequential": [
            [
             0,
             "#0d0887"
            ],
            [
             0.1111111111111111,
             "#46039f"
            ],
            [
             0.2222222222222222,
             "#7201a8"
            ],
            [
             0.3333333333333333,
             "#9c179e"
            ],
            [
             0.4444444444444444,
             "#bd3786"
            ],
            [
             0.5555555555555556,
             "#d8576b"
            ],
            [
             0.6666666666666666,
             "#ed7953"
            ],
            [
             0.7777777777777778,
             "#fb9f3a"
            ],
            [
             0.8888888888888888,
             "#fdca26"
            ],
            [
             1,
             "#f0f921"
            ]
           ],
           "sequentialminus": [
            [
             0,
             "#0d0887"
            ],
            [
             0.1111111111111111,
             "#46039f"
            ],
            [
             0.2222222222222222,
             "#7201a8"
            ],
            [
             0.3333333333333333,
             "#9c179e"
            ],
            [
             0.4444444444444444,
             "#bd3786"
            ],
            [
             0.5555555555555556,
             "#d8576b"
            ],
            [
             0.6666666666666666,
             "#ed7953"
            ],
            [
             0.7777777777777778,
             "#fb9f3a"
            ],
            [
             0.8888888888888888,
             "#fdca26"
            ],
            [
             1,
             "#f0f921"
            ]
           ]
          },
          "colorway": [
           "#636efa",
           "#EF553B",
           "#00cc96",
           "#ab63fa",
           "#FFA15A",
           "#19d3f3",
           "#FF6692",
           "#B6E880",
           "#FF97FF",
           "#FECB52"
          ],
          "font": {
           "color": "#2a3f5f"
          },
          "geo": {
           "bgcolor": "white",
           "lakecolor": "white",
           "landcolor": "white",
           "showlakes": true,
           "showland": true,
           "subunitcolor": "#C8D4E3"
          },
          "hoverlabel": {
           "align": "left"
          },
          "hovermode": "closest",
          "mapbox": {
           "style": "light"
          },
          "paper_bgcolor": "white",
          "plot_bgcolor": "white",
          "polar": {
           "angularaxis": {
            "gridcolor": "#EBF0F8",
            "linecolor": "#EBF0F8",
            "ticks": ""
           },
           "bgcolor": "white",
           "radialaxis": {
            "gridcolor": "#EBF0F8",
            "linecolor": "#EBF0F8",
            "ticks": ""
           }
          },
          "scene": {
           "xaxis": {
            "backgroundcolor": "white",
            "gridcolor": "#DFE8F3",
            "gridwidth": 2,
            "linecolor": "#EBF0F8",
            "showbackground": true,
            "ticks": "",
            "zerolinecolor": "#EBF0F8"
           },
           "yaxis": {
            "backgroundcolor": "white",
            "gridcolor": "#DFE8F3",
            "gridwidth": 2,
            "linecolor": "#EBF0F8",
            "showbackground": true,
            "ticks": "",
            "zerolinecolor": "#EBF0F8"
           },
           "zaxis": {
            "backgroundcolor": "white",
            "gridcolor": "#DFE8F3",
            "gridwidth": 2,
            "linecolor": "#EBF0F8",
            "showbackground": true,
            "ticks": "",
            "zerolinecolor": "#EBF0F8"
           }
          },
          "shapedefaults": {
           "line": {
            "color": "#2a3f5f"
           }
          },
          "ternary": {
           "aaxis": {
            "gridcolor": "#DFE8F3",
            "linecolor": "#A2B1C6",
            "ticks": ""
           },
           "baxis": {
            "gridcolor": "#DFE8F3",
            "linecolor": "#A2B1C6",
            "ticks": ""
           },
           "bgcolor": "white",
           "caxis": {
            "gridcolor": "#DFE8F3",
            "linecolor": "#A2B1C6",
            "ticks": ""
           }
          },
          "title": {
           "x": 0.05
          },
          "xaxis": {
           "automargin": true,
           "gridcolor": "#EBF0F8",
           "linecolor": "#EBF0F8",
           "ticks": "",
           "title": {
            "standoff": 15
           },
           "zerolinecolor": "#EBF0F8",
           "zerolinewidth": 2
          },
          "yaxis": {
           "automargin": true,
           "gridcolor": "#EBF0F8",
           "linecolor": "#EBF0F8",
           "ticks": "",
           "title": {
            "standoff": 15
           },
           "zerolinecolor": "#EBF0F8",
           "zerolinewidth": 2
          }
         }
        }
       }
      }
     },
     "metadata": {},
     "output_type": "display_data"
    }
   ],
   "source": [
    "returns_list = [kpi_portfolio7d_pct, kpi_portfolio15d_pct, kpi_portfolio30d_pct, kpi_portfolio200d_pct]\n",
    "\n",
    "indicators_ptf = go.Figure()\n",
    "indicators_ptf.layout.template = CHART_THEME\n",
    "\n",
    "indicators_ptf.add_trace(go.Indicator(\n",
    "    mode=\"number+delta\",\n",
    "    value= return_1day,# Set the initial value to the value for 1 day\n",
    "    number={'suffix': \" %\", 'font': {'size': 30}},\n",
    "    title={\"text\": \"<br><span style='font-size:2em;color:gray'>Daily return</span>\"},\n",
    "    domain={'row': 0, 'column': 0}\n",
    "))\n",
    "\n",
    "indicators_ptf.add_trace(go.Indicator(\n",
    "    mode = \"number+delta\",\n",
    "    value = sharpe_ratio.round(2),\n",
    "    number = {'font':{'size':30}},\n",
    "    title = {\"text\": \"<span style='font-size:2em;color:gray'>Sharpe ratio</span>\"},\n",
    "    domain = {'row': 1, 'column': 0}))\n",
    "\n",
    "indicators_ptf.add_trace(go.Indicator(\n",
    "    mode = \"number+delta\",\n",
    "    value = beta,\n",
    "    number = {'font':{'size':30}},\n",
    "    title = {\"text\": \"<span style='font-size:2em;color:gray'>Beta</span>\"},\n",
    "    domain = {'row': 2, 'column': 0}))\n",
    "\n",
    "indicators_ptf.add_trace(go.Indicator(\n",
    "    mode = \"number+delta\",\n",
    "    value = te * 100,\n",
    "    number = {'suffix': \" %\", 'font':{'size':30}},\n",
    "    title = {\"text\": \"<span style='font-size:2em;color:gray'>Tracking error</span>\"},\n",
    "    domain = {'row': 3, 'column': 1}))\n",
    "\n",
    "indicators_ptf.update_layout(\n",
    "    grid = {'rows': 4, 'columns': 1, 'pattern': \"independent\"},\n",
    "    margin=dict(l=50, r=50, t=30, b=30),\n",
    ")"
   ]
  },
  {
   "cell_type": "code",
   "execution_count": 70,
   "metadata": {},
   "outputs": [
    {
     "data": {
      "application/vnd.plotly.v1+json": {
       "config": {
        "plotlyServerURL": "https://plot.ly"
       },
       "data": [
        {
         "domain": {
          "column": 0,
          "row": 0
         },
         "mode": "number+delta",
         "number": {
          "font": {
           "size": 30
          },
          "suffix": " %"
         },
         "title": {
          "text": "<br><span style='font-size:2em;color:gray'>Volatility</span>"
         },
         "type": "indicator",
         "value": 1.2
        },
        {
         "domain": {
          "column": 0,
          "row": 1
         },
         "mode": "number+delta",
         "number": {
          "font": {
           "size": 30
          },
          "suffix": " %"
         },
         "title": {
          "text": "<span style='font-size:2em;color:gray'>VaR 5d</span>"
         },
         "type": "indicator",
         "value": -2
        },
        {
         "domain": {
          "column": 0,
          "row": 2
         },
         "mode": "number+delta",
         "number": {
          "font": {
           "size": 30
          },
          "suffix": " %"
         },
         "title": {
          "text": "<span style='font-size:2em;color:gray'>ES 5d</span>"
         },
         "type": "indicator",
         "value": -2.7
        },
        {
         "domain": {
          "column": 1,
          "row": 3
         },
         "mode": "number+delta",
         "number": {
          "font": {
           "size": 30
          },
          "suffix": " %"
         },
         "title": {
          "text": "<span style='font-size:2em;color:gray'>Max drawdown</span>"
         },
         "type": "indicator",
         "value": -23.694237857553848
        }
       ],
       "layout": {
        "grid": {
         "columns": 1,
         "pattern": "independent",
         "rows": 4
        },
        "margin": {
         "b": 30,
         "l": 50,
         "r": 50,
         "t": 30
        },
        "template": {
         "data": {
          "bar": [
           {
            "error_x": {
             "color": "#2a3f5f"
            },
            "error_y": {
             "color": "#2a3f5f"
            },
            "marker": {
             "line": {
              "color": "white",
              "width": 0.5
             },
             "pattern": {
              "fillmode": "overlay",
              "size": 10,
              "solidity": 0.2
             }
            },
            "type": "bar"
           }
          ],
          "barpolar": [
           {
            "marker": {
             "line": {
              "color": "white",
              "width": 0.5
             },
             "pattern": {
              "fillmode": "overlay",
              "size": 10,
              "solidity": 0.2
             }
            },
            "type": "barpolar"
           }
          ],
          "carpet": [
           {
            "aaxis": {
             "endlinecolor": "#2a3f5f",
             "gridcolor": "#C8D4E3",
             "linecolor": "#C8D4E3",
             "minorgridcolor": "#C8D4E3",
             "startlinecolor": "#2a3f5f"
            },
            "baxis": {
             "endlinecolor": "#2a3f5f",
             "gridcolor": "#C8D4E3",
             "linecolor": "#C8D4E3",
             "minorgridcolor": "#C8D4E3",
             "startlinecolor": "#2a3f5f"
            },
            "type": "carpet"
           }
          ],
          "choropleth": [
           {
            "colorbar": {
             "outlinewidth": 0,
             "ticks": ""
            },
            "type": "choropleth"
           }
          ],
          "contour": [
           {
            "colorbar": {
             "outlinewidth": 0,
             "ticks": ""
            },
            "colorscale": [
             [
              0,
              "#0d0887"
             ],
             [
              0.1111111111111111,
              "#46039f"
             ],
             [
              0.2222222222222222,
              "#7201a8"
             ],
             [
              0.3333333333333333,
              "#9c179e"
             ],
             [
              0.4444444444444444,
              "#bd3786"
             ],
             [
              0.5555555555555556,
              "#d8576b"
             ],
             [
              0.6666666666666666,
              "#ed7953"
             ],
             [
              0.7777777777777778,
              "#fb9f3a"
             ],
             [
              0.8888888888888888,
              "#fdca26"
             ],
             [
              1,
              "#f0f921"
             ]
            ],
            "type": "contour"
           }
          ],
          "contourcarpet": [
           {
            "colorbar": {
             "outlinewidth": 0,
             "ticks": ""
            },
            "type": "contourcarpet"
           }
          ],
          "heatmap": [
           {
            "colorbar": {
             "outlinewidth": 0,
             "ticks": ""
            },
            "colorscale": [
             [
              0,
              "#0d0887"
             ],
             [
              0.1111111111111111,
              "#46039f"
             ],
             [
              0.2222222222222222,
              "#7201a8"
             ],
             [
              0.3333333333333333,
              "#9c179e"
             ],
             [
              0.4444444444444444,
              "#bd3786"
             ],
             [
              0.5555555555555556,
              "#d8576b"
             ],
             [
              0.6666666666666666,
              "#ed7953"
             ],
             [
              0.7777777777777778,
              "#fb9f3a"
             ],
             [
              0.8888888888888888,
              "#fdca26"
             ],
             [
              1,
              "#f0f921"
             ]
            ],
            "type": "heatmap"
           }
          ],
          "heatmapgl": [
           {
            "colorbar": {
             "outlinewidth": 0,
             "ticks": ""
            },
            "colorscale": [
             [
              0,
              "#0d0887"
             ],
             [
              0.1111111111111111,
              "#46039f"
             ],
             [
              0.2222222222222222,
              "#7201a8"
             ],
             [
              0.3333333333333333,
              "#9c179e"
             ],
             [
              0.4444444444444444,
              "#bd3786"
             ],
             [
              0.5555555555555556,
              "#d8576b"
             ],
             [
              0.6666666666666666,
              "#ed7953"
             ],
             [
              0.7777777777777778,
              "#fb9f3a"
             ],
             [
              0.8888888888888888,
              "#fdca26"
             ],
             [
              1,
              "#f0f921"
             ]
            ],
            "type": "heatmapgl"
           }
          ],
          "histogram": [
           {
            "marker": {
             "pattern": {
              "fillmode": "overlay",
              "size": 10,
              "solidity": 0.2
             }
            },
            "type": "histogram"
           }
          ],
          "histogram2d": [
           {
            "colorbar": {
             "outlinewidth": 0,
             "ticks": ""
            },
            "colorscale": [
             [
              0,
              "#0d0887"
             ],
             [
              0.1111111111111111,
              "#46039f"
             ],
             [
              0.2222222222222222,
              "#7201a8"
             ],
             [
              0.3333333333333333,
              "#9c179e"
             ],
             [
              0.4444444444444444,
              "#bd3786"
             ],
             [
              0.5555555555555556,
              "#d8576b"
             ],
             [
              0.6666666666666666,
              "#ed7953"
             ],
             [
              0.7777777777777778,
              "#fb9f3a"
             ],
             [
              0.8888888888888888,
              "#fdca26"
             ],
             [
              1,
              "#f0f921"
             ]
            ],
            "type": "histogram2d"
           }
          ],
          "histogram2dcontour": [
           {
            "colorbar": {
             "outlinewidth": 0,
             "ticks": ""
            },
            "colorscale": [
             [
              0,
              "#0d0887"
             ],
             [
              0.1111111111111111,
              "#46039f"
             ],
             [
              0.2222222222222222,
              "#7201a8"
             ],
             [
              0.3333333333333333,
              "#9c179e"
             ],
             [
              0.4444444444444444,
              "#bd3786"
             ],
             [
              0.5555555555555556,
              "#d8576b"
             ],
             [
              0.6666666666666666,
              "#ed7953"
             ],
             [
              0.7777777777777778,
              "#fb9f3a"
             ],
             [
              0.8888888888888888,
              "#fdca26"
             ],
             [
              1,
              "#f0f921"
             ]
            ],
            "type": "histogram2dcontour"
           }
          ],
          "mesh3d": [
           {
            "colorbar": {
             "outlinewidth": 0,
             "ticks": ""
            },
            "type": "mesh3d"
           }
          ],
          "parcoords": [
           {
            "line": {
             "colorbar": {
              "outlinewidth": 0,
              "ticks": ""
             }
            },
            "type": "parcoords"
           }
          ],
          "pie": [
           {
            "automargin": true,
            "type": "pie"
           }
          ],
          "scatter": [
           {
            "fillpattern": {
             "fillmode": "overlay",
             "size": 10,
             "solidity": 0.2
            },
            "type": "scatter"
           }
          ],
          "scatter3d": [
           {
            "line": {
             "colorbar": {
              "outlinewidth": 0,
              "ticks": ""
             }
            },
            "marker": {
             "colorbar": {
              "outlinewidth": 0,
              "ticks": ""
             }
            },
            "type": "scatter3d"
           }
          ],
          "scattercarpet": [
           {
            "marker": {
             "colorbar": {
              "outlinewidth": 0,
              "ticks": ""
             }
            },
            "type": "scattercarpet"
           }
          ],
          "scattergeo": [
           {
            "marker": {
             "colorbar": {
              "outlinewidth": 0,
              "ticks": ""
             }
            },
            "type": "scattergeo"
           }
          ],
          "scattergl": [
           {
            "marker": {
             "colorbar": {
              "outlinewidth": 0,
              "ticks": ""
             }
            },
            "type": "scattergl"
           }
          ],
          "scattermapbox": [
           {
            "marker": {
             "colorbar": {
              "outlinewidth": 0,
              "ticks": ""
             }
            },
            "type": "scattermapbox"
           }
          ],
          "scatterpolar": [
           {
            "marker": {
             "colorbar": {
              "outlinewidth": 0,
              "ticks": ""
             }
            },
            "type": "scatterpolar"
           }
          ],
          "scatterpolargl": [
           {
            "marker": {
             "colorbar": {
              "outlinewidth": 0,
              "ticks": ""
             }
            },
            "type": "scatterpolargl"
           }
          ],
          "scatterternary": [
           {
            "marker": {
             "colorbar": {
              "outlinewidth": 0,
              "ticks": ""
             }
            },
            "type": "scatterternary"
           }
          ],
          "surface": [
           {
            "colorbar": {
             "outlinewidth": 0,
             "ticks": ""
            },
            "colorscale": [
             [
              0,
              "#0d0887"
             ],
             [
              0.1111111111111111,
              "#46039f"
             ],
             [
              0.2222222222222222,
              "#7201a8"
             ],
             [
              0.3333333333333333,
              "#9c179e"
             ],
             [
              0.4444444444444444,
              "#bd3786"
             ],
             [
              0.5555555555555556,
              "#d8576b"
             ],
             [
              0.6666666666666666,
              "#ed7953"
             ],
             [
              0.7777777777777778,
              "#fb9f3a"
             ],
             [
              0.8888888888888888,
              "#fdca26"
             ],
             [
              1,
              "#f0f921"
             ]
            ],
            "type": "surface"
           }
          ],
          "table": [
           {
            "cells": {
             "fill": {
              "color": "#EBF0F8"
             },
             "line": {
              "color": "white"
             }
            },
            "header": {
             "fill": {
              "color": "#C8D4E3"
             },
             "line": {
              "color": "white"
             }
            },
            "type": "table"
           }
          ]
         },
         "layout": {
          "annotationdefaults": {
           "arrowcolor": "#2a3f5f",
           "arrowhead": 0,
           "arrowwidth": 1
          },
          "autotypenumbers": "strict",
          "coloraxis": {
           "colorbar": {
            "outlinewidth": 0,
            "ticks": ""
           }
          },
          "colorscale": {
           "diverging": [
            [
             0,
             "#8e0152"
            ],
            [
             0.1,
             "#c51b7d"
            ],
            [
             0.2,
             "#de77ae"
            ],
            [
             0.3,
             "#f1b6da"
            ],
            [
             0.4,
             "#fde0ef"
            ],
            [
             0.5,
             "#f7f7f7"
            ],
            [
             0.6,
             "#e6f5d0"
            ],
            [
             0.7,
             "#b8e186"
            ],
            [
             0.8,
             "#7fbc41"
            ],
            [
             0.9,
             "#4d9221"
            ],
            [
             1,
             "#276419"
            ]
           ],
           "sequential": [
            [
             0,
             "#0d0887"
            ],
            [
             0.1111111111111111,
             "#46039f"
            ],
            [
             0.2222222222222222,
             "#7201a8"
            ],
            [
             0.3333333333333333,
             "#9c179e"
            ],
            [
             0.4444444444444444,
             "#bd3786"
            ],
            [
             0.5555555555555556,
             "#d8576b"
            ],
            [
             0.6666666666666666,
             "#ed7953"
            ],
            [
             0.7777777777777778,
             "#fb9f3a"
            ],
            [
             0.8888888888888888,
             "#fdca26"
            ],
            [
             1,
             "#f0f921"
            ]
           ],
           "sequentialminus": [
            [
             0,
             "#0d0887"
            ],
            [
             0.1111111111111111,
             "#46039f"
            ],
            [
             0.2222222222222222,
             "#7201a8"
            ],
            [
             0.3333333333333333,
             "#9c179e"
            ],
            [
             0.4444444444444444,
             "#bd3786"
            ],
            [
             0.5555555555555556,
             "#d8576b"
            ],
            [
             0.6666666666666666,
             "#ed7953"
            ],
            [
             0.7777777777777778,
             "#fb9f3a"
            ],
            [
             0.8888888888888888,
             "#fdca26"
            ],
            [
             1,
             "#f0f921"
            ]
           ]
          },
          "colorway": [
           "#636efa",
           "#EF553B",
           "#00cc96",
           "#ab63fa",
           "#FFA15A",
           "#19d3f3",
           "#FF6692",
           "#B6E880",
           "#FF97FF",
           "#FECB52"
          ],
          "font": {
           "color": "#2a3f5f"
          },
          "geo": {
           "bgcolor": "white",
           "lakecolor": "white",
           "landcolor": "white",
           "showlakes": true,
           "showland": true,
           "subunitcolor": "#C8D4E3"
          },
          "hoverlabel": {
           "align": "left"
          },
          "hovermode": "closest",
          "mapbox": {
           "style": "light"
          },
          "paper_bgcolor": "white",
          "plot_bgcolor": "white",
          "polar": {
           "angularaxis": {
            "gridcolor": "#EBF0F8",
            "linecolor": "#EBF0F8",
            "ticks": ""
           },
           "bgcolor": "white",
           "radialaxis": {
            "gridcolor": "#EBF0F8",
            "linecolor": "#EBF0F8",
            "ticks": ""
           }
          },
          "scene": {
           "xaxis": {
            "backgroundcolor": "white",
            "gridcolor": "#DFE8F3",
            "gridwidth": 2,
            "linecolor": "#EBF0F8",
            "showbackground": true,
            "ticks": "",
            "zerolinecolor": "#EBF0F8"
           },
           "yaxis": {
            "backgroundcolor": "white",
            "gridcolor": "#DFE8F3",
            "gridwidth": 2,
            "linecolor": "#EBF0F8",
            "showbackground": true,
            "ticks": "",
            "zerolinecolor": "#EBF0F8"
           },
           "zaxis": {
            "backgroundcolor": "white",
            "gridcolor": "#DFE8F3",
            "gridwidth": 2,
            "linecolor": "#EBF0F8",
            "showbackground": true,
            "ticks": "",
            "zerolinecolor": "#EBF0F8"
           }
          },
          "shapedefaults": {
           "line": {
            "color": "#2a3f5f"
           }
          },
          "ternary": {
           "aaxis": {
            "gridcolor": "#DFE8F3",
            "linecolor": "#A2B1C6",
            "ticks": ""
           },
           "baxis": {
            "gridcolor": "#DFE8F3",
            "linecolor": "#A2B1C6",
            "ticks": ""
           },
           "bgcolor": "white",
           "caxis": {
            "gridcolor": "#DFE8F3",
            "linecolor": "#A2B1C6",
            "ticks": ""
           }
          },
          "title": {
           "x": 0.05
          },
          "xaxis": {
           "automargin": true,
           "gridcolor": "#EBF0F8",
           "linecolor": "#EBF0F8",
           "ticks": "",
           "title": {
            "standoff": 15
           },
           "zerolinecolor": "#EBF0F8",
           "zerolinewidth": 2
          },
          "yaxis": {
           "automargin": true,
           "gridcolor": "#EBF0F8",
           "linecolor": "#EBF0F8",
           "ticks": "",
           "title": {
            "standoff": 15
           },
           "zerolinecolor": "#EBF0F8",
           "zerolinewidth": 2
          }
         }
        }
       }
      }
     },
     "metadata": {},
     "output_type": "display_data"
    }
   ],
   "source": [
    "indicators_ptf2 = go.Figure()\n",
    "indicators_ptf2.layout.template = CHART_THEME\n",
    "indicators_ptf2.add_trace(go.Indicator(\n",
    "    mode = \"number+delta\",\n",
    "    value = volatility,\n",
    "    number = {'suffix': \" %\", 'font':{'size':30}},\n",
    "    title = {\"text\": \"<br><span style='font-size:2em;color:gray'>Volatility</span>\"},\n",
    "    domain = {'row': 0, 'column': 0}))\n",
    "\n",
    "indicators_ptf2.add_trace(go.Indicator(\n",
    "    mode = \"number+delta\",\n",
    "    value = vaR_95,\n",
    "    number = {'suffix': \" %\", 'font':{'size':30}},\n",
    "    title = {\"text\": \"<span style='font-size:2em;color:gray'>VaR 5d</span>\"},\n",
    "    domain = {'row': 1, 'column': 0}))\n",
    "\n",
    "indicators_ptf2.add_trace(go.Indicator(\n",
    "    mode = \"number+delta\",\n",
    "    value = es_95,\n",
    "    number = {'suffix': \" %\", 'font':{'size':30}},\n",
    "    title = {\"text\": \"<span style='font-size:2em;color:gray'>ES 5d</span>\"},\n",
    "    domain = {'row': 2, 'column': 0}))\n",
    "\n",
    "indicators_ptf2.add_trace(go.Indicator(\n",
    "    mode = \"number+delta\",\n",
    "    value = max_drawdown * 100,\n",
    "    number = {'suffix': \" %\", 'font':{'size':30}},\n",
    "    title = {\"text\": \"<span style='font-size:2em;color:gray'>Max drawdown</span>\"},\n",
    "    domain = {'row': 3, 'column': 1}))\n",
    "\n",
    "indicators_ptf2.update_layout(\n",
    "    grid = {'rows': 4, 'columns': 1, 'pattern': \"independent\"},\n",
    "    margin=dict(l=50, r=50, t=30, b=30)\n",
    ")"
   ]
  },
  {
   "cell_type": "code",
   "execution_count": 71,
   "metadata": {},
   "outputs": [],
   "source": [
    "last_positions = final_filtered.groupby(['ticker']).agg({'cml_units': 'last', 'cml_cost': 'last',\n",
    "                                                'gain_loss': 'sum', 'cashflow': 'sum'}).reset_index()"
   ]
  },
  {
   "cell_type": "code",
   "execution_count": 72,
   "metadata": {},
   "outputs": [
    {
     "name": "stdout",
     "output_type": "stream",
     "text": [
      "Done for AAPL\n",
      "Done for AMZN\n",
      "Done for GOOGL\n",
      "Done for JNJ\n",
      "Done for JPM\n",
      "Done for MA\n",
      "Done for PG\n",
      "Done for PYPL\n",
      "Done for TSLA\n",
      "Done for UNH\n",
      "Done for V\n",
      "CPU times: user 40.2 ms, sys: 12.4 ms, total: 52.5 ms\n",
      "Wall time: 747 ms\n"
     ]
    },
    {
     "data": {
      "text/plain": [
       "11"
      ]
     },
     "execution_count": 72,
     "metadata": {},
     "output_type": "execute_result"
    }
   ],
   "source": [
    "%%time\n",
    "curr_prices = []\n",
    "for tick in last_positions['ticker']:\n",
    "    stonk = yf.Ticker(tick)\n",
    "    price = stonk.info['regularMarketOpen']\n",
    "    curr_prices.append(price)\n",
    "    print(f'Done for {tick}')\n",
    "len(curr_prices)"
   ]
  },
  {
   "cell_type": "code",
   "execution_count": 73,
   "metadata": {},
   "outputs": [],
   "source": [
    "last_positions['price'] = curr_prices\n",
    "last_positions['current_value'] = (last_positions.price * last_positions.cml_units).round(2)\n",
    "last_positions['avg_price'] = (last_positions.cml_cost / last_positions.cml_units).round(2)\n",
    "last_positions = last_positions.sort_values(by='current_value', ascending=False)"
   ]
  },
  {
   "cell_type": "code",
   "execution_count": 74,
   "metadata": {},
   "outputs": [
    {
     "data": {
      "application/vnd.plotly.v1+json": {
       "config": {
        "plotlyServerURL": "https://plot.ly"
       },
       "data": [
        {
         "hole": 0.7,
         "hoverinfo": "label+value+percent",
         "labels": [
          "UNH",
          "MA",
          "V",
          "AAPL",
          "JPM",
          "GOOGL",
          "PG",
          "JNJ",
          "AMZN",
          "PYPL",
          "TSLA"
         ],
         "textinfo": "label+value",
         "textposition": "outside",
         "type": "pie",
         "values": [
          10322.2,
          9050.2,
          5500.2,
          4720.5,
          3955,
          3502,
          3317,
          2990.6,
          1816.5,
          1240.6,
          -5244.3
         ]
        }
       ],
       "layout": {
        "margin": {
         "b": 50,
         "l": 25,
         "r": 25,
         "t": 50
        },
        "showlegend": false,
        "template": {
         "data": {
          "bar": [
           {
            "error_x": {
             "color": "#2a3f5f"
            },
            "error_y": {
             "color": "#2a3f5f"
            },
            "marker": {
             "line": {
              "color": "white",
              "width": 0.5
             },
             "pattern": {
              "fillmode": "overlay",
              "size": 10,
              "solidity": 0.2
             }
            },
            "type": "bar"
           }
          ],
          "barpolar": [
           {
            "marker": {
             "line": {
              "color": "white",
              "width": 0.5
             },
             "pattern": {
              "fillmode": "overlay",
              "size": 10,
              "solidity": 0.2
             }
            },
            "type": "barpolar"
           }
          ],
          "carpet": [
           {
            "aaxis": {
             "endlinecolor": "#2a3f5f",
             "gridcolor": "#C8D4E3",
             "linecolor": "#C8D4E3",
             "minorgridcolor": "#C8D4E3",
             "startlinecolor": "#2a3f5f"
            },
            "baxis": {
             "endlinecolor": "#2a3f5f",
             "gridcolor": "#C8D4E3",
             "linecolor": "#C8D4E3",
             "minorgridcolor": "#C8D4E3",
             "startlinecolor": "#2a3f5f"
            },
            "type": "carpet"
           }
          ],
          "choropleth": [
           {
            "colorbar": {
             "outlinewidth": 0,
             "ticks": ""
            },
            "type": "choropleth"
           }
          ],
          "contour": [
           {
            "colorbar": {
             "outlinewidth": 0,
             "ticks": ""
            },
            "colorscale": [
             [
              0,
              "#0d0887"
             ],
             [
              0.1111111111111111,
              "#46039f"
             ],
             [
              0.2222222222222222,
              "#7201a8"
             ],
             [
              0.3333333333333333,
              "#9c179e"
             ],
             [
              0.4444444444444444,
              "#bd3786"
             ],
             [
              0.5555555555555556,
              "#d8576b"
             ],
             [
              0.6666666666666666,
              "#ed7953"
             ],
             [
              0.7777777777777778,
              "#fb9f3a"
             ],
             [
              0.8888888888888888,
              "#fdca26"
             ],
             [
              1,
              "#f0f921"
             ]
            ],
            "type": "contour"
           }
          ],
          "contourcarpet": [
           {
            "colorbar": {
             "outlinewidth": 0,
             "ticks": ""
            },
            "type": "contourcarpet"
           }
          ],
          "heatmap": [
           {
            "colorbar": {
             "outlinewidth": 0,
             "ticks": ""
            },
            "colorscale": [
             [
              0,
              "#0d0887"
             ],
             [
              0.1111111111111111,
              "#46039f"
             ],
             [
              0.2222222222222222,
              "#7201a8"
             ],
             [
              0.3333333333333333,
              "#9c179e"
             ],
             [
              0.4444444444444444,
              "#bd3786"
             ],
             [
              0.5555555555555556,
              "#d8576b"
             ],
             [
              0.6666666666666666,
              "#ed7953"
             ],
             [
              0.7777777777777778,
              "#fb9f3a"
             ],
             [
              0.8888888888888888,
              "#fdca26"
             ],
             [
              1,
              "#f0f921"
             ]
            ],
            "type": "heatmap"
           }
          ],
          "heatmapgl": [
           {
            "colorbar": {
             "outlinewidth": 0,
             "ticks": ""
            },
            "colorscale": [
             [
              0,
              "#0d0887"
             ],
             [
              0.1111111111111111,
              "#46039f"
             ],
             [
              0.2222222222222222,
              "#7201a8"
             ],
             [
              0.3333333333333333,
              "#9c179e"
             ],
             [
              0.4444444444444444,
              "#bd3786"
             ],
             [
              0.5555555555555556,
              "#d8576b"
             ],
             [
              0.6666666666666666,
              "#ed7953"
             ],
             [
              0.7777777777777778,
              "#fb9f3a"
             ],
             [
              0.8888888888888888,
              "#fdca26"
             ],
             [
              1,
              "#f0f921"
             ]
            ],
            "type": "heatmapgl"
           }
          ],
          "histogram": [
           {
            "marker": {
             "pattern": {
              "fillmode": "overlay",
              "size": 10,
              "solidity": 0.2
             }
            },
            "type": "histogram"
           }
          ],
          "histogram2d": [
           {
            "colorbar": {
             "outlinewidth": 0,
             "ticks": ""
            },
            "colorscale": [
             [
              0,
              "#0d0887"
             ],
             [
              0.1111111111111111,
              "#46039f"
             ],
             [
              0.2222222222222222,
              "#7201a8"
             ],
             [
              0.3333333333333333,
              "#9c179e"
             ],
             [
              0.4444444444444444,
              "#bd3786"
             ],
             [
              0.5555555555555556,
              "#d8576b"
             ],
             [
              0.6666666666666666,
              "#ed7953"
             ],
             [
              0.7777777777777778,
              "#fb9f3a"
             ],
             [
              0.8888888888888888,
              "#fdca26"
             ],
             [
              1,
              "#f0f921"
             ]
            ],
            "type": "histogram2d"
           }
          ],
          "histogram2dcontour": [
           {
            "colorbar": {
             "outlinewidth": 0,
             "ticks": ""
            },
            "colorscale": [
             [
              0,
              "#0d0887"
             ],
             [
              0.1111111111111111,
              "#46039f"
             ],
             [
              0.2222222222222222,
              "#7201a8"
             ],
             [
              0.3333333333333333,
              "#9c179e"
             ],
             [
              0.4444444444444444,
              "#bd3786"
             ],
             [
              0.5555555555555556,
              "#d8576b"
             ],
             [
              0.6666666666666666,
              "#ed7953"
             ],
             [
              0.7777777777777778,
              "#fb9f3a"
             ],
             [
              0.8888888888888888,
              "#fdca26"
             ],
             [
              1,
              "#f0f921"
             ]
            ],
            "type": "histogram2dcontour"
           }
          ],
          "mesh3d": [
           {
            "colorbar": {
             "outlinewidth": 0,
             "ticks": ""
            },
            "type": "mesh3d"
           }
          ],
          "parcoords": [
           {
            "line": {
             "colorbar": {
              "outlinewidth": 0,
              "ticks": ""
             }
            },
            "type": "parcoords"
           }
          ],
          "pie": [
           {
            "automargin": true,
            "type": "pie"
           }
          ],
          "scatter": [
           {
            "fillpattern": {
             "fillmode": "overlay",
             "size": 10,
             "solidity": 0.2
            },
            "type": "scatter"
           }
          ],
          "scatter3d": [
           {
            "line": {
             "colorbar": {
              "outlinewidth": 0,
              "ticks": ""
             }
            },
            "marker": {
             "colorbar": {
              "outlinewidth": 0,
              "ticks": ""
             }
            },
            "type": "scatter3d"
           }
          ],
          "scattercarpet": [
           {
            "marker": {
             "colorbar": {
              "outlinewidth": 0,
              "ticks": ""
             }
            },
            "type": "scattercarpet"
           }
          ],
          "scattergeo": [
           {
            "marker": {
             "colorbar": {
              "outlinewidth": 0,
              "ticks": ""
             }
            },
            "type": "scattergeo"
           }
          ],
          "scattergl": [
           {
            "marker": {
             "colorbar": {
              "outlinewidth": 0,
              "ticks": ""
             }
            },
            "type": "scattergl"
           }
          ],
          "scattermapbox": [
           {
            "marker": {
             "colorbar": {
              "outlinewidth": 0,
              "ticks": ""
             }
            },
            "type": "scattermapbox"
           }
          ],
          "scatterpolar": [
           {
            "marker": {
             "colorbar": {
              "outlinewidth": 0,
              "ticks": ""
             }
            },
            "type": "scatterpolar"
           }
          ],
          "scatterpolargl": [
           {
            "marker": {
             "colorbar": {
              "outlinewidth": 0,
              "ticks": ""
             }
            },
            "type": "scatterpolargl"
           }
          ],
          "scatterternary": [
           {
            "marker": {
             "colorbar": {
              "outlinewidth": 0,
              "ticks": ""
             }
            },
            "type": "scatterternary"
           }
          ],
          "surface": [
           {
            "colorbar": {
             "outlinewidth": 0,
             "ticks": ""
            },
            "colorscale": [
             [
              0,
              "#0d0887"
             ],
             [
              0.1111111111111111,
              "#46039f"
             ],
             [
              0.2222222222222222,
              "#7201a8"
             ],
             [
              0.3333333333333333,
              "#9c179e"
             ],
             [
              0.4444444444444444,
              "#bd3786"
             ],
             [
              0.5555555555555556,
              "#d8576b"
             ],
             [
              0.6666666666666666,
              "#ed7953"
             ],
             [
              0.7777777777777778,
              "#fb9f3a"
             ],
             [
              0.8888888888888888,
              "#fdca26"
             ],
             [
              1,
              "#f0f921"
             ]
            ],
            "type": "surface"
           }
          ],
          "table": [
           {
            "cells": {
             "fill": {
              "color": "#EBF0F8"
             },
             "line": {
              "color": "white"
             }
            },
            "header": {
             "fill": {
              "color": "#C8D4E3"
             },
             "line": {
              "color": "white"
             }
            },
            "type": "table"
           }
          ]
         },
         "layout": {
          "annotationdefaults": {
           "arrowcolor": "#2a3f5f",
           "arrowhead": 0,
           "arrowwidth": 1
          },
          "autotypenumbers": "strict",
          "coloraxis": {
           "colorbar": {
            "outlinewidth": 0,
            "ticks": ""
           }
          },
          "colorscale": {
           "diverging": [
            [
             0,
             "#8e0152"
            ],
            [
             0.1,
             "#c51b7d"
            ],
            [
             0.2,
             "#de77ae"
            ],
            [
             0.3,
             "#f1b6da"
            ],
            [
             0.4,
             "#fde0ef"
            ],
            [
             0.5,
             "#f7f7f7"
            ],
            [
             0.6,
             "#e6f5d0"
            ],
            [
             0.7,
             "#b8e186"
            ],
            [
             0.8,
             "#7fbc41"
            ],
            [
             0.9,
             "#4d9221"
            ],
            [
             1,
             "#276419"
            ]
           ],
           "sequential": [
            [
             0,
             "#0d0887"
            ],
            [
             0.1111111111111111,
             "#46039f"
            ],
            [
             0.2222222222222222,
             "#7201a8"
            ],
            [
             0.3333333333333333,
             "#9c179e"
            ],
            [
             0.4444444444444444,
             "#bd3786"
            ],
            [
             0.5555555555555556,
             "#d8576b"
            ],
            [
             0.6666666666666666,
             "#ed7953"
            ],
            [
             0.7777777777777778,
             "#fb9f3a"
            ],
            [
             0.8888888888888888,
             "#fdca26"
            ],
            [
             1,
             "#f0f921"
            ]
           ],
           "sequentialminus": [
            [
             0,
             "#0d0887"
            ],
            [
             0.1111111111111111,
             "#46039f"
            ],
            [
             0.2222222222222222,
             "#7201a8"
            ],
            [
             0.3333333333333333,
             "#9c179e"
            ],
            [
             0.4444444444444444,
             "#bd3786"
            ],
            [
             0.5555555555555556,
             "#d8576b"
            ],
            [
             0.6666666666666666,
             "#ed7953"
            ],
            [
             0.7777777777777778,
             "#fb9f3a"
            ],
            [
             0.8888888888888888,
             "#fdca26"
            ],
            [
             1,
             "#f0f921"
            ]
           ]
          },
          "colorway": [
           "#636efa",
           "#EF553B",
           "#00cc96",
           "#ab63fa",
           "#FFA15A",
           "#19d3f3",
           "#FF6692",
           "#B6E880",
           "#FF97FF",
           "#FECB52"
          ],
          "font": {
           "color": "#2a3f5f"
          },
          "geo": {
           "bgcolor": "white",
           "lakecolor": "white",
           "landcolor": "white",
           "showlakes": true,
           "showland": true,
           "subunitcolor": "#C8D4E3"
          },
          "hoverlabel": {
           "align": "left"
          },
          "hovermode": "closest",
          "mapbox": {
           "style": "light"
          },
          "paper_bgcolor": "white",
          "plot_bgcolor": "white",
          "polar": {
           "angularaxis": {
            "gridcolor": "#EBF0F8",
            "linecolor": "#EBF0F8",
            "ticks": ""
           },
           "bgcolor": "white",
           "radialaxis": {
            "gridcolor": "#EBF0F8",
            "linecolor": "#EBF0F8",
            "ticks": ""
           }
          },
          "scene": {
           "xaxis": {
            "backgroundcolor": "white",
            "gridcolor": "#DFE8F3",
            "gridwidth": 2,
            "linecolor": "#EBF0F8",
            "showbackground": true,
            "ticks": "",
            "zerolinecolor": "#EBF0F8"
           },
           "yaxis": {
            "backgroundcolor": "white",
            "gridcolor": "#DFE8F3",
            "gridwidth": 2,
            "linecolor": "#EBF0F8",
            "showbackground": true,
            "ticks": "",
            "zerolinecolor": "#EBF0F8"
           },
           "zaxis": {
            "backgroundcolor": "white",
            "gridcolor": "#DFE8F3",
            "gridwidth": 2,
            "linecolor": "#EBF0F8",
            "showbackground": true,
            "ticks": "",
            "zerolinecolor": "#EBF0F8"
           }
          },
          "shapedefaults": {
           "line": {
            "color": "#2a3f5f"
           }
          },
          "ternary": {
           "aaxis": {
            "gridcolor": "#DFE8F3",
            "linecolor": "#A2B1C6",
            "ticks": ""
           },
           "baxis": {
            "gridcolor": "#DFE8F3",
            "linecolor": "#A2B1C6",
            "ticks": ""
           },
           "bgcolor": "white",
           "caxis": {
            "gridcolor": "#DFE8F3",
            "linecolor": "#A2B1C6",
            "ticks": ""
           }
          },
          "title": {
           "x": 0.05
          },
          "xaxis": {
           "automargin": true,
           "gridcolor": "#EBF0F8",
           "linecolor": "#EBF0F8",
           "ticks": "",
           "title": {
            "standoff": 15
           },
           "zerolinecolor": "#EBF0F8",
           "zerolinewidth": 2
          },
          "yaxis": {
           "automargin": true,
           "gridcolor": "#EBF0F8",
           "linecolor": "#EBF0F8",
           "ticks": "",
           "title": {
            "standoff": 15
           },
           "zerolinecolor": "#EBF0F8",
           "zerolinewidth": 2
          }
         }
        }
       }
      }
     },
     "metadata": {},
     "output_type": "display_data"
    }
   ],
   "source": [
    "donut_top = go.Figure()\n",
    "donut_top.layout.template = CHART_THEME\n",
    "donut_top.add_trace(go.Pie(labels=last_positions.head(15).ticker, values=last_positions.head(15).current_value))\n",
    "donut_top.update_traces(hole=0.7, hoverinfo=\"label+value+percent\")\n",
    "donut_top.update_traces(textposition='outside', textinfo='label+value')\n",
    "donut_top.update_layout(showlegend=False)\n",
    "donut_top.update_layout(margin = dict(t=50, b=50, l=25, r=25))\n",
    "donut_top.show()"
   ]
  },
  {
   "cell_type": "code",
   "execution_count": 75,
   "metadata": {},
   "outputs": [
    {
     "data": {
      "text/html": [
       "\n",
       "        <iframe\n",
       "            width=\"100%\"\n",
       "            height=\"650\"\n",
       "            src=\"http://127.0.0.1:8058/\"\n",
       "            frameborder=\"0\"\n",
       "            allowfullscreen\n",
       "            \n",
       "        ></iframe>\n",
       "        "
      ],
      "text/plain": [
       "<IPython.lib.display.IFrame at 0x30a525850>"
      ]
     },
     "metadata": {},
     "output_type": "display_data"
    }
   ],
   "source": [
    "app = dash.Dash(__name__, external_stylesheets=[dbc.themes.FLATLY])\n",
    "\n",
    "app.layout = dbc.Container(\n",
    "    [\n",
    "        dbc.Row(dbc.Col(html.H2('PORTFOLIO OVERVIEW', className='text-center text-primary, mb-3'))),  # header row\n",
    "        \n",
    "        dbc.Row([  # start of second row\n",
    "            dbc.Col([  # first column on second row\n",
    "            html.H5('Total Portfolio Value ($USD)', className='text-center'),\n",
    "            dcc.Graph(id='chrt-portfolio-main',\n",
    "                      figure=chart_ptfvalue,\n",
    "                      style={'height':550}),\n",
    "            html.Hr(),\n",
    "            ], width={'size': 8, 'offset': 0, 'order': 1}),  # width first column on second row\n",
    "            dbc.Col([  # second column on second row\n",
    "            html.H5('Performance', className='text-center'),\n",
    "            dcc.Graph(id='indicators-ptf',\n",
    "                      figure=indicators_ptf,\n",
    "                      style={'height':550}),\n",
    "            html.Hr()\n",
    "            ], width={'size': 2, 'offset': 0, 'order': 2}),  # width second column on second row\n",
    "            dbc.Col([  # third column on second row\n",
    "            html.H5('Risk metrics', className='text-center'),\n",
    "            dcc.Graph(id='indicators-sp',\n",
    "                      figure=indicators_ptf2,\n",
    "                      style={'height':550}),\n",
    "            html.Hr()\n",
    "            ], width={'size': 2, 'offset': 0, 'order': 3}),  # width third column on second row\n",
    "        ]),  # end of second row\n",
    "        \n",
    "        dbc.Row([  # start of third row\n",
    "            dbc.Col([  # first column on third row\n",
    "                html.H5('Monthly Return (%)', className='text-center'),\n",
    "                dcc.Graph(id='chrt-portfolio-secondary',\n",
    "                      figure=fig_growth2,\n",
    "                      style={'height':380}),\n",
    "            ], width={'size': 8, 'offset': 0, 'order': 1}),  # width first column on second row\n",
    "            dbc.Col([  # second column on third row\n",
    "                html.H5('Top 15 Holdings', className='text-center'),\n",
    "                dcc.Graph(id='pie-top15',\n",
    "                      figure = donut_top,\n",
    "                      style={'height':380}),\n",
    "            ], width={'size': 4, 'offset': 0, 'order': 2}),  # width second column on second row\n",
    "        ])  # end of third row\n",
    "        \n",
    "    ], fluid=True)\n",
    "\n",
    "if __name__ == \"__main__\":\n",
    "    app.run_server(debug=True, port=8058)"
   ]
  },
  {
   "cell_type": "code",
   "execution_count": null,
   "metadata": {},
   "outputs": [],
   "source": []
  },
  {
   "cell_type": "code",
   "execution_count": null,
   "metadata": {},
   "outputs": [],
   "source": []
  }
 ],
 "metadata": {
  "kernelspec": {
   "display_name": "venv",
   "language": "python",
   "name": "python3"
  },
  "language_info": {
   "codemirror_mode": {
    "name": "ipython",
    "version": 3
   },
   "file_extension": ".py",
   "mimetype": "text/x-python",
   "name": "python",
   "nbconvert_exporter": "python",
   "pygments_lexer": "ipython3",
   "version": "3.11.4"
  }
 },
 "nbformat": 4,
 "nbformat_minor": 2
}
